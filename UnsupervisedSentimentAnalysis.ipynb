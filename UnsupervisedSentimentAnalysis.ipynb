{
 "cells": [
  {
   "cell_type": "markdown",
   "metadata": {},
   "source": [
    "# Sentiment Analysis on Unlabeled Data"
   ]
  },
  {
   "cell_type": "markdown",
   "metadata": {},
   "source": [
    "In this notebook, I use basic techniques to do sentiment analysis on unlabeled data extracted from ESPN. \n",
    "\n",
    "<b>Outline:</b>\n",
    "\n",
    "<li>Extract data from Flipboard from their Sports, Technology, Business, Science and Politics subpages</li>\n",
    "<li>Preprocess and clean the data using some standard techniques</li>\n",
    "<li>Text Parsing</li>\n",
    "\n",
    "I first scrape a news website to extract data then clean up the data using some standard preprocessing techniques and then use `nltk` and `spacy` libraries to categorize data. "
   ]
  },
  {
   "cell_type": "markdown",
   "metadata": {},
   "source": [
    "__Load the libraries__"
   ]
  },
  {
   "cell_type": "code",
   "execution_count": 1,
   "metadata": {},
   "outputs": [],
   "source": [
    "import requests\n",
    "from bs4 import BeautifulSoup\n",
    "import pandas as pd\n",
    "import numpy as np\n",
    "import matplotlib.pyplot as plt\n",
    "import seaborn as sns\n",
    "import os\n",
    "\n",
    "%matplotlib inline"
   ]
  },
  {
   "cell_type": "markdown",
   "metadata": {},
   "source": [
    "## Get data"
   ]
  },
  {
   "cell_type": "markdown",
   "metadata": {},
   "source": [
    "Website scraper to create data"
   ]
  },
  {
   "cell_type": "code",
   "execution_count": 60,
   "metadata": {},
   "outputs": [],
   "source": [
    "seed_urls = ['https://flipboard.com/topic/sports',\n",
    "             'https://flipboard.com/topic/technology',\n",
    "             'https://flipboard.com/topic/business',\n",
    "             'https://flipboard.com/topic/science',\n",
    "             'https://flipboard.com/topic/politics']\n",
    "\n",
    "def build_dataset(seed_urls):\n",
    "    news_data = []\n",
    "    for url in seed_urls:\n",
    "        print(url)\n",
    "        news_category = url.split('/')[-1]\n",
    "        data = requests.get(url)\n",
    "        soup = BeautifulSoup(data.content, 'html.parser')\n",
    "        #return soup\n",
    "        for headline, article in zip(soup.find_all('h1', class_=[\"post__title article-text--title--large\"]),\n",
    "                                                     soup.find_all('p', class_=[\"post__excerpt\"])):\n",
    "            print(headline, article)\n",
    "            print({'news_headline': headline.find('a', attrs={\"data-test-id\": \"home-feeds\"}).string,\n",
    "                          'news_article': article.find('a', attrs={\"class\": \"article-text--body\"}).string,\n",
    "                          'news_category': news_category})\n",
    "        \"\"\"\n",
    "        news_articles = [{'news_headline': headline.find('a', attrs={\"data-test-id\": \"home-feeds\"}).string,\n",
    "                          'news_article': article.find('a', attrs={\"class\": \"article-text--body internal-link\"}).string,\n",
    "                          'news_category': news_category}\n",
    "                        \n",
    "                        for headline, article in zip(soup.find_all('h1', class_=[\"post__title article-text--title--large\"]),\n",
    "                                                     soup.find_all('p', class_=[\"post__excerpt\"]))\n",
    "                        \n",
    "                        ]\n",
    "        \n",
    "        news_data.extend(news_articles)\n",
    "        #print(news_data)\n",
    "    df = pd.DataFrame(news_data)\n",
    "    df = df[['news_headline', 'news_article', 'news_category']]\n",
    "    return df\n",
    "    \"\"\""
   ]
  },
  {
   "cell_type": "code",
   "execution_count": 79,
   "metadata": {},
   "outputs": [],
   "source": [
    "seed_urls = ['https://flipboard.com/topic/sports',\n",
    "             'https://flipboard.com/topic/technology',\n",
    "             'https://flipboard.com/topic/business',\n",
    "             'https://flipboard.com/topic/science',\n",
    "             'https://flipboard.com/topic/politics']\n",
    "\n",
    "def build_dataset(seed_urls):\n",
    "    news_data = []\n",
    "    for url in seed_urls:\n",
    "        print('Extracting data from...', url)\n",
    "        news_category = url.split('/')[-1]\n",
    "        data = requests.get(url)\n",
    "        soup = BeautifulSoup(data.content, 'html.parser')\n",
    "        \n",
    "        news_articles = [{'news_headline': headline.find('a', attrs={\"data-test-id\": \"home-feeds\"}).string,\n",
    "                          'news_article': article.find('a', attrs={\"class\": \"article-text--body\"}).string,\n",
    "                          'news_category': news_category}\n",
    "                        \n",
    "                        for headline, article in zip(soup.find_all('h1', class_=[\"post__title article-text--title--large\"]),\n",
    "                                                     soup.find_all('p', class_=[\"post__excerpt\"]))]\n",
    "        news_data.extend(news_articles)\n",
    "    \n",
    "    df = pd.DataFrame(news_data)\n",
    "    df[['news_headline', 'news_article', 'news_category']]\n",
    "    return df"
   ]
  },
  {
   "cell_type": "code",
   "execution_count": 80,
   "metadata": {
    "scrolled": false
   },
   "outputs": [
    {
     "name": "stdout",
     "output_type": "stream",
     "text": [
      "Extracting data from... https://flipboard.com/topic/sports\n",
      "Extracting data from... https://flipboard.com/topic/technology\n",
      "Extracting data from... https://flipboard.com/topic/business\n",
      "Extracting data from... https://flipboard.com/topic/science\n",
      "Extracting data from... https://flipboard.com/topic/politics\n"
     ]
    },
    {
     "data": {
      "text/html": [
       "<div>\n",
       "<style scoped>\n",
       "    .dataframe tbody tr th:only-of-type {\n",
       "        vertical-align: middle;\n",
       "    }\n",
       "\n",
       "    .dataframe tbody tr th {\n",
       "        vertical-align: top;\n",
       "    }\n",
       "\n",
       "    .dataframe thead th {\n",
       "        text-align: right;\n",
       "    }\n",
       "</style>\n",
       "<table border=\"1\" class=\"dataframe\">\n",
       "  <thead>\n",
       "    <tr style=\"text-align: right;\">\n",
       "      <th></th>\n",
       "      <th>news_headline</th>\n",
       "      <th>news_article</th>\n",
       "      <th>news_category</th>\n",
       "    </tr>\n",
       "  </thead>\n",
       "  <tbody>\n",
       "    <tr>\n",
       "      <th>0</th>\n",
       "      <td>Lady Gaga shocks fans by sharing a very intim...</td>\n",
       "      <td>Lady Gaga is certainly not hiding her love fo...</td>\n",
       "      <td>sports</td>\n",
       "    </tr>\n",
       "    <tr>\n",
       "      <th>1</th>\n",
       "      <td>Report: Buffalo Bills to meet with tight end ...</td>\n",
       "      <td>Within hours of Greg Olsen being released by ...</td>\n",
       "      <td>sports</td>\n",
       "    </tr>\n",
       "    <tr>\n",
       "      <th>2</th>\n",
       "      <td>Report: Celtics, Rockets Discussing Major NBA...</td>\n",
       "      <td>This week will be hectic in the NBA. The leag...</td>\n",
       "      <td>sports</td>\n",
       "    </tr>\n",
       "    <tr>\n",
       "      <th>3</th>\n",
       "      <td>NBA trade deadline rumors: Andre Iguodala pre...</td>\n",
       "      <td>The Feb. 6 NBA trade deadline is fast approac...</td>\n",
       "      <td>sports</td>\n",
       "    </tr>\n",
       "    <tr>\n",
       "      <th>4</th>\n",
       "      <td>Stephen A. Smith blasts Kyle Shanahan after 4...</td>\n",
       "      <td>Kyle Shanahan abandoned the run when the 49er...</td>\n",
       "      <td>sports</td>\n",
       "    </tr>\n",
       "    <tr>\n",
       "      <th>...</th>\n",
       "      <td>...</td>\n",
       "      <td>...</td>\n",
       "      <td>...</td>\n",
       "    </tr>\n",
       "    <tr>\n",
       "      <th>144</th>\n",
       "      <td>Schiff Warns of Acquittal Precedent: Trump ‘C...</td>\n",
       "      <td>Representative Adam Schiff (D., Calif.) said ...</td>\n",
       "      <td>politics</td>\n",
       "    </tr>\n",
       "    <tr>\n",
       "      <th>145</th>\n",
       "      <td>Iowa Democratic presidential caucus is too ea...</td>\n",
       "      <td>The first-in-the-nation Democratic presidenti...</td>\n",
       "      <td>politics</td>\n",
       "    </tr>\n",
       "    <tr>\n",
       "      <th>146</th>\n",
       "      <td>President Trump to deliver State of the Union...</td>\n",
       "      <td>The lingering impeachment trial looms over th...</td>\n",
       "      <td>politics</td>\n",
       "    </tr>\n",
       "    <tr>\n",
       "      <th>147</th>\n",
       "      <td>Iowa caucus will offer assemblies in Spanish ...</td>\n",
       "      <td>The Iowa caucuses are set up in a way that dis...</td>\n",
       "      <td>politics</td>\n",
       "    </tr>\n",
       "    <tr>\n",
       "      <th>148</th>\n",
       "      <td>The Messy Math Behind the Iowa Caucuses</td>\n",
       "      <td>The Iowa caucuses are the first event of each ...</td>\n",
       "      <td>politics</td>\n",
       "    </tr>\n",
       "  </tbody>\n",
       "</table>\n",
       "<p>149 rows × 3 columns</p>\n",
       "</div>"
      ],
      "text/plain": [
       "                                         news_headline  \\\n",
       "0     Lady Gaga shocks fans by sharing a very intim...   \n",
       "1     Report: Buffalo Bills to meet with tight end ...   \n",
       "2     Report: Celtics, Rockets Discussing Major NBA...   \n",
       "3     NBA trade deadline rumors: Andre Iguodala pre...   \n",
       "4     Stephen A. Smith blasts Kyle Shanahan after 4...   \n",
       "..                                                 ...   \n",
       "144   Schiff Warns of Acquittal Precedent: Trump ‘C...   \n",
       "145   Iowa Democratic presidential caucus is too ea...   \n",
       "146   President Trump to deliver State of the Union...   \n",
       "147   Iowa caucus will offer assemblies in Spanish ...   \n",
       "148            The Messy Math Behind the Iowa Caucuses   \n",
       "\n",
       "                                          news_article news_category  \n",
       "0     Lady Gaga is certainly not hiding her love fo...        sports  \n",
       "1     Within hours of Greg Olsen being released by ...        sports  \n",
       "2     This week will be hectic in the NBA. The leag...        sports  \n",
       "3     The Feb. 6 NBA trade deadline is fast approac...        sports  \n",
       "4     Kyle Shanahan abandoned the run when the 49er...        sports  \n",
       "..                                                 ...           ...  \n",
       "144   Representative Adam Schiff (D., Calif.) said ...      politics  \n",
       "145   The first-in-the-nation Democratic presidenti...      politics  \n",
       "146   The lingering impeachment trial looms over th...      politics  \n",
       "147  The Iowa caucuses are set up in a way that dis...      politics  \n",
       "148  The Iowa caucuses are the first event of each ...      politics  \n",
       "\n",
       "[149 rows x 3 columns]"
      ]
     },
     "execution_count": 80,
     "metadata": {},
     "output_type": "execute_result"
    }
   ],
   "source": [
    "news_df = build_dataset(seed_urls)\n",
    "news_df"
   ]
  },
  {
   "cell_type": "code",
   "execution_count": 81,
   "metadata": {},
   "outputs": [
    {
     "data": {
      "text/plain": [
       "technology    30\n",
       "politics      30\n",
       "science       30\n",
       "business      30\n",
       "sports        29\n",
       "Name: news_category, dtype: int64"
      ]
     },
     "execution_count": 81,
     "metadata": {},
     "output_type": "execute_result"
    }
   ],
   "source": [
    "news_df.news_category.value_counts()"
   ]
  },
  {
   "cell_type": "markdown",
   "metadata": {},
   "source": [
    "## Text Preprocessing\n",
    "\n",
    "Preprocess the text by removing html tags, common stopwords, etc."
   ]
  },
  {
   "cell_type": "code",
   "execution_count": 83,
   "metadata": {},
   "outputs": [],
   "source": [
    "import spacy\n",
    "import en_core_web_lg\n",
    "import nltk\n",
    "from nltk.tokenize.toktok import ToktokTokenizer\n",
    "import re\n",
    "from contractions import CONTRACTION_MAP\n",
    "import unicodedata\n",
    "\n",
    "nlp = en_core_web_lg.load()\n",
    "tokenizer = ToktokTokenizer()\n",
    "stopword_list = nltk.corpus.stopwords.words('english')\n",
    "# Want to keep negative stop words for sentiment analysis\n",
    "stopword_list.remove('no')\n",
    "stopword_list.remove('not')"
   ]
  },
  {
   "cell_type": "code",
   "execution_count": 84,
   "metadata": {},
   "outputs": [
    {
     "data": {
      "text/plain": [
       "'text text text'"
      ]
     },
     "execution_count": 84,
     "metadata": {},
     "output_type": "execute_result"
    }
   ],
   "source": [
    "def strip_html_tags(text):\n",
    "    soup = BeautifulSoup(text, \"html.parser\")\n",
    "    stripped_text = soup.get_text()\n",
    "    return stripped_text\n",
    "\n",
    "strip_html_tags('<html><h2>text text text</h2></html>')"
   ]
  },
  {
   "cell_type": "code",
   "execution_count": 85,
   "metadata": {},
   "outputs": [
    {
     "data": {
      "text/plain": [
       "'some accented letters a i or o'"
      ]
     },
     "execution_count": 85,
     "metadata": {},
     "output_type": "execute_result"
    }
   ],
   "source": [
    "def remove_accented_chars(text):\n",
    "    text = unicodedata.normalize('NFKD', text).encode('ascii', 'ignore').decode('utf-8', 'ignore')\n",
    "    return text\n",
    "\n",
    "remove_accented_chars('some accented letters â î or ô')"
   ]
  },
  {
   "cell_type": "code",
   "execution_count": 86,
   "metadata": {},
   "outputs": [
    {
     "data": {
      "text/plain": [
       "'you all I have do not I would we are'"
      ]
     },
     "execution_count": 86,
     "metadata": {},
     "output_type": "execute_result"
    }
   ],
   "source": [
    "def expand_contractions(text, contraction_mapping=CONTRACTION_MAP):\n",
    "    contractions_pattern = re.compile('({})'.format('|'.join(contraction_mapping.keys())),\n",
    "                                      flags=re.IGNORECASE|re.DOTALL)\n",
    "    def expand_match(contraction):\n",
    "        match = contraction.group(0)\n",
    "        first_char = match[0]\n",
    "        expanded_contraction = contraction_mapping.get(match)\\\n",
    "            if contraction_mapping.get(match) \\\n",
    "            else contraction_mapping.get(match.lower())\n",
    "        expanded_contraction = first_char+expanded_contraction[1:]\n",
    "        return expanded_contraction\n",
    "    \n",
    "    expanded_text = contractions_pattern.sub(expand_match, text)\n",
    "    expanded_text = re.sub(\"'\", \"\", expanded_text)\n",
    "    return expanded_text\n",
    "\n",
    "expand_contractions(\"y'all I've don't I'd we're\")"
   ]
  },
  {
   "cell_type": "code",
   "execution_count": 87,
   "metadata": {},
   "outputs": [
    {
     "data": {
      "text/plain": [
       "'Sme spcil ccrs '"
      ]
     },
     "execution_count": 87,
     "metadata": {},
     "output_type": "execute_result"
    }
   ],
   "source": [
    "def remove_special_characters(text, remove_digits=False):\n",
    "    pattern = r'[^a-zA-z0-9\\s]' if not remove_digits else r'[^a-zA-z\\s]'\n",
    "    text = re.sub(pattern, '', text)\n",
    "    return text\n",
    "\n",
    "remove_special_characters(\"S0me sp3ci@l c#@4@c|3rs *&)@&)@#&\", remove_digits=True)"
   ]
  },
  {
   "cell_type": "code",
   "execution_count": 101,
   "metadata": {},
   "outputs": [
    {
     "data": {
      "text/plain": [
       "'  Lady Gaga be certainly not hide her love for new beau Michael Polansky , whom she just go public with on Sunday at Super Bowl LIV in Miami after …'"
      ]
     },
     "execution_count": 101,
     "metadata": {},
     "output_type": "execute_result"
    }
   ],
   "source": [
    "def lemmatize_text(text):\n",
    "    text = nlp(text)\n",
    "    text = ' '.join([word.lemma_ if word.lemma_ != '-PRON-' else word.text for word in text])\n",
    "    return text\n",
    "\n",
    "lemmatize_text(str(news_df.news_article[0]))"
   ]
  },
  {
   "cell_type": "code",
   "execution_count": 102,
   "metadata": {},
   "outputs": [
    {
     "data": {
      "text/plain": [
       "'Lady Gaga certainly not hiding love new beau Michael Polansky , went public Sunday Super Bowl LIV Miami …'"
      ]
     },
     "execution_count": 102,
     "metadata": {},
     "output_type": "execute_result"
    }
   ],
   "source": [
    "def remove_stopwords(text, is_lower_case=False):\n",
    "    tokens = tokenizer.tokenize(text)\n",
    "    tokens = [token.strip() for token in tokens]\n",
    "    if is_lower_case:\n",
    "        filtered_tokens = [token for token in tokens if token not in stopword_list]\n",
    "    else:\n",
    "        filtered_tokens = [token for token in tokens if token.lower() not in stopword_list]\n",
    "    filtered_text = ' '.join(filtered_tokens)\n",
    "    return filtered_text\n",
    "\n",
    "remove_stopwords(str(news_df.news_article[0]))"
   ]
  },
  {
   "cell_type": "code",
   "execution_count": 103,
   "metadata": {},
   "outputs": [],
   "source": [
    "def normalize_corpus(corpus, html_stripping=True, accented_char_removal=True, contraction_expansion=True, \n",
    "                    text_lower_case=True, text_lemmatization=True, special_char_removal=True, stopword_removal=True,\n",
    "                    remove_digits=True):\n",
    "    normalized_corpus = []\n",
    "    for doc in corpus:\n",
    "        # strip HTML\n",
    "        if html_stripping:\n",
    "            doc = strip_html_tags(doc)\n",
    "        # remove accented characters\n",
    "        if accented_char_removal:\n",
    "            doc = remove_accented_chars(doc)\n",
    "        # expand contractions\n",
    "        if contraction_expansion:\n",
    "            doc = expand_contractions(doc)\n",
    "        # turn into lowercase\n",
    "        if text_lower_case:\n",
    "            doc = doc.lower()\n",
    "        # remove extra newlines\n",
    "        doc = re.sub(r'[\\r|\\n|\\r\\n]+', ' ', doc)\n",
    "        # lemmatize text\n",
    "        if text_lemmatization:\n",
    "            doc = lemmatize_text(doc)\n",
    "        # remove special characters and/or digits\n",
    "        if special_char_removal:\n",
    "            # insert spaces between special characters to isolate them\n",
    "            special_char_pattern = re.compile(r'([{.(-)!}])')\n",
    "            doc = special_char_pattern.sub(\" \\\\1 \", doc)\n",
    "            doc = remove_special_characters(doc, remove_digits=remove_digits)\n",
    "        # remove extra whitespaces\n",
    "        doc = re.sub(' _', ' ', doc)\n",
    "        # remove stopwords\n",
    "        if stopword_removal:\n",
    "            doc = remove_stopwords(doc, is_lower_case=text_lower_case)\n",
    "            \n",
    "        normalized_corpus.append(doc)\n",
    "    \n",
    "    return normalized_corpus"
   ]
  },
  {
   "cell_type": "code",
   "execution_count": 104,
   "metadata": {},
   "outputs": [
    {
     "data": {
      "text/plain": [
       "{'full_text': ' Report: Buffalo Bills to meet with tight end Greg Olsen.  Within hours of Greg Olsen being released by the Carolina Panthers, the former Pro Bowl tight end has a visit scheduled with the Buffalo Bills, …',\n",
       " 'clean_text': 'report buffalo bill meet tight end greg olsen within hour greg olsen release carolina panthers former pro bowl tight end visit schedule buffalo bill'}"
      ]
     },
     "execution_count": 104,
     "metadata": {},
     "output_type": "execute_result"
    }
   ],
   "source": [
    "# combine news headline and article text into one doc\n",
    "news_df['full_text'] = news_df[\"news_headline\"].map(str)+ '. ' + news_df[\"news_article\"]\n",
    "\n",
    "# pre-process text\n",
    "news_df['clean_text'] = normalize_corpus(news_df['full_text'])\n",
    "norm_corpus = list(news_df['clean_text'])\n",
    "\n",
    "news_df.iloc[1][['full_text', 'clean_text']].to_dict()"
   ]
  },
  {
   "cell_type": "markdown",
   "metadata": {},
   "source": [
    "## Text Parsing\n",
    "\n",
    "Since the data are unlabeled we need to get creative to understand the words and their meanings.  What we do know is that language is not just a random collection of words and phrases.  There is structure behind language and syntax governs the ordering of these words.  We can use this information to try to understand langugage. \n",
    "\n",
    "There are some ways of accomplishing this: \n",
    "<ul>Part of Speech (POS) Tagging</ul>\n",
    "<ul>Shallow Parsing or Chunking</ul>\n",
    "<ul>Constituency Parsing</ul>\n",
    "<ul>Dependency Parsing</ul>"
   ]
  },
  {
   "cell_type": "markdown",
   "metadata": {},
   "source": [
    "### POS Tagging\n",
    "\n",
    "Speech has specific lexical categories to which words can be assigned to based on their syntactic context and role. Words can fall into major categories such as: Noun, Verb, Adjective, Adverb, Prepositions, etc. Furthermore, a category can be further divided into its subcategories.  For example, Noun can be subdivided into <i>singular nouns</i>, <i>plural nouns</i> etc.\n",
    "\n",
    "The goal behind POS is to classify and label words into categories and subcategories so that we can further use them to perform specific analyses such as narrowing them down upon nouns and finding the ones that are the most prominent, for word disambiguation and grammar analysis. \n",
    "\n",
    "This website [https://parts-of-speech.info/] helps with visualizing POS tagging.\n",
    "\n",
    "Here, I use `nltk`and `spacey` for POS tagging. Both of these use the <i>Penn Treebank notation:</i> https://www.cis.uni-muenchen.de/~schmid/tools/TreeTagger/data/Penn-Treebank-Tagset.pdf"
   ]
  },
  {
   "cell_type": "code",
   "execution_count": 105,
   "metadata": {},
   "outputs": [
    {
     "name": "stderr",
     "output_type": "stream",
     "text": [
      "[nltk_data] Downloading package averaged_perceptron_tagger to\n",
      "[nltk_data]     C:\\Users\\aksin\\AppData\\Roaming\\nltk_data...\n",
      "[nltk_data]   Package averaged_perceptron_tagger is already up-to-\n",
      "[nltk_data]       date!\n"
     ]
    },
    {
     "data": {
      "text/plain": [
       "True"
      ]
     },
     "execution_count": 105,
     "metadata": {},
     "output_type": "execute_result"
    }
   ],
   "source": [
    "nltk.download('averaged_perceptron_tagger')"
   ]
  },
  {
   "cell_type": "code",
   "execution_count": 154,
   "metadata": {},
   "outputs": [],
   "source": [
    "# pre-process, but don't lowercase or lemmatize to get POS context\n",
    "corpus = normalize_corpus(news_df['full_text'], text_lower_case=False, text_lemmatization=False, special_char_removal=False)\n",
    "\n",
    "# demo for POS tagging\n",
    "sentence = str(news_df.iloc[0].news_headline)\n",
    "sentence_nlp = nlp(sentence)\n",
    "\n",
    "# POS tagging with spacy\n",
    "spacy_pos_tagged = [(word, word.tag_, word.pos_) for word in sentence_nlp]\n",
    "df_spacy_pos_tagged = pd.DataFrame(spacy_pos_tagged, columns=['Word', 'POS tag', 'Tag type'])\n",
    "\n",
    "# POS tagging with nltk\n",
    "nltk_pos_tagged = nltk.pos_tag(sentence.split())\n",
    "df_nltk_pos_tagged = pd.DataFrame(nltk_pos_tagged, columns=['Word', 'POS tag'])\n"
   ]
  },
  {
   "cell_type": "markdown",
   "metadata": {},
   "source": [
    "Let's see how the `spacy` and `nltk` libraries use POS to tag words. "
   ]
  },
  {
   "cell_type": "code",
   "execution_count": 155,
   "metadata": {},
   "outputs": [
    {
     "data": {
      "text/plain": [
       "' Lady Gaga shocks fans by sharing a very intimate photo with Michael Polansky'"
      ]
     },
     "execution_count": 155,
     "metadata": {},
     "output_type": "execute_result"
    }
   ],
   "source": [
    "sentence"
   ]
  },
  {
   "cell_type": "code",
   "execution_count": 156,
   "metadata": {
    "scrolled": false
   },
   "outputs": [
    {
     "data": {
      "text/html": [
       "<div>\n",
       "<style scoped>\n",
       "    .dataframe tbody tr th:only-of-type {\n",
       "        vertical-align: middle;\n",
       "    }\n",
       "\n",
       "    .dataframe tbody tr th {\n",
       "        vertical-align: top;\n",
       "    }\n",
       "\n",
       "    .dataframe thead th {\n",
       "        text-align: right;\n",
       "    }\n",
       "</style>\n",
       "<table border=\"1\" class=\"dataframe\">\n",
       "  <thead>\n",
       "    <tr style=\"text-align: right;\">\n",
       "      <th></th>\n",
       "      <th>Word</th>\n",
       "      <th>POS tag</th>\n",
       "      <th>Tag type</th>\n",
       "    </tr>\n",
       "  </thead>\n",
       "  <tbody>\n",
       "    <tr>\n",
       "      <th>0</th>\n",
       "      <td></td>\n",
       "      <td>_SP</td>\n",
       "      <td>SPACE</td>\n",
       "    </tr>\n",
       "    <tr>\n",
       "      <th>1</th>\n",
       "      <td>Lady</td>\n",
       "      <td>NNP</td>\n",
       "      <td>PROPN</td>\n",
       "    </tr>\n",
       "    <tr>\n",
       "      <th>2</th>\n",
       "      <td>Gaga</td>\n",
       "      <td>NNP</td>\n",
       "      <td>PROPN</td>\n",
       "    </tr>\n",
       "    <tr>\n",
       "      <th>3</th>\n",
       "      <td>shocks</td>\n",
       "      <td>VBZ</td>\n",
       "      <td>VERB</td>\n",
       "    </tr>\n",
       "    <tr>\n",
       "      <th>4</th>\n",
       "      <td>fans</td>\n",
       "      <td>NNS</td>\n",
       "      <td>NOUN</td>\n",
       "    </tr>\n",
       "    <tr>\n",
       "      <th>5</th>\n",
       "      <td>by</td>\n",
       "      <td>IN</td>\n",
       "      <td>ADP</td>\n",
       "    </tr>\n",
       "    <tr>\n",
       "      <th>6</th>\n",
       "      <td>sharing</td>\n",
       "      <td>VBG</td>\n",
       "      <td>VERB</td>\n",
       "    </tr>\n",
       "    <tr>\n",
       "      <th>7</th>\n",
       "      <td>a</td>\n",
       "      <td>DT</td>\n",
       "      <td>DET</td>\n",
       "    </tr>\n",
       "    <tr>\n",
       "      <th>8</th>\n",
       "      <td>very</td>\n",
       "      <td>RB</td>\n",
       "      <td>ADV</td>\n",
       "    </tr>\n",
       "    <tr>\n",
       "      <th>9</th>\n",
       "      <td>intimate</td>\n",
       "      <td>JJ</td>\n",
       "      <td>ADJ</td>\n",
       "    </tr>\n",
       "    <tr>\n",
       "      <th>10</th>\n",
       "      <td>photo</td>\n",
       "      <td>NN</td>\n",
       "      <td>NOUN</td>\n",
       "    </tr>\n",
       "    <tr>\n",
       "      <th>11</th>\n",
       "      <td>with</td>\n",
       "      <td>IN</td>\n",
       "      <td>ADP</td>\n",
       "    </tr>\n",
       "    <tr>\n",
       "      <th>12</th>\n",
       "      <td>Michael</td>\n",
       "      <td>NNP</td>\n",
       "      <td>PROPN</td>\n",
       "    </tr>\n",
       "    <tr>\n",
       "      <th>13</th>\n",
       "      <td>Polansky</td>\n",
       "      <td>NNP</td>\n",
       "      <td>PROPN</td>\n",
       "    </tr>\n",
       "  </tbody>\n",
       "</table>\n",
       "</div>"
      ],
      "text/plain": [
       "        Word POS tag Tag type\n",
       "0                _SP    SPACE\n",
       "1       Lady     NNP    PROPN\n",
       "2       Gaga     NNP    PROPN\n",
       "3     shocks     VBZ     VERB\n",
       "4       fans     NNS     NOUN\n",
       "5         by      IN      ADP\n",
       "6    sharing     VBG     VERB\n",
       "7          a      DT      DET\n",
       "8       very      RB      ADV\n",
       "9   intimate      JJ      ADJ\n",
       "10     photo      NN     NOUN\n",
       "11      with      IN      ADP\n",
       "12   Michael     NNP    PROPN\n",
       "13  Polansky     NNP    PROPN"
      ]
     },
     "execution_count": 156,
     "metadata": {},
     "output_type": "execute_result"
    }
   ],
   "source": [
    "df_spacy_pos_tagged"
   ]
  },
  {
   "cell_type": "code",
   "execution_count": 157,
   "metadata": {},
   "outputs": [
    {
     "data": {
      "text/html": [
       "<div>\n",
       "<style scoped>\n",
       "    .dataframe tbody tr th:only-of-type {\n",
       "        vertical-align: middle;\n",
       "    }\n",
       "\n",
       "    .dataframe tbody tr th {\n",
       "        vertical-align: top;\n",
       "    }\n",
       "\n",
       "    .dataframe thead th {\n",
       "        text-align: right;\n",
       "    }\n",
       "</style>\n",
       "<table border=\"1\" class=\"dataframe\">\n",
       "  <thead>\n",
       "    <tr style=\"text-align: right;\">\n",
       "      <th></th>\n",
       "      <th>Word</th>\n",
       "      <th>POS tag</th>\n",
       "    </tr>\n",
       "  </thead>\n",
       "  <tbody>\n",
       "    <tr>\n",
       "      <th>0</th>\n",
       "      <td>Lady</td>\n",
       "      <td>NNP</td>\n",
       "    </tr>\n",
       "    <tr>\n",
       "      <th>1</th>\n",
       "      <td>Gaga</td>\n",
       "      <td>NNP</td>\n",
       "    </tr>\n",
       "    <tr>\n",
       "      <th>2</th>\n",
       "      <td>shocks</td>\n",
       "      <td>NNS</td>\n",
       "    </tr>\n",
       "    <tr>\n",
       "      <th>3</th>\n",
       "      <td>fans</td>\n",
       "      <td>NNS</td>\n",
       "    </tr>\n",
       "    <tr>\n",
       "      <th>4</th>\n",
       "      <td>by</td>\n",
       "      <td>IN</td>\n",
       "    </tr>\n",
       "    <tr>\n",
       "      <th>5</th>\n",
       "      <td>sharing</td>\n",
       "      <td>VBG</td>\n",
       "    </tr>\n",
       "    <tr>\n",
       "      <th>6</th>\n",
       "      <td>a</td>\n",
       "      <td>DT</td>\n",
       "    </tr>\n",
       "    <tr>\n",
       "      <th>7</th>\n",
       "      <td>very</td>\n",
       "      <td>RB</td>\n",
       "    </tr>\n",
       "    <tr>\n",
       "      <th>8</th>\n",
       "      <td>intimate</td>\n",
       "      <td>JJ</td>\n",
       "    </tr>\n",
       "    <tr>\n",
       "      <th>9</th>\n",
       "      <td>photo</td>\n",
       "      <td>NN</td>\n",
       "    </tr>\n",
       "    <tr>\n",
       "      <th>10</th>\n",
       "      <td>with</td>\n",
       "      <td>IN</td>\n",
       "    </tr>\n",
       "    <tr>\n",
       "      <th>11</th>\n",
       "      <td>Michael</td>\n",
       "      <td>NNP</td>\n",
       "    </tr>\n",
       "    <tr>\n",
       "      <th>12</th>\n",
       "      <td>Polansky</td>\n",
       "      <td>NNP</td>\n",
       "    </tr>\n",
       "  </tbody>\n",
       "</table>\n",
       "</div>"
      ],
      "text/plain": [
       "        Word POS tag\n",
       "0       Lady     NNP\n",
       "1       Gaga     NNP\n",
       "2     shocks     NNS\n",
       "3       fans     NNS\n",
       "4         by      IN\n",
       "5    sharing     VBG\n",
       "6          a      DT\n",
       "7       very      RB\n",
       "8   intimate      JJ\n",
       "9      photo      NN\n",
       "10      with      IN\n",
       "11   Michael     NNP\n",
       "12  Polansky     NNP"
      ]
     },
     "execution_count": 157,
     "metadata": {},
     "output_type": "execute_result"
    }
   ],
   "source": [
    "df_nltk_pos_tagged"
   ]
  },
  {
   "cell_type": "markdown",
   "metadata": {},
   "source": [
    "There are some clear differences between the two, but it's hard to tell which of `nltk` and `spacy` is performing better "
   ]
  },
  {
   "cell_type": "markdown",
   "metadata": {},
   "source": [
    "### Shallow Parsing (Chunking)\n",
    "\n",
    "We can use some additional syntactical knowledge about language to our advantage. A sentence can be broken down into phrases where one word acts as the focal piece of that phrase.  There are 5 major categories: \n",
    "<ul><b>Noun Phrase: </b>These are phrases where noun acts as the head word</ul>\n",
    "<ul><b>Verb Phrase: </b>Similar to Noun Phrase but the verb acts as the head word</ul>\n",
    "<ul><b>Adjective Phrase: </b>Adjective is the head word and works to qualify nouns and pronouns</ul>\n",
    "<ul><b>Adverb Phrase: </b>Adverb is the head word and modifies verbs or adverbs themselves</ul>\n",
    "<ul><b>Prepositional Phrase: </b>Prepositions are the head words</ul>\n",
    "\n",
    "Shallow parsing basically breaks a sentence down into its smallest possible constituents (POS tagging on tokens) and groups them together into higher-level phrases (parsing). \n",
    "\n",
    "Here, we'll use the `conll2000` corpus from `nltk` to train our model"
   ]
  },
  {
   "cell_type": "code",
   "execution_count": 126,
   "metadata": {},
   "outputs": [
    {
     "name": "stderr",
     "output_type": "stream",
     "text": [
      "[nltk_data] Downloading package conll2000 to\n",
      "[nltk_data]     C:\\Users\\aksin\\AppData\\Roaming\\nltk_data...\n",
      "[nltk_data]   Package conll2000 is already up-to-date!\n"
     ]
    },
    {
     "data": {
      "text/plain": [
       "True"
      ]
     },
     "execution_count": 126,
     "metadata": {},
     "output_type": "execute_result"
    }
   ],
   "source": [
    "nltk.download('conll2000')"
   ]
  },
  {
   "cell_type": "code",
   "execution_count": 132,
   "metadata": {},
   "outputs": [
    {
     "name": "stdout",
     "output_type": "stream",
     "text": [
      "10900 48\n",
      "(S\n",
      "  (NP Confidence/NN)\n",
      "  (PP in/IN)\n",
      "  (NP the/DT pound/NN)\n",
      "  (VP is/VBZ widely/RB expected/VBN to/TO take/VB)\n",
      "  (NP another/DT sharp/JJ dive/NN)\n",
      "  if/IN\n",
      "  (NP trade/NN figures/NNS)\n",
      "  (PP for/IN)\n",
      "  (NP September/NNP)\n",
      "  ,/,\n",
      "  due/JJ\n",
      "  (PP for/IN)\n",
      "  (NP release/NN)\n",
      "  (NP tomorrow/NN)\n",
      "  ,/,\n",
      "  (VP fail/VB to/TO show/VB)\n",
      "  (NP a/DT substantial/JJ improvement/NN)\n",
      "  (PP from/IN)\n",
      "  (NP July/NNP and/CC August/NNP)\n",
      "  (NP 's/POS near-record/JJ deficits/NNS)\n",
      "  ./.)\n"
     ]
    }
   ],
   "source": [
    "# using nltk conll2000 corpus to train the shallow parser model\n",
    "from nltk.corpus import conll2000\n",
    "\n",
    "data = conll2000.chunked_sents()\n",
    "train_data = data[:10900]\n",
    "test_data = data[10900:]\n",
    "\n",
    "print(len(train_data), len(test_data))\n",
    "print(train_data[0])"
   ]
  },
  {
   "cell_type": "markdown",
   "metadata": {},
   "source": [
    "The example above shows that the tokens are POS-tagged and combinations of words are further grouped into phrases.  This is not super easy to visualize, but if you spend some time drawing it out, it starts to make sense. We'll use this data set to train our shallow parser model. \n",
    "\n",
    "In order to do so, we will also use two chunking utility functions:\n",
    "<ul><i>tree2conlltags</i> will get us a triplet of (word, tag, chunk tag) for each token</ul>\n",
    "<ul><i>conlltags2tree</i> will generate a parse tree for these token triples</ul>\n",
    "\n",
    "In the example below, we can see that the tree2conlltags takes the pre-tagged sentence and turns it into a chunk. Note that the `tree2conlltags` uses the IOB format, which stands for <i>I</i>nside, <i>O</i>utside, and <i>B</i>eginning and indicates where the token is located inside the chunk. The 'O' token indicates that the token does not belong to any chunk. \n",
    "\n",
    "In the sentence above, look at the verb phrase (noted VP) \"is widely expected to take\" where 'is', 'widely', 'expected', 'to' and 'take' are POS-tagged as 'VBZ', 'RB', 'VBN', 'TO', and 'VB', respectively. When chunked using `tree2conlltags`, the POS tags remain the same, but the chunk tags are now 'B-VP', 'I-VP', 'I-VP', 'I-VP' and 'I-VP', respectively, which should make sense. commas and 'due' are outside the word phrases and are therefore chunk-labeled as 'O'. "
   ]
  },
  {
   "cell_type": "code",
   "execution_count": 134,
   "metadata": {
    "scrolled": false
   },
   "outputs": [
    {
     "data": {
      "text/plain": [
       "[('Confidence', 'NN', 'B-NP'),\n",
       " ('in', 'IN', 'B-PP'),\n",
       " ('the', 'DT', 'B-NP'),\n",
       " ('pound', 'NN', 'I-NP'),\n",
       " ('is', 'VBZ', 'B-VP'),\n",
       " ('widely', 'RB', 'I-VP'),\n",
       " ('expected', 'VBN', 'I-VP'),\n",
       " ('to', 'TO', 'I-VP'),\n",
       " ('take', 'VB', 'I-VP'),\n",
       " ('another', 'DT', 'B-NP'),\n",
       " ('sharp', 'JJ', 'I-NP'),\n",
       " ('dive', 'NN', 'I-NP'),\n",
       " ('if', 'IN', 'O'),\n",
       " ('trade', 'NN', 'B-NP'),\n",
       " ('figures', 'NNS', 'I-NP'),\n",
       " ('for', 'IN', 'B-PP'),\n",
       " ('September', 'NNP', 'B-NP'),\n",
       " (',', ',', 'O'),\n",
       " ('due', 'JJ', 'O'),\n",
       " ('for', 'IN', 'B-PP'),\n",
       " ('release', 'NN', 'B-NP'),\n",
       " ('tomorrow', 'NN', 'B-NP'),\n",
       " (',', ',', 'O'),\n",
       " ('fail', 'VB', 'B-VP'),\n",
       " ('to', 'TO', 'I-VP'),\n",
       " ('show', 'VB', 'I-VP'),\n",
       " ('a', 'DT', 'B-NP'),\n",
       " ('substantial', 'JJ', 'I-NP'),\n",
       " ('improvement', 'NN', 'I-NP'),\n",
       " ('from', 'IN', 'B-PP'),\n",
       " ('July', 'NNP', 'B-NP'),\n",
       " ('and', 'CC', 'I-NP'),\n",
       " ('August', 'NNP', 'I-NP'),\n",
       " (\"'s\", 'POS', 'B-NP'),\n",
       " ('near-record', 'JJ', 'I-NP'),\n",
       " ('deficits', 'NNS', 'I-NP'),\n",
       " ('.', '.', 'O')]"
      ]
     },
     "execution_count": 134,
     "metadata": {},
     "output_type": "execute_result"
    }
   ],
   "source": [
    "from nltk.chunk.util import tree2conlltags, conlltags2tree\n",
    "\n",
    "wtc = tree2conlltags(train_data[0])\n",
    "wtc"
   ]
  },
  {
   "cell_type": "markdown",
   "metadata": {},
   "source": [
    "Now comes the fun part. Remember that the goal is to train the model to predict chunk tags based on POS tags because we already tagged our news corpus with POS tags. Now we want to shallow parse it. In order to do that, we'll first define a function `conll_tags_chunks` to extract the POS tags and chunk tags from the tagged sentences.  Then we want to predict the chunk tags based on the POS tags. This is where the next function `combined_tagger`comes in. \n",
    "\n",
    "This function will train our taggers, which in this case will be unigram and bigram taggers.  Basically: the `UnigramTagger` class from `nltk` assigns the tag that is the most likely tag for that token's type.  For example, it'll assign the tag 'JJ' to any occurrence of the word 'frequent' because 'frequent' is used more often as an adjective (e.g., 'a frequent visitor') more often that it is used as a very (e.g., 'I frequent this climbing gym'). However, before a `UnigramTagger` can be used to tag data, it needs to be trained on a <i>training corpus</i>, which the tagger then uses to determine the tags that are the most common for each word. \n",
    "\n",
    "The `BigramTagger` is a bit more complex because in addition to considering the token's type, it also considers the POS tags of the preceding token.  The `TrigramTagger` would consider the POS tags of two preceding tokens, etc. To decide which tag to assign to a token, the `BigramTagger` first constructs a <i>context</i> for the token. This consists of the token's type, along with the POS tags of the preceding token.  It then picks the tag that is most likely for that context. \n",
    "\n",
    "We'll define a class `NGramTagChunker` that will take tagged sentences as training input, get their POS and chunk tags and then train a `BigramTagger` with a  `UnigramTagger` as the backoff tagger.  The `parse` function will perform shallow parsing on new sentences. "
   ]
  },
  {
   "cell_type": "code",
   "execution_count": 135,
   "metadata": {},
   "outputs": [],
   "source": [
    "# extract POS and chunk tags from sentences with chunked annotations\n",
    "def conll_tags_chunks(chunk_sents):\n",
    "    tagged_sents = [tree2conlltags(tree) for tree in chunk_sents]\n",
    "    return [[(t, c) for (w, t, c) in sent] for sent in tagged_sents]\n",
    "\n",
    "# function to train multiple taggers\n",
    "def combined_tagger(train_data, taggers, backoff=None):\n",
    "    for tagger in taggers:\n",
    "        backoff = tagger(train_data, backoff=backoff)\n",
    "    return backoff"
   ]
  },
  {
   "cell_type": "code",
   "execution_count": 139,
   "metadata": {},
   "outputs": [
    {
     "name": "stdout",
     "output_type": "stream",
     "text": [
      "Performance on training data:\n",
      " ChunkParse score:\n",
      "    IOB Accuracy:  89.4%%\n",
      "    Precision:     80.9%%\n",
      "    Recall:        86.2%%\n",
      "    F-Measure:     83.5%%\n",
      "\n",
      "Performance on test data:\n",
      " ChunkParse score:\n",
      "    IOB Accuracy:  90.0%%\n",
      "    Precision:     82.1%%\n",
      "    Recall:        86.3%%\n",
      "    F-Measure:     84.1%%\n",
      "Wall time: 6.96 s\n"
     ]
    }
   ],
   "source": [
    "%%time\n",
    "\n",
    "from nltk.tag import UnigramTagger, BigramTagger, TrigramTagger\n",
    "from nltk.chunk import ChunkParserI\n",
    "\n",
    "# chunker class\n",
    "class NGramTagChunker(ChunkParserI):\n",
    "    def __init__(self, train_sentences, tagger_classes=[UnigramTagger, BigramTagger]):\n",
    "        # get the POS and chunk tags using our function above\n",
    "        train_sent_tags = conll_tags_chunks(train_sentences)\n",
    "        # train chunk tagger from POS tags\n",
    "        self.chunk_tagger = combined_tagger(train_sent_tags, tagger_classes)\n",
    "    \n",
    "    def parse(self, tagged_sentence):\n",
    "        if not tagged_sentence:\n",
    "            return None\n",
    "        # get POS tags from our tagged sentence\n",
    "        pos_tags = [tag for word, tag in tagged_sentence]\n",
    "        # Get chunk tags from the trained taggers\n",
    "        chunk_pos_tags = self.chunk_tagger.tag(pos_tags)\n",
    "        chunk_tags = [chunk_tag for (pos_tag, chunk_tag) in chunk_pos_tags]\n",
    "        # Combine token, pos tag and chunk tags\n",
    "        wpc_tags = [(word, pos_tag, chunk_tag) for ((word, pos_tag), chunk_tag)\n",
    "                       in zip(tagged_sentence, chunk_tags)]\n",
    "        return conlltags2tree(wpc_tags)\n",
    "    \n",
    "# train chunker model\n",
    "ntc = NGramTagChunker(train_data)\n",
    "\n",
    "# evaluate chunker model performance\n",
    "print('Performance on training data:\\n', ntc.evaluate(train_data))\n",
    "print()\n",
    "print('Performance on test data:\\n', ntc.evaluate(test_data))\n",
    "        "
   ]
  },
  {
   "cell_type": "markdown",
   "metadata": {},
   "source": [
    "Not bad. We get 90% accuracy on the test set. Now let's see how the trained model chunks our news corpus headline"
   ]
  },
  {
   "cell_type": "code",
   "execution_count": 158,
   "metadata": {},
   "outputs": [
    {
     "name": "stdout",
     "output_type": "stream",
     "text": [
      "(S\n",
      "  (NP Lady/NNP Gaga/NNP shocks/NNS fans/NNS)\n",
      "  (PP by/IN)\n",
      "  (VP sharing/VBG)\n",
      "  (NP a/DT)\n",
      "  very/RB\n",
      "  (NP intimate/JJ photo/NN)\n",
      "  (PP with/IN)\n",
      "  (NP Michael/NNP Polansky/NNP))\n"
     ]
    }
   ],
   "source": [
    "chunk_tree = ntc.parse(nltk_pos_tagged)\n",
    "print(chunk_tree)"
   ]
  },
  {
   "cell_type": "code",
   "execution_count": 159,
   "metadata": {
    "scrolled": true
   },
   "outputs": [
    {
     "data": {
      "image/png": "[encoded data removed]",
      "text/plain": [
       "Tree('S', [Tree('NP', [('Lady', 'NNP'), ('Gaga', 'NNP'), ('shocks', 'NNS'), ('fans', 'NNS')]), Tree('PP', [('by', 'IN')]), Tree('VP', [('sharing', 'VBG')]), Tree('NP', [('a', 'DT')]), ('very', 'RB'), Tree('NP', [('intimate', 'JJ'), ('photo', 'NN')]), Tree('PP', [('with', 'IN')]), Tree('NP', [('Michael', 'NNP'), ('Polansky', 'NNP')])])"
      ]
     },
     "metadata": {},
     "output_type": "display_data"
    }
   ],
   "source": [
    "from IPython.display import display\n",
    "\n",
    "os.environ['PATH'] = os.environ['PATH'] + \";C:\\\\Program Files\\\\gs\\\\gs9.50\\\\bin\\\\\"\n",
    "display(chunk_tree)"
   ]
  },
  {
   "cell_type": "markdown",
   "metadata": {},
   "source": [
    "### Constituency Parsing\n",
    "\n",
    "This concept is based on the intuition that sentences have internal structure and hierarchy. Each word belongs to a specific lexical category and forms the head word of different phrases. These phrases are formed based on rules called <i>phrase structure rules.</i>  \n",
    "\n",
    "I won't go into much detail here, but a great visualization tool is available here: https://demo.allennlp.org/constituency-parsing.  \n",
    "\n",
    "We'll use the `StanfordParser` from `nltk` to generate parse trees"
   ]
  },
  {
   "cell_type": "code",
   "execution_count": 161,
   "metadata": {},
   "outputs": [
    {
     "name": "stderr",
     "output_type": "stream",
     "text": [
      "C:\\Users\\aksin\\Anaconda3\\envs\\tf-gpu\\lib\\site-packages\\ipykernel_launcher.py:7: DeprecationWarning: The StanfordParser will be deprecated\n",
      "Please use \u001b[91mnltk.parse.corenlp.CoreNLPParser\u001b[0m instead.\n",
      "  import sys\n"
     ]
    },
    {
     "name": "stdout",
     "output_type": "stream",
     "text": [
      "(ROOT\n",
      "  (S\n",
      "    (NP (NNP Lady) (NNP Gaga))\n",
      "    (VP\n",
      "      (VBZ shocks)\n",
      "      (NP (NNS fans))\n",
      "      (PP\n",
      "        (IN by)\n",
      "        (S\n",
      "          (VP\n",
      "            (VBG sharing)\n",
      "            (NP\n",
      "              (NP (DT a) (ADJP (RB very) (JJ intimate)) (NN photo))\n",
      "              (PP (IN with) (NP (NNP Michael) (NNP Polansky))))))))))\n"
     ]
    }
   ],
   "source": [
    "java_path = r'C:\\Program Files\\Java\\jdk1.8.0_221\\bin\\java.exe'\n",
    "os.environ['JAVAHOME'] = java_path\n",
    "\n",
    "from nltk.parse.stanford import StanfordParser\n",
    "\n",
    "scp = StanfordParser(path_to_jar='stanford-parser-full-2018-10-17/stanford-parser.jar', \n",
    "                     path_to_models_jar='stanford-parser-full-2018-10-17/stanford-parser-3.9.2-models.jar')\n",
    "result = list(scp.raw_parse(sentence))\n",
    "print(result[0])"
   ]
  },
  {
   "cell_type": "markdown",
   "metadata": {},
   "source": [
    "The visualization below sould help"
   ]
  },
  {
   "cell_type": "code",
   "execution_count": 163,
   "metadata": {},
   "outputs": [
    {
     "data": {
      "image/png": "[encoded data removed]",
      "text/plain": [
       "Tree('ROOT', [Tree('S', [Tree('NP', [Tree('NNP', ['Lady']), Tree('NNP', ['Gaga'])]), Tree('VP', [Tree('VBZ', ['shocks']), Tree('NP', [Tree('NNS', ['fans'])]), Tree('PP', [Tree('IN', ['by']), Tree('S', [Tree('VP', [Tree('VBG', ['sharing']), Tree('NP', [Tree('NP', [Tree('DT', ['a']), Tree('ADJP', [Tree('RB', ['very']), Tree('JJ', ['intimate'])]), Tree('NN', ['photo'])]), Tree('PP', [Tree('IN', ['with']), Tree('NP', [Tree('NNP', ['Michael']), Tree('NNP', ['Polansky'])])])])])])])])])])"
      ]
     },
     "metadata": {},
     "output_type": "display_data"
    }
   ],
   "source": [
    "from IPython.display import display\n",
    "display(result[0])"
   ]
  },
  {
   "cell_type": "markdown",
   "metadata": {},
   "source": [
    "### Dependency Parsing\n",
    "\n",
    "The concept here is that all words except for one have some relationship or dependency on other words in the sentence. The verb istypically the root of the sentence in a majority of the cases. All other words are directly or indirectly linked to the root verb using links aka dependencies. <a href='https://universaldependencies.org/u/dep/index.html'>More info here</a>"
   ]
  },
  {
   "cell_type": "code",
   "execution_count": 164,
   "metadata": {},
   "outputs": [
    {
     "name": "stdout",
     "output_type": "stream",
     "text": [
      "[]<--- []--->[]\n",
      "-------\n",
      "[' ']<---Lady[compound]--->[]\n",
      "-------\n",
      "['Lady']<---Gaga[nsubj]--->[]\n",
      "-------\n",
      "['Gaga']<---shocks[ROOT]--->['fans', 'by']\n",
      "-------\n",
      "[]<---fans[dobj]--->[]\n",
      "-------\n",
      "[]<---by[prep]--->['sharing']\n",
      "-------\n",
      "[]<---sharing[pcomp]--->['photo']\n",
      "-------\n",
      "[]<---a[det]--->[]\n",
      "-------\n",
      "[]<---very[advmod]--->[]\n",
      "-------\n",
      "['very']<---intimate[amod]--->[]\n",
      "-------\n",
      "['a', 'intimate']<---photo[dobj]--->['with']\n",
      "-------\n",
      "[]<---with[prep]--->['Polansky']\n",
      "-------\n",
      "[]<---Michael[compound]--->[]\n",
      "-------\n",
      "['Michael']<---Polansky[pobj]--->[]\n",
      "-------\n"
     ]
    }
   ],
   "source": [
    "dependency_pattern = '{left}<---{word}[{w_type}]--->{right}\\n-------'\n",
    "for token in sentence_nlp:\n",
    "    print(dependency_pattern.format(word=token.orth_,\n",
    "                                  w_type = token.dep_,\n",
    "                                  left=[t.orth_ for t in token.lefts],\n",
    "                                  right=[t.orth_ for t in token.rights]))"
   ]
  },
  {
   "cell_type": "markdown",
   "metadata": {},
   "source": [
    "'shocks' is the root word since it does not have any dependencies. This is clearer in the visualization below, which shows that there are no arrows pointing to 'shocks', only pointing out indicating that this is the root word."
   ]
  },
  {
   "cell_type": "code",
   "execution_count": 165,
   "metadata": {},
   "outputs": [
    {
     "data": {
      "text/html": [
       "<svg xmlns=\"http://www.w3.org/2000/svg\" xmlns:xlink=\"http://www.w3.org/1999/xlink\" xml:lang=\"en\" id=\"4518d8bda61146d9a3704b42dd85041a-0\" class=\"displacy\" width=\"1730\" height=\"377.0\" direction=\"ltr\" style=\"max-width: none; height: 377.0px; color: #000000; background: #ffffff; font-family: Arial; direction: ltr\">\n",
       "<text class=\"displacy-token\" fill=\"currentColor\" text-anchor=\"middle\" y=\"287.0\">\n",
       "    <tspan class=\"displacy-word\" fill=\"currentColor\" x=\"50\"> </tspan>\n",
       "    <tspan class=\"displacy-tag\" dy=\"2em\" fill=\"currentColor\" x=\"50\">SPACE</tspan>\n",
       "</text>\n",
       "\n",
       "<text class=\"displacy-token\" fill=\"currentColor\" text-anchor=\"middle\" y=\"287.0\">\n",
       "    <tspan class=\"displacy-word\" fill=\"currentColor\" x=\"170\">Lady</tspan>\n",
       "    <tspan class=\"displacy-tag\" dy=\"2em\" fill=\"currentColor\" x=\"170\">PROPN</tspan>\n",
       "</text>\n",
       "\n",
       "<text class=\"displacy-token\" fill=\"currentColor\" text-anchor=\"middle\" y=\"287.0\">\n",
       "    <tspan class=\"displacy-word\" fill=\"currentColor\" x=\"290\">Gaga</tspan>\n",
       "    <tspan class=\"displacy-tag\" dy=\"2em\" fill=\"currentColor\" x=\"290\">PROPN</tspan>\n",
       "</text>\n",
       "\n",
       "<text class=\"displacy-token\" fill=\"currentColor\" text-anchor=\"middle\" y=\"287.0\">\n",
       "    <tspan class=\"displacy-word\" fill=\"currentColor\" x=\"410\">shocks</tspan>\n",
       "    <tspan class=\"displacy-tag\" dy=\"2em\" fill=\"currentColor\" x=\"410\">VERB</tspan>\n",
       "</text>\n",
       "\n",
       "<text class=\"displacy-token\" fill=\"currentColor\" text-anchor=\"middle\" y=\"287.0\">\n",
       "    <tspan class=\"displacy-word\" fill=\"currentColor\" x=\"530\">fans</tspan>\n",
       "    <tspan class=\"displacy-tag\" dy=\"2em\" fill=\"currentColor\" x=\"530\">NOUN</tspan>\n",
       "</text>\n",
       "\n",
       "<text class=\"displacy-token\" fill=\"currentColor\" text-anchor=\"middle\" y=\"287.0\">\n",
       "    <tspan class=\"displacy-word\" fill=\"currentColor\" x=\"650\">by</tspan>\n",
       "    <tspan class=\"displacy-tag\" dy=\"2em\" fill=\"currentColor\" x=\"650\">ADP</tspan>\n",
       "</text>\n",
       "\n",
       "<text class=\"displacy-token\" fill=\"currentColor\" text-anchor=\"middle\" y=\"287.0\">\n",
       "    <tspan class=\"displacy-word\" fill=\"currentColor\" x=\"770\">sharing</tspan>\n",
       "    <tspan class=\"displacy-tag\" dy=\"2em\" fill=\"currentColor\" x=\"770\">VERB</tspan>\n",
       "</text>\n",
       "\n",
       "<text class=\"displacy-token\" fill=\"currentColor\" text-anchor=\"middle\" y=\"287.0\">\n",
       "    <tspan class=\"displacy-word\" fill=\"currentColor\" x=\"890\">a</tspan>\n",
       "    <tspan class=\"displacy-tag\" dy=\"2em\" fill=\"currentColor\" x=\"890\">DET</tspan>\n",
       "</text>\n",
       "\n",
       "<text class=\"displacy-token\" fill=\"currentColor\" text-anchor=\"middle\" y=\"287.0\">\n",
       "    <tspan class=\"displacy-word\" fill=\"currentColor\" x=\"1010\">very</tspan>\n",
       "    <tspan class=\"displacy-tag\" dy=\"2em\" fill=\"currentColor\" x=\"1010\">ADV</tspan>\n",
       "</text>\n",
       "\n",
       "<text class=\"displacy-token\" fill=\"currentColor\" text-anchor=\"middle\" y=\"287.0\">\n",
       "    <tspan class=\"displacy-word\" fill=\"currentColor\" x=\"1130\">intimate</tspan>\n",
       "    <tspan class=\"displacy-tag\" dy=\"2em\" fill=\"currentColor\" x=\"1130\">ADJ</tspan>\n",
       "</text>\n",
       "\n",
       "<text class=\"displacy-token\" fill=\"currentColor\" text-anchor=\"middle\" y=\"287.0\">\n",
       "    <tspan class=\"displacy-word\" fill=\"currentColor\" x=\"1250\">photo</tspan>\n",
       "    <tspan class=\"displacy-tag\" dy=\"2em\" fill=\"currentColor\" x=\"1250\">NOUN</tspan>\n",
       "</text>\n",
       "\n",
       "<text class=\"displacy-token\" fill=\"currentColor\" text-anchor=\"middle\" y=\"287.0\">\n",
       "    <tspan class=\"displacy-word\" fill=\"currentColor\" x=\"1370\">with</tspan>\n",
       "    <tspan class=\"displacy-tag\" dy=\"2em\" fill=\"currentColor\" x=\"1370\">ADP</tspan>\n",
       "</text>\n",
       "\n",
       "<text class=\"displacy-token\" fill=\"currentColor\" text-anchor=\"middle\" y=\"287.0\">\n",
       "    <tspan class=\"displacy-word\" fill=\"currentColor\" x=\"1490\">Michael</tspan>\n",
       "    <tspan class=\"displacy-tag\" dy=\"2em\" fill=\"currentColor\" x=\"1490\">PROPN</tspan>\n",
       "</text>\n",
       "\n",
       "<text class=\"displacy-token\" fill=\"currentColor\" text-anchor=\"middle\" y=\"287.0\">\n",
       "    <tspan class=\"displacy-word\" fill=\"currentColor\" x=\"1610\">Polansky</tspan>\n",
       "    <tspan class=\"displacy-tag\" dy=\"2em\" fill=\"currentColor\" x=\"1610\">PROPN</tspan>\n",
       "</text>\n",
       "\n",
       "<g class=\"displacy-arrow\">\n",
       "    <path class=\"displacy-arc\" id=\"arrow-4518d8bda61146d9a3704b42dd85041a-0-0\" stroke-width=\"2px\" d=\"M70,242.0 C70,182.0 155.0,182.0 155.0,242.0\" fill=\"none\" stroke=\"currentColor\"/>\n",
       "    <text dy=\"1.25em\" style=\"font-size: 0.8em; letter-spacing: 1px\">\n",
       "        <textPath xlink:href=\"#arrow-4518d8bda61146d9a3704b42dd85041a-0-0\" class=\"displacy-label\" startOffset=\"50%\" side=\"left\" fill=\"currentColor\" text-anchor=\"middle\"></textPath>\n",
       "    </text>\n",
       "    <path class=\"displacy-arrowhead\" d=\"M70,244.0 L67,237.0 73,237.0\" fill=\"currentColor\"/>\n",
       "</g>\n",
       "\n",
       "<g class=\"displacy-arrow\">\n",
       "    <path class=\"displacy-arc\" id=\"arrow-4518d8bda61146d9a3704b42dd85041a-0-1\" stroke-width=\"2px\" d=\"M190,242.0 C190,182.0 275.0,182.0 275.0,242.0\" fill=\"none\" stroke=\"currentColor\"/>\n",
       "    <text dy=\"1.25em\" style=\"font-size: 0.8em; letter-spacing: 1px\">\n",
       "        <textPath xlink:href=\"#arrow-4518d8bda61146d9a3704b42dd85041a-0-1\" class=\"displacy-label\" startOffset=\"50%\" side=\"left\" fill=\"currentColor\" text-anchor=\"middle\">compound</textPath>\n",
       "    </text>\n",
       "    <path class=\"displacy-arrowhead\" d=\"M190,244.0 L187,237.0 193,237.0\" fill=\"currentColor\"/>\n",
       "</g>\n",
       "\n",
       "<g class=\"displacy-arrow\">\n",
       "    <path class=\"displacy-arc\" id=\"arrow-4518d8bda61146d9a3704b42dd85041a-0-2\" stroke-width=\"2px\" d=\"M310,242.0 C310,182.0 395.0,182.0 395.0,242.0\" fill=\"none\" stroke=\"currentColor\"/>\n",
       "    <text dy=\"1.25em\" style=\"font-size: 0.8em; letter-spacing: 1px\">\n",
       "        <textPath xlink:href=\"#arrow-4518d8bda61146d9a3704b42dd85041a-0-2\" class=\"displacy-label\" startOffset=\"50%\" side=\"left\" fill=\"currentColor\" text-anchor=\"middle\">nsubj</textPath>\n",
       "    </text>\n",
       "    <path class=\"displacy-arrowhead\" d=\"M310,244.0 L307,237.0 313,237.0\" fill=\"currentColor\"/>\n",
       "</g>\n",
       "\n",
       "<g class=\"displacy-arrow\">\n",
       "    <path class=\"displacy-arc\" id=\"arrow-4518d8bda61146d9a3704b42dd85041a-0-3\" stroke-width=\"2px\" d=\"M430,242.0 C430,182.0 515.0,182.0 515.0,242.0\" fill=\"none\" stroke=\"currentColor\"/>\n",
       "    <text dy=\"1.25em\" style=\"font-size: 0.8em; letter-spacing: 1px\">\n",
       "        <textPath xlink:href=\"#arrow-4518d8bda61146d9a3704b42dd85041a-0-3\" class=\"displacy-label\" startOffset=\"50%\" side=\"left\" fill=\"currentColor\" text-anchor=\"middle\">dobj</textPath>\n",
       "    </text>\n",
       "    <path class=\"displacy-arrowhead\" d=\"M515.0,244.0 L518.0,237.0 512.0,237.0\" fill=\"currentColor\"/>\n",
       "</g>\n",
       "\n",
       "<g class=\"displacy-arrow\">\n",
       "    <path class=\"displacy-arc\" id=\"arrow-4518d8bda61146d9a3704b42dd85041a-0-4\" stroke-width=\"2px\" d=\"M430,242.0 C430,122.0 640.0,122.0 640.0,242.0\" fill=\"none\" stroke=\"currentColor\"/>\n",
       "    <text dy=\"1.25em\" style=\"font-size: 0.8em; letter-spacing: 1px\">\n",
       "        <textPath xlink:href=\"#arrow-4518d8bda61146d9a3704b42dd85041a-0-4\" class=\"displacy-label\" startOffset=\"50%\" side=\"left\" fill=\"currentColor\" text-anchor=\"middle\">prep</textPath>\n",
       "    </text>\n",
       "    <path class=\"displacy-arrowhead\" d=\"M640.0,244.0 L643.0,237.0 637.0,237.0\" fill=\"currentColor\"/>\n",
       "</g>\n",
       "\n",
       "<g class=\"displacy-arrow\">\n",
       "    <path class=\"displacy-arc\" id=\"arrow-4518d8bda61146d9a3704b42dd85041a-0-5\" stroke-width=\"2px\" d=\"M670,242.0 C670,182.0 755.0,182.0 755.0,242.0\" fill=\"none\" stroke=\"currentColor\"/>\n",
       "    <text dy=\"1.25em\" style=\"font-size: 0.8em; letter-spacing: 1px\">\n",
       "        <textPath xlink:href=\"#arrow-4518d8bda61146d9a3704b42dd85041a-0-5\" class=\"displacy-label\" startOffset=\"50%\" side=\"left\" fill=\"currentColor\" text-anchor=\"middle\">pcomp</textPath>\n",
       "    </text>\n",
       "    <path class=\"displacy-arrowhead\" d=\"M755.0,244.0 L758.0,237.0 752.0,237.0\" fill=\"currentColor\"/>\n",
       "</g>\n",
       "\n",
       "<g class=\"displacy-arrow\">\n",
       "    <path class=\"displacy-arc\" id=\"arrow-4518d8bda61146d9a3704b42dd85041a-0-6\" stroke-width=\"2px\" d=\"M910,242.0 C910,62.0 1245.0,62.0 1245.0,242.0\" fill=\"none\" stroke=\"currentColor\"/>\n",
       "    <text dy=\"1.25em\" style=\"font-size: 0.8em; letter-spacing: 1px\">\n",
       "        <textPath xlink:href=\"#arrow-4518d8bda61146d9a3704b42dd85041a-0-6\" class=\"displacy-label\" startOffset=\"50%\" side=\"left\" fill=\"currentColor\" text-anchor=\"middle\">det</textPath>\n",
       "    </text>\n",
       "    <path class=\"displacy-arrowhead\" d=\"M910,244.0 L907,237.0 913,237.0\" fill=\"currentColor\"/>\n",
       "</g>\n",
       "\n",
       "<g class=\"displacy-arrow\">\n",
       "    <path class=\"displacy-arc\" id=\"arrow-4518d8bda61146d9a3704b42dd85041a-0-7\" stroke-width=\"2px\" d=\"M1030,242.0 C1030,182.0 1115.0,182.0 1115.0,242.0\" fill=\"none\" stroke=\"currentColor\"/>\n",
       "    <text dy=\"1.25em\" style=\"font-size: 0.8em; letter-spacing: 1px\">\n",
       "        <textPath xlink:href=\"#arrow-4518d8bda61146d9a3704b42dd85041a-0-7\" class=\"displacy-label\" startOffset=\"50%\" side=\"left\" fill=\"currentColor\" text-anchor=\"middle\">advmod</textPath>\n",
       "    </text>\n",
       "    <path class=\"displacy-arrowhead\" d=\"M1030,244.0 L1027,237.0 1033,237.0\" fill=\"currentColor\"/>\n",
       "</g>\n",
       "\n",
       "<g class=\"displacy-arrow\">\n",
       "    <path class=\"displacy-arc\" id=\"arrow-4518d8bda61146d9a3704b42dd85041a-0-8\" stroke-width=\"2px\" d=\"M1150,242.0 C1150,182.0 1235.0,182.0 1235.0,242.0\" fill=\"none\" stroke=\"currentColor\"/>\n",
       "    <text dy=\"1.25em\" style=\"font-size: 0.8em; letter-spacing: 1px\">\n",
       "        <textPath xlink:href=\"#arrow-4518d8bda61146d9a3704b42dd85041a-0-8\" class=\"displacy-label\" startOffset=\"50%\" side=\"left\" fill=\"currentColor\" text-anchor=\"middle\">amod</textPath>\n",
       "    </text>\n",
       "    <path class=\"displacy-arrowhead\" d=\"M1150,244.0 L1147,237.0 1153,237.0\" fill=\"currentColor\"/>\n",
       "</g>\n",
       "\n",
       "<g class=\"displacy-arrow\">\n",
       "    <path class=\"displacy-arc\" id=\"arrow-4518d8bda61146d9a3704b42dd85041a-0-9\" stroke-width=\"2px\" d=\"M790,242.0 C790,2.0 1250.0,2.0 1250.0,242.0\" fill=\"none\" stroke=\"currentColor\"/>\n",
       "    <text dy=\"1.25em\" style=\"font-size: 0.8em; letter-spacing: 1px\">\n",
       "        <textPath xlink:href=\"#arrow-4518d8bda61146d9a3704b42dd85041a-0-9\" class=\"displacy-label\" startOffset=\"50%\" side=\"left\" fill=\"currentColor\" text-anchor=\"middle\">dobj</textPath>\n",
       "    </text>\n",
       "    <path class=\"displacy-arrowhead\" d=\"M1250.0,244.0 L1253.0,237.0 1247.0,237.0\" fill=\"currentColor\"/>\n",
       "</g>\n",
       "\n",
       "<g class=\"displacy-arrow\">\n",
       "    <path class=\"displacy-arc\" id=\"arrow-4518d8bda61146d9a3704b42dd85041a-0-10\" stroke-width=\"2px\" d=\"M1270,242.0 C1270,182.0 1355.0,182.0 1355.0,242.0\" fill=\"none\" stroke=\"currentColor\"/>\n",
       "    <text dy=\"1.25em\" style=\"font-size: 0.8em; letter-spacing: 1px\">\n",
       "        <textPath xlink:href=\"#arrow-4518d8bda61146d9a3704b42dd85041a-0-10\" class=\"displacy-label\" startOffset=\"50%\" side=\"left\" fill=\"currentColor\" text-anchor=\"middle\">prep</textPath>\n",
       "    </text>\n",
       "    <path class=\"displacy-arrowhead\" d=\"M1355.0,244.0 L1358.0,237.0 1352.0,237.0\" fill=\"currentColor\"/>\n",
       "</g>\n",
       "\n",
       "<g class=\"displacy-arrow\">\n",
       "    <path class=\"displacy-arc\" id=\"arrow-4518d8bda61146d9a3704b42dd85041a-0-11\" stroke-width=\"2px\" d=\"M1510,242.0 C1510,182.0 1595.0,182.0 1595.0,242.0\" fill=\"none\" stroke=\"currentColor\"/>\n",
       "    <text dy=\"1.25em\" style=\"font-size: 0.8em; letter-spacing: 1px\">\n",
       "        <textPath xlink:href=\"#arrow-4518d8bda61146d9a3704b42dd85041a-0-11\" class=\"displacy-label\" startOffset=\"50%\" side=\"left\" fill=\"currentColor\" text-anchor=\"middle\">compound</textPath>\n",
       "    </text>\n",
       "    <path class=\"displacy-arrowhead\" d=\"M1510,244.0 L1507,237.0 1513,237.0\" fill=\"currentColor\"/>\n",
       "</g>\n",
       "\n",
       "<g class=\"displacy-arrow\">\n",
       "    <path class=\"displacy-arc\" id=\"arrow-4518d8bda61146d9a3704b42dd85041a-0-12\" stroke-width=\"2px\" d=\"M1390,242.0 C1390,122.0 1600.0,122.0 1600.0,242.0\" fill=\"none\" stroke=\"currentColor\"/>\n",
       "    <text dy=\"1.25em\" style=\"font-size: 0.8em; letter-spacing: 1px\">\n",
       "        <textPath xlink:href=\"#arrow-4518d8bda61146d9a3704b42dd85041a-0-12\" class=\"displacy-label\" startOffset=\"50%\" side=\"left\" fill=\"currentColor\" text-anchor=\"middle\">pobj</textPath>\n",
       "    </text>\n",
       "    <path class=\"displacy-arrowhead\" d=\"M1600.0,244.0 L1603.0,237.0 1597.0,237.0\" fill=\"currentColor\"/>\n",
       "</g>\n",
       "</svg>"
      ],
      "text/plain": [
       "<IPython.core.display.HTML object>"
      ]
     },
     "metadata": {},
     "output_type": "display_data"
    }
   ],
   "source": [
    "# Using spacy\n",
    "from spacy import displacy\n",
    "\n",
    "displacy.render(sentence_nlp, jupyter=True, options={'distance': 120, 'arrow_stroke': 2, 'arrow_width': 5})"
   ]
  },
  {
   "cell_type": "markdown",
   "metadata": {},
   "source": [
    "Another way to do this is to use the `StanfordDependencyParser` from `nltk` to visualize and build the dependency tree"
   ]
  },
  {
   "cell_type": "code",
   "execution_count": 169,
   "metadata": {},
   "outputs": [
    {
     "name": "stderr",
     "output_type": "stream",
     "text": [
      "C:\\Users\\aksin\\Anaconda3\\envs\\tf-gpu\\lib\\site-packages\\ipykernel_launcher.py:5: DeprecationWarning: The StanfordDependencyParser will be deprecated\n",
      "Please use \u001b[91mnltk.parse.corenlp.CoreNLPDependencyParser\u001b[0m instead.\n",
      "  \"\"\"\n"
     ]
    },
    {
     "name": "stdout",
     "output_type": "stream",
     "text": [
      "(shocks\n",
      "  (Gaga Lady)\n",
      "  fans\n",
      "  (sharing by (photo a (intimate very) (Polansky with Michael))))\n"
     ]
    },
    {
     "data": {
      "image/png": "[encoded data removed]",
      "text/plain": [
       "Tree('shocks', [Tree('Gaga', ['Lady']), 'fans', Tree('sharing', ['by', Tree('photo', ['a', Tree('intimate', ['very']), Tree('Polansky', ['with', 'Michael'])])])])"
      ]
     },
     "metadata": {},
     "output_type": "display_data"
    }
   ],
   "source": [
    "# Using nltk StanfordDependencyParser\n",
    "from nltk.parse.stanford import StanfordDependencyParser\n",
    "\n",
    "scp = StanfordDependencyParser(path_to_jar='stanford-parser-full-2018-10-17/stanford-parser.jar', \n",
    "                     path_to_models_jar='stanford-parser-full-2018-10-17/stanford-parser-3.9.2-models.jar')\n",
    "\n",
    "result = list(scp.raw_parse(sentence))\n",
    "\n",
    "# print the dependency tree\n",
    "dep_tree = [parse.tree() for parse in result][0]\n",
    "print(dep_tree)\n",
    "\n",
    "# visualize raw dependency tree\n",
    "from IPython.display import display\n",
    "display(dep_tree)"
   ]
  },
  {
   "cell_type": "code",
   "execution_count": 170,
   "metadata": {},
   "outputs": [
    {
     "data": {
      "image/svg+xml": [
       "<?xml version=\"1.0\" encoding=\"UTF-8\" standalone=\"no\"?>\r\n",
       "<!DOCTYPE svg PUBLIC \"-//W3C//DTD SVG 1.1//EN\"\r\n",
       " \"http://www.w3.org/Graphics/SVG/1.1/DTD/svg11.dtd\">\r\n",
       "<!-- Generated by graphviz version 2.38.0 (20140413.2041)\r\n",
       " -->\r\n",
       "<!-- Title: G Pages: 1 -->\r\n",
       "<svg width=\"453pt\" height=\"479pt\"\r\n",
       " viewBox=\"0.00 0.00 452.50 479.00\" xmlns=\"http://www.w3.org/2000/svg\" xmlns:xlink=\"http://www.w3.org/1999/xlink\">\r\n",
       "<g id=\"graph0\" class=\"graph\" transform=\"scale(1 1) rotate(0) translate(4 475)\">\r\n",
       "<title>G</title>\r\n",
       "<polygon fill=\"white\" stroke=\"none\" points=\"-4,4 -4,-475 448.5,-475 448.5,4 -4,4\"/>\r\n",
       "<!-- 0 -->\r\n",
       "<g id=\"node1\" class=\"node\"><title>0</title>\r\n",
       "<text text-anchor=\"middle\" x=\"112.5\" y=\"-449.3\" font-family=\"Times New Roman,serif\" font-size=\"14.00\">0 (None)</text>\r\n",
       "</g>\r\n",
       "<!-- 3 -->\r\n",
       "<g id=\"node2\" class=\"node\"><title>3</title>\r\n",
       "<text text-anchor=\"middle\" x=\"112.5\" y=\"-362.3\" font-family=\"Times New Roman,serif\" font-size=\"14.00\">3 (shocks)</text>\r\n",
       "</g>\r\n",
       "<!-- 0&#45;&gt;3 -->\r\n",
       "<g id=\"edge1\" class=\"edge\"><title>0&#45;&gt;3</title>\r\n",
       "<path fill=\"none\" stroke=\"black\" d=\"M112.5,-434.799C112.5,-423.163 112.5,-407.548 112.5,-394.237\"/>\r\n",
       "<polygon fill=\"black\" stroke=\"black\" points=\"116,-394.175 112.5,-384.175 109,-394.175 116,-394.175\"/>\r\n",
       "<text text-anchor=\"middle\" x=\"124.5\" y=\"-405.8\" font-family=\"Times New Roman,serif\" font-size=\"14.00\">root</text>\r\n",
       "</g>\r\n",
       "<!-- 2 -->\r\n",
       "<g id=\"node4\" class=\"node\"><title>2</title>\r\n",
       "<text text-anchor=\"middle\" x=\"32.5\" y=\"-275.3\" font-family=\"Times New Roman,serif\" font-size=\"14.00\">2 (Gaga)</text>\r\n",
       "</g>\r\n",
       "<!-- 3&#45;&gt;2 -->\r\n",
       "<g id=\"edge3\" class=\"edge\"><title>3&#45;&gt;2</title>\r\n",
       "<path fill=\"none\" stroke=\"black\" d=\"M94.8705,-347.731C89.2554,-342.135 83.0597,-335.86 77.5,-330 69.9041,-321.994 61.7842,-313.085 54.5622,-305.031\"/>\r\n",
       "<polygon fill=\"black\" stroke=\"black\" points=\"56.96,-302.461 47.6922,-297.328 51.7356,-307.12 56.96,-302.461\"/>\r\n",
       "<text text-anchor=\"middle\" x=\"93\" y=\"-318.8\" font-family=\"Times New Roman,serif\" font-size=\"14.00\">nsubj</text>\r\n",
       "</g>\r\n",
       "<!-- 4 -->\r\n",
       "<g id=\"node5\" class=\"node\"><title>4</title>\r\n",
       "<text text-anchor=\"middle\" x=\"112.5\" y=\"-275.3\" font-family=\"Times New Roman,serif\" font-size=\"14.00\">4 (fans)</text>\r\n",
       "</g>\r\n",
       "<!-- 3&#45;&gt;4 -->\r\n",
       "<g id=\"edge4\" class=\"edge\"><title>3&#45;&gt;4</title>\r\n",
       "<path fill=\"none\" stroke=\"black\" d=\"M112.5,-347.799C112.5,-336.163 112.5,-320.548 112.5,-307.237\"/>\r\n",
       "<polygon fill=\"black\" stroke=\"black\" points=\"116,-307.175 112.5,-297.175 109,-307.175 116,-307.175\"/>\r\n",
       "<text text-anchor=\"middle\" x=\"125.5\" y=\"-318.8\" font-family=\"Times New Roman,serif\" font-size=\"14.00\">dobj</text>\r\n",
       "</g>\r\n",
       "<!-- 6 -->\r\n",
       "<g id=\"node6\" class=\"node\"><title>6</title>\r\n",
       "<text text-anchor=\"middle\" x=\"198.5\" y=\"-275.3\" font-family=\"Times New Roman,serif\" font-size=\"14.00\">6 (sharing)</text>\r\n",
       "</g>\r\n",
       "<!-- 3&#45;&gt;6 -->\r\n",
       "<g id=\"edge5\" class=\"edge\"><title>3&#45;&gt;6</title>\r\n",
       "<path fill=\"none\" stroke=\"black\" d=\"M129.903,-347.799C142.493,-335.356 159.684,-318.364 173.707,-304.504\"/>\r\n",
       "<polygon fill=\"black\" stroke=\"black\" points=\"176.471,-306.694 181.122,-297.175 171.55,-301.716 176.471,-306.694\"/>\r\n",
       "<text text-anchor=\"middle\" x=\"177\" y=\"-318.8\" font-family=\"Times New Roman,serif\" font-size=\"14.00\">advcl</text>\r\n",
       "</g>\r\n",
       "<!-- 1 -->\r\n",
       "<g id=\"node3\" class=\"node\"><title>1</title>\r\n",
       "<text text-anchor=\"middle\" x=\"32.5\" y=\"-188.3\" font-family=\"Times New Roman,serif\" font-size=\"14.00\">1 (Lady)</text>\r\n",
       "</g>\r\n",
       "<!-- 2&#45;&gt;1 -->\r\n",
       "<g id=\"edge2\" class=\"edge\"><title>2&#45;&gt;1</title>\r\n",
       "<path fill=\"none\" stroke=\"black\" d=\"M32.5,-260.799C32.5,-249.163 32.5,-233.548 32.5,-220.237\"/>\r\n",
       "<polygon fill=\"black\" stroke=\"black\" points=\"36.0001,-220.175 32.5,-210.175 29.0001,-220.175 36.0001,-220.175\"/>\r\n",
       "<text text-anchor=\"middle\" x=\"63\" y=\"-231.8\" font-family=\"Times New Roman,serif\" font-size=\"14.00\">compound</text>\r\n",
       "</g>\r\n",
       "<!-- 5 -->\r\n",
       "<g id=\"node7\" class=\"node\"><title>5</title>\r\n",
       "<text text-anchor=\"middle\" x=\"131.5\" y=\"-188.3\" font-family=\"Times New Roman,serif\" font-size=\"14.00\">5 (by)</text>\r\n",
       "</g>\r\n",
       "<!-- 6&#45;&gt;5 -->\r\n",
       "<g id=\"edge6\" class=\"edge\"><title>6&#45;&gt;5</title>\r\n",
       "<path fill=\"none\" stroke=\"black\" d=\"M184.942,-260.799C175.315,-248.587 162.235,-231.992 151.425,-218.278\"/>\r\n",
       "<polygon fill=\"black\" stroke=\"black\" points=\"153.978,-215.862 145.038,-210.175 148.48,-220.196 153.978,-215.862\"/>\r\n",
       "<text text-anchor=\"middle\" x=\"183.5\" y=\"-231.8\" font-family=\"Times New Roman,serif\" font-size=\"14.00\">mark</text>\r\n",
       "</g>\r\n",
       "<!-- 10 -->\r\n",
       "<g id=\"node8\" class=\"node\"><title>10</title>\r\n",
       "<text text-anchor=\"middle\" x=\"214.5\" y=\"-188.3\" font-family=\"Times New Roman,serif\" font-size=\"14.00\">10 (photo)</text>\r\n",
       "</g>\r\n",
       "<!-- 6&#45;&gt;10 -->\r\n",
       "<g id=\"edge7\" class=\"edge\"><title>6&#45;&gt;10</title>\r\n",
       "<path fill=\"none\" stroke=\"black\" d=\"M201.738,-260.799C203.928,-249.163 206.867,-233.548 209.373,-220.237\"/>\r\n",
       "<polygon fill=\"black\" stroke=\"black\" points=\"212.857,-220.65 211.267,-210.175 205.977,-219.355 212.857,-220.65\"/>\r\n",
       "<text text-anchor=\"middle\" x=\"220.5\" y=\"-231.8\" font-family=\"Times New Roman,serif\" font-size=\"14.00\">dobj</text>\r\n",
       "</g>\r\n",
       "<!-- 7 -->\r\n",
       "<g id=\"node9\" class=\"node\"><title>7</title>\r\n",
       "<text text-anchor=\"middle\" x=\"129.5\" y=\"-101.3\" font-family=\"Times New Roman,serif\" font-size=\"14.00\">7 (a)</text>\r\n",
       "</g>\r\n",
       "<!-- 10&#45;&gt;7 -->\r\n",
       "<g id=\"edge9\" class=\"edge\"><title>10&#45;&gt;7</title>\r\n",
       "<path fill=\"none\" stroke=\"black\" d=\"M197.299,-173.799C184.856,-161.356 167.864,-144.364 154.004,-130.504\"/>\r\n",
       "<polygon fill=\"black\" stroke=\"black\" points=\"156.221,-127.772 146.675,-123.175 151.272,-132.721 156.221,-127.772\"/>\r\n",
       "<text text-anchor=\"middle\" x=\"186.5\" y=\"-144.8\" font-family=\"Times New Roman,serif\" font-size=\"14.00\">det</text>\r\n",
       "</g>\r\n",
       "<!-- 9 -->\r\n",
       "<g id=\"node11\" class=\"node\"><title>9</title>\r\n",
       "<text text-anchor=\"middle\" x=\"214.5\" y=\"-101.3\" font-family=\"Times New Roman,serif\" font-size=\"14.00\">9 (intimate)</text>\r\n",
       "</g>\r\n",
       "<!-- 10&#45;&gt;9 -->\r\n",
       "<g id=\"edge10\" class=\"edge\"><title>10&#45;&gt;9</title>\r\n",
       "<path fill=\"none\" stroke=\"black\" d=\"M214.5,-173.799C214.5,-162.163 214.5,-146.548 214.5,-133.237\"/>\r\n",
       "<polygon fill=\"black\" stroke=\"black\" points=\"218,-133.175 214.5,-123.175 211,-133.175 218,-133.175\"/>\r\n",
       "<text text-anchor=\"middle\" x=\"230.5\" y=\"-144.8\" font-family=\"Times New Roman,serif\" font-size=\"14.00\">amod</text>\r\n",
       "</g>\r\n",
       "<!-- 13 -->\r\n",
       "<g id=\"node12\" class=\"node\"><title>13</title>\r\n",
       "<text text-anchor=\"middle\" x=\"319.5\" y=\"-101.3\" font-family=\"Times New Roman,serif\" font-size=\"14.00\">13 (Polansky)</text>\r\n",
       "</g>\r\n",
       "<!-- 10&#45;&gt;13 -->\r\n",
       "<g id=\"edge11\" class=\"edge\"><title>10&#45;&gt;13</title>\r\n",
       "<path fill=\"none\" stroke=\"black\" d=\"M235.748,-173.799C251.404,-161.126 272.888,-143.734 290.177,-129.738\"/>\r\n",
       "<polygon fill=\"black\" stroke=\"black\" points=\"292.713,-132.188 298.283,-123.175 288.309,-126.747 292.713,-132.188\"/>\r\n",
       "<text text-anchor=\"middle\" x=\"290\" y=\"-144.8\" font-family=\"Times New Roman,serif\" font-size=\"14.00\">nmod</text>\r\n",
       "</g>\r\n",
       "<!-- 8 -->\r\n",
       "<g id=\"node10\" class=\"node\"><title>8</title>\r\n",
       "<text text-anchor=\"middle\" x=\"214.5\" y=\"-14.3\" font-family=\"Times New Roman,serif\" font-size=\"14.00\">8 (very)</text>\r\n",
       "</g>\r\n",
       "<!-- 9&#45;&gt;8 -->\r\n",
       "<g id=\"edge8\" class=\"edge\"><title>9&#45;&gt;8</title>\r\n",
       "<path fill=\"none\" stroke=\"black\" d=\"M214.5,-86.799C214.5,-75.1626 214.5,-59.5479 214.5,-46.2368\"/>\r\n",
       "<polygon fill=\"black\" stroke=\"black\" points=\"218,-46.1754 214.5,-36.1754 211,-46.1755 218,-46.1754\"/>\r\n",
       "<text text-anchor=\"middle\" x=\"237.5\" y=\"-57.8\" font-family=\"Times New Roman,serif\" font-size=\"14.00\">advmod</text>\r\n",
       "</g>\r\n",
       "<!-- 11 -->\r\n",
       "<g id=\"node13\" class=\"node\"><title>11</title>\r\n",
       "<text text-anchor=\"middle\" x=\"307.5\" y=\"-14.3\" font-family=\"Times New Roman,serif\" font-size=\"14.00\">11 (with)</text>\r\n",
       "</g>\r\n",
       "<!-- 13&#45;&gt;11 -->\r\n",
       "<g id=\"edge12\" class=\"edge\"><title>13&#45;&gt;11</title>\r\n",
       "<path fill=\"none\" stroke=\"black\" d=\"M317.072,-86.799C315.429,-75.1626 313.224,-59.5479 311.345,-46.2368\"/>\r\n",
       "<polygon fill=\"black\" stroke=\"black\" points=\"314.788,-45.588 309.925,-36.1754 307.857,-46.5665 314.788,-45.588\"/>\r\n",
       "<text text-anchor=\"middle\" x=\"326\" y=\"-57.8\" font-family=\"Times New Roman,serif\" font-size=\"14.00\">case</text>\r\n",
       "</g>\r\n",
       "<!-- 12 -->\r\n",
       "<g id=\"node14\" class=\"node\"><title>12</title>\r\n",
       "<text text-anchor=\"middle\" x=\"401.5\" y=\"-14.3\" font-family=\"Times New Roman,serif\" font-size=\"14.00\">12 (Michael)</text>\r\n",
       "</g>\r\n",
       "<!-- 13&#45;&gt;12 -->\r\n",
       "<g id=\"edge13\" class=\"edge\"><title>13&#45;&gt;12</title>\r\n",
       "<path fill=\"none\" stroke=\"black\" d=\"M336.094,-86.799C348.098,-74.3561 364.49,-57.3644 377.86,-43.5044\"/>\r\n",
       "<polygon fill=\"black\" stroke=\"black\" points=\"380.507,-45.8024 384.931,-36.1754 375.469,-40.9424 380.507,-45.8024\"/>\r\n",
       "<text text-anchor=\"middle\" x=\"395\" y=\"-57.8\" font-family=\"Times New Roman,serif\" font-size=\"14.00\">compound</text>\r\n",
       "</g>\r\n",
       "</g>\r\n",
       "</svg>\r\n"
      ],
      "text/plain": [
       "<graphviz.files.Source at 0x280d432ac48>"
      ]
     },
     "execution_count": 170,
     "metadata": {},
     "output_type": "execute_result"
    }
   ],
   "source": [
    "# visualize annotated dependency tree\n",
    "os.environ[\"PATH\"] += os.pathsep + r'C:\\Program Files (x86)\\Graphviz2.38\\bin'\n",
    "\n",
    "from graphviz import Source\n",
    "dep_tree_dot_repr = [parse for parse in result][0].to_dot()\n",
    "source = Source(dep_tree_dot_repr, filename=\"dep_tree\", format=\"png\")\n",
    "source"
   ]
  },
  {
   "cell_type": "markdown",
   "metadata": {},
   "source": [
    "## Named Entity Recognition (NER)\n",
    "\n",
    "Typically, a text document will have specific entities that specifically refer to proper nouns like people's names, places, organizations, teams, etc. This technique classifies these entities under predefined classes. `spacy` has some capabilities to do this so let's try it."
   ]
  },
  {
   "cell_type": "code",
   "execution_count": 172,
   "metadata": {},
   "outputs": [
    {
     "name": "stdout",
     "output_type": "stream",
     "text": [
      "[(Gaga, 'PERSON'), (Michael, 'PERSON'), (Polansky, 'PERSON'), (Gaga, 'PERSON'), (Michael, 'PERSON'), (Polansky, 'PERSON'), (Sunday, 'DATE'), (Super, 'EVENT'), (Bowl, 'EVENT'), (LIV, 'EVENT'), (Miami, 'GPE')]\n"
     ]
    },
    {
     "data": {
      "text/html": [
       "<div class=\"entities\" style=\"line-height: 2.5; direction: ltr\"> Lady \n",
       "<mark class=\"entity\" style=\"background: #aa9cfc; padding: 0.45em 0.6em; margin: 0 0.25em; line-height: 1; border-radius: 0.35em;\">\n",
       "    Gaga\n",
       "    <span style=\"font-size: 0.8em; font-weight: bold; line-height: 1; border-radius: 0.35em; text-transform: uppercase; vertical-align: middle; margin-left: 0.5rem\">PERSON</span>\n",
       "</mark>\n",
       " shocks fans by sharing a very intimate photo with \n",
       "<mark class=\"entity\" style=\"background: #aa9cfc; padding: 0.45em 0.6em; margin: 0 0.25em; line-height: 1; border-radius: 0.35em;\">\n",
       "    Michael Polansky\n",
       "    <span style=\"font-size: 0.8em; font-weight: bold; line-height: 1; border-radius: 0.35em; text-transform: uppercase; vertical-align: middle; margin-left: 0.5rem\">PERSON</span>\n",
       "</mark>\n",
       ".  Lady \n",
       "<mark class=\"entity\" style=\"background: #aa9cfc; padding: 0.45em 0.6em; margin: 0 0.25em; line-height: 1; border-radius: 0.35em;\">\n",
       "    Gaga\n",
       "    <span style=\"font-size: 0.8em; font-weight: bold; line-height: 1; border-radius: 0.35em; text-transform: uppercase; vertical-align: middle; margin-left: 0.5rem\">PERSON</span>\n",
       "</mark>\n",
       " is certainly not hiding her love for new beau \n",
       "<mark class=\"entity\" style=\"background: #aa9cfc; padding: 0.45em 0.6em; margin: 0 0.25em; line-height: 1; border-radius: 0.35em;\">\n",
       "    Michael Polansky\n",
       "    <span style=\"font-size: 0.8em; font-weight: bold; line-height: 1; border-radius: 0.35em; text-transform: uppercase; vertical-align: middle; margin-left: 0.5rem\">PERSON</span>\n",
       "</mark>\n",
       ", whom she just went public with on \n",
       "<mark class=\"entity\" style=\"background: #bfe1d9; padding: 0.45em 0.6em; margin: 0 0.25em; line-height: 1; border-radius: 0.35em;\">\n",
       "    Sunday\n",
       "    <span style=\"font-size: 0.8em; font-weight: bold; line-height: 1; border-radius: 0.35em; text-transform: uppercase; vertical-align: middle; margin-left: 0.5rem\">DATE</span>\n",
       "</mark>\n",
       " at \n",
       "<mark class=\"entity\" style=\"background: #ffeb80; padding: 0.45em 0.6em; margin: 0 0.25em; line-height: 1; border-radius: 0.35em;\">\n",
       "    Super Bowl LIV\n",
       "    <span style=\"font-size: 0.8em; font-weight: bold; line-height: 1; border-radius: 0.35em; text-transform: uppercase; vertical-align: middle; margin-left: 0.5rem\">EVENT</span>\n",
       "</mark>\n",
       " in \n",
       "<mark class=\"entity\" style=\"background: #feca74; padding: 0.45em 0.6em; margin: 0 0.25em; line-height: 1; border-radius: 0.35em;\">\n",
       "    Miami\n",
       "    <span style=\"font-size: 0.8em; font-weight: bold; line-height: 1; border-radius: 0.35em; text-transform: uppercase; vertical-align: middle; margin-left: 0.5rem\">GPE</span>\n",
       "</mark>\n",
       " after …</div>"
      ],
      "text/plain": [
       "<IPython.core.display.HTML object>"
      ]
     },
     "metadata": {},
     "output_type": "display_data"
    }
   ],
   "source": [
    "sentence = str(news_df.iloc[0].full_text)\n",
    "sentence_nlp = nlp(sentence)\n",
    "\n",
    "# print named entities in an article\n",
    "print([(word, word.ent_type_) for word in sentence_nlp if word.ent_type_])\n",
    "\n",
    "# visualize named entities\n",
    "displacy.render(sentence_nlp, style='ent', jupyter=True)"
   ]
  },
  {
   "cell_type": "markdown",
   "metadata": {},
   "source": [
    "This is pretty cool.  It picks up all the entities in this doc.\n",
    "\n",
    "We can now use this to find the most frequently named entities in the news corpus. "
   ]
  },
  {
   "cell_type": "code",
   "execution_count": 174,
   "metadata": {},
   "outputs": [
    {
     "data": {
      "text/html": [
       "<div>\n",
       "<style scoped>\n",
       "    .dataframe tbody tr th:only-of-type {\n",
       "        vertical-align: middle;\n",
       "    }\n",
       "\n",
       "    .dataframe tbody tr th {\n",
       "        vertical-align: top;\n",
       "    }\n",
       "\n",
       "    .dataframe thead th {\n",
       "        text-align: right;\n",
       "    }\n",
       "</style>\n",
       "<table border=\"1\" class=\"dataframe\">\n",
       "  <thead>\n",
       "    <tr style=\"text-align: right;\">\n",
       "      <th></th>\n",
       "      <th>Entity Name</th>\n",
       "      <th>Entity Type</th>\n",
       "    </tr>\n",
       "  </thead>\n",
       "  <tbody>\n",
       "    <tr>\n",
       "      <th>0</th>\n",
       "      <td>Gaga</td>\n",
       "      <td>PERSON</td>\n",
       "    </tr>\n",
       "    <tr>\n",
       "      <th>1</th>\n",
       "      <td>Michael Polansky</td>\n",
       "      <td>PERSON</td>\n",
       "    </tr>\n",
       "    <tr>\n",
       "      <th>2</th>\n",
       "      <td>Gaga</td>\n",
       "      <td>PERSON</td>\n",
       "    </tr>\n",
       "    <tr>\n",
       "      <th>3</th>\n",
       "      <td>Michael Polansky</td>\n",
       "      <td>PERSON</td>\n",
       "    </tr>\n",
       "    <tr>\n",
       "      <th>4</th>\n",
       "      <td>Sunday Super Bowl LIV Miami</td>\n",
       "      <td>GPE</td>\n",
       "    </tr>\n",
       "    <tr>\n",
       "      <th>5</th>\n",
       "      <td>Buffalo Bills</td>\n",
       "      <td>ORG</td>\n",
       "    </tr>\n",
       "    <tr>\n",
       "      <th>6</th>\n",
       "      <td>Greg Olsen</td>\n",
       "      <td>PERSON</td>\n",
       "    </tr>\n",
       "    <tr>\n",
       "      <th>7</th>\n",
       "      <td>hours Greg Olsen</td>\n",
       "      <td>PERSON</td>\n",
       "    </tr>\n",
       "    <tr>\n",
       "      <th>8</th>\n",
       "      <td>Carolina Panthers</td>\n",
       "      <td>ORG</td>\n",
       "    </tr>\n",
       "    <tr>\n",
       "      <th>9</th>\n",
       "      <td>Pro Bowl</td>\n",
       "      <td>ORG</td>\n",
       "    </tr>\n",
       "  </tbody>\n",
       "</table>\n",
       "</div>"
      ],
      "text/plain": [
       "                   Entity Name Entity Type\n",
       "0                         Gaga      PERSON\n",
       "1             Michael Polansky      PERSON\n",
       "2                         Gaga      PERSON\n",
       "3             Michael Polansky      PERSON\n",
       "4  Sunday Super Bowl LIV Miami         GPE\n",
       "5                Buffalo Bills         ORG\n",
       "6                   Greg Olsen      PERSON\n",
       "7             hours Greg Olsen      PERSON\n",
       "8            Carolina Panthers         ORG\n",
       "9                     Pro Bowl         ORG"
      ]
     },
     "execution_count": 174,
     "metadata": {},
     "output_type": "execute_result"
    }
   ],
   "source": [
    "# Create a dataframe of named entities and their type\n",
    "named_entities = []\n",
    "for sentence in corpus:\n",
    "    temp_entity_name = ''\n",
    "    temp_named_entity = None\n",
    "    sentence = nlp(sentence)\n",
    "    for word in sentence:\n",
    "        term = word.text\n",
    "        tag = word.ent_type_\n",
    "        if tag:\n",
    "            temp_entity_name = ' '.join([temp_entity_name, term]).strip()\n",
    "            temp_named_entity = (temp_entity_name, tag)\n",
    "        else:\n",
    "            if temp_named_entity:\n",
    "                named_entities.append(temp_named_entity)\n",
    "                temp_entity_name = ''\n",
    "                temp_named_entity = None\n",
    "\n",
    "df_entity = pd.DataFrame(named_entities, columns=['Entity Name', 'Entity Type'])\n",
    "df_entity.head(10)"
   ]
  },
  {
   "cell_type": "code",
   "execution_count": 175,
   "metadata": {},
   "outputs": [
    {
     "data": {
      "text/html": [
       "<div>\n",
       "<style scoped>\n",
       "    .dataframe tbody tr th:only-of-type {\n",
       "        vertical-align: middle;\n",
       "    }\n",
       "\n",
       "    .dataframe tbody tr th {\n",
       "        vertical-align: top;\n",
       "    }\n",
       "\n",
       "    .dataframe thead th {\n",
       "        text-align: right;\n",
       "    }\n",
       "</style>\n",
       "<table border=\"1\" class=\"dataframe\">\n",
       "  <thead>\n",
       "    <tr style=\"text-align: right;\">\n",
       "      <th></th>\n",
       "      <th>0</th>\n",
       "      <th>1</th>\n",
       "      <th>2</th>\n",
       "      <th>3</th>\n",
       "      <th>4</th>\n",
       "      <th>5</th>\n",
       "      <th>6</th>\n",
       "      <th>7</th>\n",
       "      <th>8</th>\n",
       "      <th>9</th>\n",
       "      <th>10</th>\n",
       "      <th>11</th>\n",
       "      <th>12</th>\n",
       "      <th>13</th>\n",
       "      <th>14</th>\n",
       "    </tr>\n",
       "  </thead>\n",
       "  <tbody>\n",
       "    <tr>\n",
       "      <th>Entity Name</th>\n",
       "      <td>Iowa</td>\n",
       "      <td>first</td>\n",
       "      <td>Monday</td>\n",
       "      <td>Trump</td>\n",
       "      <td>China</td>\n",
       "      <td>one</td>\n",
       "      <td>Apple</td>\n",
       "      <td>Kansas City Chiefs</td>\n",
       "      <td>Senate</td>\n",
       "      <td>Trump</td>\n",
       "      <td>AP</td>\n",
       "      <td>Super Bowl</td>\n",
       "      <td>Republican</td>\n",
       "      <td>Tesla</td>\n",
       "      <td>Democrats</td>\n",
       "    </tr>\n",
       "    <tr>\n",
       "      <th>Entity Type</th>\n",
       "      <td>GPE</td>\n",
       "      <td>ORDINAL</td>\n",
       "      <td>DATE</td>\n",
       "      <td>PERSON</td>\n",
       "      <td>GPE</td>\n",
       "      <td>CARDINAL</td>\n",
       "      <td>ORG</td>\n",
       "      <td>ORG</td>\n",
       "      <td>ORG</td>\n",
       "      <td>ORG</td>\n",
       "      <td>ORG</td>\n",
       "      <td>EVENT</td>\n",
       "      <td>NORP</td>\n",
       "      <td>ORG</td>\n",
       "      <td>NORP</td>\n",
       "    </tr>\n",
       "    <tr>\n",
       "      <th>Frequency</th>\n",
       "      <td>16</td>\n",
       "      <td>12</td>\n",
       "      <td>8</td>\n",
       "      <td>7</td>\n",
       "      <td>7</td>\n",
       "      <td>7</td>\n",
       "      <td>7</td>\n",
       "      <td>7</td>\n",
       "      <td>6</td>\n",
       "      <td>6</td>\n",
       "      <td>6</td>\n",
       "      <td>6</td>\n",
       "      <td>5</td>\n",
       "      <td>5</td>\n",
       "      <td>5</td>\n",
       "    </tr>\n",
       "  </tbody>\n",
       "</table>\n",
       "</div>"
      ],
      "text/plain": [
       "                0        1       2       3      4         5      6  \\\n",
       "Entity Name  Iowa    first  Monday   Trump  China       one  Apple   \n",
       "Entity Type   GPE  ORDINAL    DATE  PERSON    GPE  CARDINAL    ORG   \n",
       "Frequency      16       12       8       7      7         7      7   \n",
       "\n",
       "                              7       8      9   10          11          12  \\\n",
       "Entity Name  Kansas City Chiefs  Senate  Trump   AP  Super Bowl  Republican   \n",
       "Entity Type                 ORG     ORG    ORG  ORG       EVENT        NORP   \n",
       "Frequency                     7       6      6    6           6           5   \n",
       "\n",
       "                13         14  \n",
       "Entity Name  Tesla  Democrats  \n",
       "Entity Type    ORG       NORP  \n",
       "Frequency        5          5  "
      ]
     },
     "execution_count": 175,
     "metadata": {},
     "output_type": "execute_result"
    }
   ],
   "source": [
    "# get the top named entities\n",
    "top_entities = (df_entity.groupby(by=['Entity Name', 'Entity Type']) \\\n",
    "                    .size() \\\n",
    "                    .sort_values(ascending=False) \\\n",
    "                    .reset_index().rename(columns={0: 'Frequency'}))\n",
    "top_entities.T.iloc[:, :15]"
   ]
  },
  {
   "cell_type": "markdown",
   "metadata": {},
   "source": [
    "Look at the top named entities.  This is not surprising given that the Iowa caucuses are today and that the Superbowl was yesterday, and that coronavirus is currently the biggest health news item. "
   ]
  },
  {
   "cell_type": "code",
   "execution_count": 176,
   "metadata": {
    "scrolled": true
   },
   "outputs": [
    {
     "data": {
      "text/html": [
       "<div>\n",
       "<style scoped>\n",
       "    .dataframe tbody tr th:only-of-type {\n",
       "        vertical-align: middle;\n",
       "    }\n",
       "\n",
       "    .dataframe tbody tr th {\n",
       "        vertical-align: top;\n",
       "    }\n",
       "\n",
       "    .dataframe thead th {\n",
       "        text-align: right;\n",
       "    }\n",
       "</style>\n",
       "<table border=\"1\" class=\"dataframe\">\n",
       "  <thead>\n",
       "    <tr style=\"text-align: right;\">\n",
       "      <th></th>\n",
       "      <th>0</th>\n",
       "      <th>1</th>\n",
       "      <th>2</th>\n",
       "      <th>3</th>\n",
       "      <th>4</th>\n",
       "      <th>5</th>\n",
       "      <th>6</th>\n",
       "      <th>7</th>\n",
       "      <th>8</th>\n",
       "      <th>9</th>\n",
       "      <th>10</th>\n",
       "      <th>11</th>\n",
       "      <th>12</th>\n",
       "      <th>13</th>\n",
       "      <th>14</th>\n",
       "    </tr>\n",
       "  </thead>\n",
       "  <tbody>\n",
       "    <tr>\n",
       "      <th>Entity Type</th>\n",
       "      <td>ORG</td>\n",
       "      <td>PERSON</td>\n",
       "      <td>GPE</td>\n",
       "      <td>DATE</td>\n",
       "      <td>CARDINAL</td>\n",
       "      <td>NORP</td>\n",
       "      <td>ORDINAL</td>\n",
       "      <td>EVENT</td>\n",
       "      <td>MONEY</td>\n",
       "      <td>TIME</td>\n",
       "      <td>LOC</td>\n",
       "      <td>PRODUCT</td>\n",
       "      <td>WORK_OF_ART</td>\n",
       "      <td>FAC</td>\n",
       "      <td>LAW</td>\n",
       "    </tr>\n",
       "    <tr>\n",
       "      <th>Frequency</th>\n",
       "      <td>185</td>\n",
       "      <td>145</td>\n",
       "      <td>102</td>\n",
       "      <td>63</td>\n",
       "      <td>55</td>\n",
       "      <td>39</td>\n",
       "      <td>15</td>\n",
       "      <td>15</td>\n",
       "      <td>10</td>\n",
       "      <td>8</td>\n",
       "      <td>8</td>\n",
       "      <td>8</td>\n",
       "      <td>7</td>\n",
       "      <td>5</td>\n",
       "      <td>3</td>\n",
       "    </tr>\n",
       "  </tbody>\n",
       "</table>\n",
       "</div>"
      ],
      "text/plain": [
       "               0       1    2     3         4     5        6      7      8  \\\n",
       "Entity Type  ORG  PERSON  GPE  DATE  CARDINAL  NORP  ORDINAL  EVENT  MONEY   \n",
       "Frequency    185     145  102    63        55    39       15     15     10   \n",
       "\n",
       "                9   10       11           12   13   14  \n",
       "Entity Type  TIME  LOC  PRODUCT  WORK_OF_ART  FAC  LAW  \n",
       "Frequency       8    8        8            7    5    3  "
      ]
     },
     "execution_count": 176,
     "metadata": {},
     "output_type": "execute_result"
    }
   ],
   "source": [
    "# get the top named entities\n",
    "top_entities = (df_entity.groupby(by=['Entity Type']) \\\n",
    "                   .size() \\\n",
    "                   .sort_values(ascending=False) \\\n",
    "                   .reset_index().rename(columns={0: 'Frequency'}))\n",
    "top_entities.T.iloc[:, :15]"
   ]
  },
  {
   "cell_type": "markdown",
   "metadata": {},
   "source": [
    "We can also use the `StandfordNERTagger` from `nltk`. "
   ]
  },
  {
   "cell_type": "code",
   "execution_count": 178,
   "metadata": {},
   "outputs": [
    {
     "name": "stdout",
     "output_type": "stream",
     "text": [
      "Wall time: 4min 12s\n"
     ]
    },
    {
     "data": {
      "text/html": [
       "<div>\n",
       "<style scoped>\n",
       "    .dataframe tbody tr th:only-of-type {\n",
       "        vertical-align: middle;\n",
       "    }\n",
       "\n",
       "    .dataframe tbody tr th {\n",
       "        vertical-align: top;\n",
       "    }\n",
       "\n",
       "    .dataframe thead th {\n",
       "        text-align: right;\n",
       "    }\n",
       "</style>\n",
       "<table border=\"1\" class=\"dataframe\">\n",
       "  <thead>\n",
       "    <tr style=\"text-align: right;\">\n",
       "      <th></th>\n",
       "      <th>Entity Name</th>\n",
       "      <th>Entity Type</th>\n",
       "    </tr>\n",
       "  </thead>\n",
       "  <tbody>\n",
       "    <tr>\n",
       "      <th>0</th>\n",
       "      <td>Lady Gaga</td>\n",
       "      <td>PERSON</td>\n",
       "    </tr>\n",
       "    <tr>\n",
       "      <th>1</th>\n",
       "      <td>Michael Polansky. Lady Gaga</td>\n",
       "      <td>PERSON</td>\n",
       "    </tr>\n",
       "    <tr>\n",
       "      <th>2</th>\n",
       "      <td>Michael Polansky</td>\n",
       "      <td>PERSON</td>\n",
       "    </tr>\n",
       "    <tr>\n",
       "      <th>3</th>\n",
       "      <td>Miami</td>\n",
       "      <td>LOCATION</td>\n",
       "    </tr>\n",
       "    <tr>\n",
       "      <th>4</th>\n",
       "      <td>Buffalo Bills</td>\n",
       "      <td>ORGANIZATION</td>\n",
       "    </tr>\n",
       "  </tbody>\n",
       "</table>\n",
       "</div>"
      ],
      "text/plain": [
       "                   Entity Name   Entity Type\n",
       "0                    Lady Gaga        PERSON\n",
       "1  Michael Polansky. Lady Gaga        PERSON\n",
       "2             Michael Polansky        PERSON\n",
       "3                        Miami      LOCATION\n",
       "4                Buffalo Bills  ORGANIZATION"
      ]
     },
     "execution_count": 178,
     "metadata": {},
     "output_type": "execute_result"
    }
   ],
   "source": [
    "%%time \n",
    "\n",
    "from nltk.tag import StanfordNERTagger\n",
    "\n",
    "java_path = r'C:\\Program Files\\Java\\jdk1.8.0_221\\bin\\java.exe'\n",
    "os.environ['JAVAHOME'] = java_path\n",
    "\n",
    "sn = StanfordNERTagger('stanford-ner-2018-10-16/classifiers/english.all.3class.distsim.crf.ser.gz', \n",
    "                     path_to_jar='stanford-ner-2018-10-16/stanford-ner.jar')\n",
    "\n",
    "# tag named entities\n",
    "ner_tagged_sentences = [sn.tag(sent.split()) for sent in corpus]\n",
    "\n",
    "# extract all named entities\n",
    "named_entities = []\n",
    "for sentence in ner_tagged_sentences:\n",
    "    temp_entity_name = ''\n",
    "    temp_named_entity = None\n",
    "    for term, tag in sentence:\n",
    "        if tag != 'O':\n",
    "            temp_entity_name = ' '.join([temp_entity_name, term]).strip()\n",
    "            temp_named_entity = (temp_entity_name, tag)\n",
    "        else:\n",
    "            if temp_named_entity:\n",
    "                named_entities.append(temp_named_entity)\n",
    "                temp_entity_name = ''\n",
    "                temp_named_entity = None\n",
    "\n",
    "df_entity = pd.DataFrame(named_entities, columns=['Entity Name', 'Entity Type'])\n",
    "df_entity.head()"
   ]
  },
  {
   "cell_type": "code",
   "execution_count": 179,
   "metadata": {},
   "outputs": [
    {
     "data": {
      "text/html": [
       "<div>\n",
       "<style scoped>\n",
       "    .dataframe tbody tr th:only-of-type {\n",
       "        vertical-align: middle;\n",
       "    }\n",
       "\n",
       "    .dataframe tbody tr th {\n",
       "        vertical-align: top;\n",
       "    }\n",
       "\n",
       "    .dataframe thead th {\n",
       "        text-align: right;\n",
       "    }\n",
       "</style>\n",
       "<table border=\"1\" class=\"dataframe\">\n",
       "  <thead>\n",
       "    <tr style=\"text-align: right;\">\n",
       "      <th></th>\n",
       "      <th>Entity Name</th>\n",
       "      <th>Entity Type</th>\n",
       "      <th>Frequency</th>\n",
       "    </tr>\n",
       "  </thead>\n",
       "  <tbody>\n",
       "    <tr>\n",
       "      <th>0</th>\n",
       "      <td>Iowa</td>\n",
       "      <td>LOCATION</td>\n",
       "      <td>17</td>\n",
       "    </tr>\n",
       "    <tr>\n",
       "      <th>1</th>\n",
       "      <td>Trump</td>\n",
       "      <td>PERSON</td>\n",
       "      <td>9</td>\n",
       "    </tr>\n",
       "    <tr>\n",
       "      <th>2</th>\n",
       "      <td>Kansas City Chiefs</td>\n",
       "      <td>ORGANIZATION</td>\n",
       "      <td>8</td>\n",
       "    </tr>\n",
       "    <tr>\n",
       "      <th>3</th>\n",
       "      <td>Apple</td>\n",
       "      <td>ORGANIZATION</td>\n",
       "      <td>6</td>\n",
       "    </tr>\n",
       "    <tr>\n",
       "      <th>4</th>\n",
       "      <td>Senate</td>\n",
       "      <td>ORGANIZATION</td>\n",
       "      <td>6</td>\n",
       "    </tr>\n",
       "    <tr>\n",
       "      <th>5</th>\n",
       "      <td>China</td>\n",
       "      <td>LOCATION</td>\n",
       "      <td>5</td>\n",
       "    </tr>\n",
       "    <tr>\n",
       "      <th>6</th>\n",
       "      <td>Disney</td>\n",
       "      <td>ORGANIZATION</td>\n",
       "      <td>4</td>\n",
       "    </tr>\n",
       "    <tr>\n",
       "      <th>7</th>\n",
       "      <td>U.S.</td>\n",
       "      <td>LOCATION</td>\n",
       "      <td>4</td>\n",
       "    </tr>\n",
       "    <tr>\n",
       "      <th>8</th>\n",
       "      <td>Kobe Bryant</td>\n",
       "      <td>PERSON</td>\n",
       "      <td>4</td>\n",
       "    </tr>\n",
       "    <tr>\n",
       "      <th>9</th>\n",
       "      <td>Kansas City</td>\n",
       "      <td>LOCATION</td>\n",
       "      <td>4</td>\n",
       "    </tr>\n",
       "    <tr>\n",
       "      <th>10</th>\n",
       "      <td>CNN</td>\n",
       "      <td>ORGANIZATION</td>\n",
       "      <td>4</td>\n",
       "    </tr>\n",
       "    <tr>\n",
       "      <th>11</th>\n",
       "      <td>SAP</td>\n",
       "      <td>ORGANIZATION</td>\n",
       "      <td>3</td>\n",
       "    </tr>\n",
       "    <tr>\n",
       "      <th>12</th>\n",
       "      <td>San Francisco</td>\n",
       "      <td>LOCATION</td>\n",
       "      <td>3</td>\n",
       "    </tr>\n",
       "    <tr>\n",
       "      <th>13</th>\n",
       "      <td>Trumps</td>\n",
       "      <td>PERSON</td>\n",
       "      <td>3</td>\n",
       "    </tr>\n",
       "    <tr>\n",
       "      <th>14</th>\n",
       "      <td>Miami</td>\n",
       "      <td>LOCATION</td>\n",
       "      <td>3</td>\n",
       "    </tr>\n",
       "  </tbody>\n",
       "</table>\n",
       "</div>"
      ],
      "text/plain": [
       "           Entity Name   Entity Type  Frequency\n",
       "0                 Iowa      LOCATION         17\n",
       "1                Trump        PERSON          9\n",
       "2   Kansas City Chiefs  ORGANIZATION          8\n",
       "3                Apple  ORGANIZATION          6\n",
       "4               Senate  ORGANIZATION          6\n",
       "5                China      LOCATION          5\n",
       "6               Disney  ORGANIZATION          4\n",
       "7                 U.S.      LOCATION          4\n",
       "8          Kobe Bryant        PERSON          4\n",
       "9          Kansas City      LOCATION          4\n",
       "10                 CNN  ORGANIZATION          4\n",
       "11                 SAP  ORGANIZATION          3\n",
       "12       San Francisco      LOCATION          3\n",
       "13              Trumps        PERSON          3\n",
       "14               Miami      LOCATION          3"
      ]
     },
     "execution_count": 179,
     "metadata": {},
     "output_type": "execute_result"
    }
   ],
   "source": [
    "# view top entities and types\n",
    "top_entities = (df_entity.groupby(by=['Entity Name', 'Entity Type']) \\\n",
    "                    .size() \\\n",
    "                    .sort_values(ascending=False) \\\n",
    "                    .reset_index().rename(columns={0: 'Frequency'}))\n",
    "\n",
    "top_entities.head(15)\n"
   ]
  },
  {
   "cell_type": "code",
   "execution_count": 180,
   "metadata": {
    "scrolled": true
   },
   "outputs": [
    {
     "data": {
      "text/html": [
       "<div>\n",
       "<style scoped>\n",
       "    .dataframe tbody tr th:only-of-type {\n",
       "        vertical-align: middle;\n",
       "    }\n",
       "\n",
       "    .dataframe tbody tr th {\n",
       "        vertical-align: top;\n",
       "    }\n",
       "\n",
       "    .dataframe thead th {\n",
       "        text-align: right;\n",
       "    }\n",
       "</style>\n",
       "<table border=\"1\" class=\"dataframe\">\n",
       "  <thead>\n",
       "    <tr style=\"text-align: right;\">\n",
       "      <th></th>\n",
       "      <th>Entity Type</th>\n",
       "      <th>Frequency</th>\n",
       "    </tr>\n",
       "  </thead>\n",
       "  <tbody>\n",
       "    <tr>\n",
       "      <th>0</th>\n",
       "      <td>PERSON</td>\n",
       "      <td>137</td>\n",
       "    </tr>\n",
       "    <tr>\n",
       "      <th>1</th>\n",
       "      <td>ORGANIZATION</td>\n",
       "      <td>120</td>\n",
       "    </tr>\n",
       "    <tr>\n",
       "      <th>2</th>\n",
       "      <td>LOCATION</td>\n",
       "      <td>95</td>\n",
       "    </tr>\n",
       "  </tbody>\n",
       "</table>\n",
       "</div>"
      ],
      "text/plain": [
       "    Entity Type  Frequency\n",
       "0        PERSON        137\n",
       "1  ORGANIZATION        120\n",
       "2      LOCATION         95"
      ]
     },
     "execution_count": 180,
     "metadata": {},
     "output_type": "execute_result"
    }
   ],
   "source": [
    "\n",
    "top_entities = (df_entity.groupby(by=['Entity Type']) \\\n",
    "                   .size() \\\n",
    "                   .sort_values(ascending=False) \\\n",
    "                   .reset_index().rename(columns={0: 'Frequency'}))\n",
    "top_entities.head()\n"
   ]
  },
  {
   "cell_type": "markdown",
   "metadata": {},
   "source": [
    "## SENTIMENT ANALYSIS\n",
    "\n",
    "Since we have unlabeled data, we will use lexicon-based approaches to try to classify our news corpus into sentiments. I'll be using <a href='https://github.com/fnielsen/afinn'>AFINN lexicon</a> and the <a href='https://github.com/sloria/TextBlob/blob/eb08c120d364e908646731d60b4e4c6c1712ff63/textblob/en/en-sentiment.xml'>TextBlob lexicon</a>"
   ]
  },
  {
   "cell_type": "markdown",
   "metadata": {},
   "source": [
    "### Sentiment Analysis with AFINN\n",
    "\n",
    "Developed and curated by Finn Årup Nielsen, this is one of the most popular lexicons used for sentiment analysis. There is a nice wrapper library called `afinn` which I'll use here"
   ]
  },
  {
   "cell_type": "code",
   "execution_count": 201,
   "metadata": {},
   "outputs": [
    {
     "data": {
      "text/html": [
       "<div>\n",
       "<style scoped>\n",
       "    .dataframe tbody tr th:only-of-type {\n",
       "        vertical-align: middle;\n",
       "    }\n",
       "\n",
       "    .dataframe tbody tr th {\n",
       "        vertical-align: top;\n",
       "    }\n",
       "\n",
       "    .dataframe thead th {\n",
       "        text-align: right;\n",
       "    }\n",
       "</style>\n",
       "<table border=\"1\" class=\"dataframe\">\n",
       "  <thead>\n",
       "    <tr style=\"text-align: right;\">\n",
       "      <th></th>\n",
       "      <th>news_category</th>\n",
       "      <th>sentiment_score</th>\n",
       "      <th>sentiment_category</th>\n",
       "    </tr>\n",
       "  </thead>\n",
       "  <tbody>\n",
       "    <tr>\n",
       "      <th>0</th>\n",
       "      <td>sports</td>\n",
       "      <td>3.0</td>\n",
       "      <td>positive</td>\n",
       "    </tr>\n",
       "    <tr>\n",
       "      <th>1</th>\n",
       "      <td>sports</td>\n",
       "      <td>0.0</td>\n",
       "      <td>neutral</td>\n",
       "    </tr>\n",
       "    <tr>\n",
       "      <th>2</th>\n",
       "      <td>sports</td>\n",
       "      <td>2.0</td>\n",
       "      <td>positive</td>\n",
       "    </tr>\n",
       "    <tr>\n",
       "      <th>3</th>\n",
       "      <td>sports</td>\n",
       "      <td>1.0</td>\n",
       "      <td>positive</td>\n",
       "    </tr>\n",
       "    <tr>\n",
       "      <th>4</th>\n",
       "      <td>sports</td>\n",
       "      <td>-2.0</td>\n",
       "      <td>negative</td>\n",
       "    </tr>\n",
       "  </tbody>\n",
       "</table>\n",
       "</div>"
      ],
      "text/plain": [
       "  news_category  sentiment_score sentiment_category\n",
       "0        sports              3.0           positive\n",
       "1        sports              0.0            neutral\n",
       "2        sports              2.0           positive\n",
       "3        sports              1.0           positive\n",
       "4        sports             -2.0           negative"
      ]
     },
     "execution_count": 201,
     "metadata": {},
     "output_type": "execute_result"
    }
   ],
   "source": [
    "from afinn import Afinn\n",
    "af = Afinn()\n",
    "\n",
    "# compute sentiment scores (polarity) and labels\n",
    "sentiment_scores = [af.score(article) for article in corpus]\n",
    "sentiment_category = ['positive' if score > 0 \n",
    "                          else 'negative' if score < 0 \n",
    "                          else 'neutral' \n",
    "                          for score in sentiment_scores]\n",
    "\n",
    "# sentiment statistics per news category\n",
    "df = pd.DataFrame([list(news_df['news_category']), sentiment_scores, sentiment_category]).T\n",
    "df.columns = ['news_category', 'sentiment_score', 'sentiment_category']\n",
    "df['sentiment_score'] = df.sentiment_score.astype('float')\n",
    "df.head()"
   ]
  },
  {
   "cell_type": "code",
   "execution_count": 202,
   "metadata": {},
   "outputs": [
    {
     "data": {
      "text/html": [
       "<div>\n",
       "<style scoped>\n",
       "    .dataframe tbody tr th:only-of-type {\n",
       "        vertical-align: middle;\n",
       "    }\n",
       "\n",
       "    .dataframe tbody tr th {\n",
       "        vertical-align: top;\n",
       "    }\n",
       "\n",
       "    .dataframe thead tr th {\n",
       "        text-align: left;\n",
       "    }\n",
       "\n",
       "    .dataframe thead tr:last-of-type th {\n",
       "        text-align: right;\n",
       "    }\n",
       "</style>\n",
       "<table border=\"1\" class=\"dataframe\">\n",
       "  <thead>\n",
       "    <tr>\n",
       "      <th></th>\n",
       "      <th colspan=\"8\" halign=\"left\">sentiment_score</th>\n",
       "    </tr>\n",
       "    <tr>\n",
       "      <th></th>\n",
       "      <th>count</th>\n",
       "      <th>mean</th>\n",
       "      <th>std</th>\n",
       "      <th>min</th>\n",
       "      <th>25%</th>\n",
       "      <th>50%</th>\n",
       "      <th>75%</th>\n",
       "      <th>max</th>\n",
       "    </tr>\n",
       "    <tr>\n",
       "      <th>news_category</th>\n",
       "      <th></th>\n",
       "      <th></th>\n",
       "      <th></th>\n",
       "      <th></th>\n",
       "      <th></th>\n",
       "      <th></th>\n",
       "      <th></th>\n",
       "      <th></th>\n",
       "    </tr>\n",
       "  </thead>\n",
       "  <tbody>\n",
       "    <tr>\n",
       "      <th>business</th>\n",
       "      <td>30.0</td>\n",
       "      <td>1.133333</td>\n",
       "      <td>3.720709</td>\n",
       "      <td>-7.0</td>\n",
       "      <td>-0.75</td>\n",
       "      <td>1.0</td>\n",
       "      <td>2.75</td>\n",
       "      <td>14.0</td>\n",
       "    </tr>\n",
       "    <tr>\n",
       "      <th>politics</th>\n",
       "      <td>30.0</td>\n",
       "      <td>-1.200000</td>\n",
       "      <td>2.929046</td>\n",
       "      <td>-7.0</td>\n",
       "      <td>-3.75</td>\n",
       "      <td>0.0</td>\n",
       "      <td>0.00</td>\n",
       "      <td>4.0</td>\n",
       "    </tr>\n",
       "    <tr>\n",
       "      <th>science</th>\n",
       "      <td>30.0</td>\n",
       "      <td>-1.233333</td>\n",
       "      <td>3.747950</td>\n",
       "      <td>-12.0</td>\n",
       "      <td>-2.75</td>\n",
       "      <td>-0.5</td>\n",
       "      <td>1.00</td>\n",
       "      <td>4.0</td>\n",
       "    </tr>\n",
       "    <tr>\n",
       "      <th>sports</th>\n",
       "      <td>29.0</td>\n",
       "      <td>3.034483</td>\n",
       "      <td>4.917046</td>\n",
       "      <td>-6.0</td>\n",
       "      <td>0.00</td>\n",
       "      <td>2.0</td>\n",
       "      <td>6.00</td>\n",
       "      <td>16.0</td>\n",
       "    </tr>\n",
       "    <tr>\n",
       "      <th>technology</th>\n",
       "      <td>30.0</td>\n",
       "      <td>0.500000</td>\n",
       "      <td>3.692957</td>\n",
       "      <td>-7.0</td>\n",
       "      <td>-1.00</td>\n",
       "      <td>1.0</td>\n",
       "      <td>2.00</td>\n",
       "      <td>9.0</td>\n",
       "    </tr>\n",
       "  </tbody>\n",
       "</table>\n",
       "</div>"
      ],
      "text/plain": [
       "              sentiment_score                                                 \n",
       "                        count      mean       std   min   25%  50%   75%   max\n",
       "news_category                                                                 \n",
       "business                 30.0  1.133333  3.720709  -7.0 -0.75  1.0  2.75  14.0\n",
       "politics                 30.0 -1.200000  2.929046  -7.0 -3.75  0.0  0.00   4.0\n",
       "science                  30.0 -1.233333  3.747950 -12.0 -2.75 -0.5  1.00   4.0\n",
       "sports                   29.0  3.034483  4.917046  -6.0  0.00  2.0  6.00  16.0\n",
       "technology               30.0  0.500000  3.692957  -7.0 -1.00  1.0  2.00   9.0"
      ]
     },
     "execution_count": 202,
     "metadata": {},
     "output_type": "execute_result"
    }
   ],
   "source": [
    "df.groupby(by=['news_category']).describe()"
   ]
  },
  {
   "cell_type": "markdown",
   "metadata": {},
   "source": [
    "Results above are super interesting and not shocking... We are in the biggest bull markets ever and the Superbowl was yesterday, which generally received positive reviews, so it's not surprising that both have positive sentiment scores. Nothing positive is ever reported in the politics in this day and age and the coronavirus may have something to do with the negative science score. "
   ]
  },
  {
   "cell_type": "code",
   "execution_count": 203,
   "metadata": {},
   "outputs": [
    {
     "data": {
      "image/png": "[encoded data removed]",
      "text/plain": [
       "<Figure size 1152x288 with 2 Axes>"
      ]
     },
     "metadata": {
      "needs_background": "light"
     },
     "output_type": "display_data"
    }
   ],
   "source": [
    "f, (ax1, ax2) = plt.subplots(1, 2, figsize=(16, 4))\n",
    "sp = sns.stripplot(x='news_category', y='sentiment_score', \n",
    "                   hue='news_category', data=df, ax=ax1)\n",
    "bp = sns.boxplot(x='news_category', y='sentiment_score', \n",
    "                 hue='news_category', data=df, palette='Set2', ax=ax2)\n",
    "t = f.suptitle('News Sentiment Visualizations', fontsize=20)"
   ]
  },
  {
   "cell_type": "code",
   "execution_count": 204,
   "metadata": {},
   "outputs": [
    {
     "data": {
      "image/png": "[encoded data removed]",
      "text/plain": [
       "<Figure size 467.5x360 with 1 Axes>"
      ]
     },
     "metadata": {
      "needs_background": "light"
     },
     "output_type": "display_data"
    }
   ],
   "source": [
    "# frequency of sentiment labels\n",
    "fc = sns.catplot(x=\"news_category\", hue=\"sentiment_category\", \n",
    "                 data=df, kind=\"count\",\n",
    "                 palette={'negative': 'red',\n",
    "                          'positive': 'green',\n",
    "                          'neutral': 'blue'})"
   ]
  },
  {
   "cell_type": "code",
   "execution_count": 205,
   "metadata": {},
   "outputs": [
    {
     "name": "stdout",
     "output_type": "stream",
     "text": [
      "Highest positive sports sentiment score:  16.0\n",
      "Lowest negative sports sentiment score:  -6.0\n"
     ]
    }
   ],
   "source": [
    "print('Highest positive sports sentiment score: ', max(df[df.news_category=='sports'].sentiment_score))\n",
    "print('Lowest negative sports sentiment score: ', min(df[df.news_category=='sports'].sentiment_score))"
   ]
  },
  {
   "cell_type": "code",
   "execution_count": 206,
   "metadata": {},
   "outputs": [
    {
     "name": "stdout",
     "output_type": "stream",
     "text": [
      "Highest positive sports news article: \n",
      "  Super Bowl Sunday came and went with the Kansas City Chiefs securing their first Super Bowl championship in 50 years with a 31-20 win over the San … \n",
      "\n",
      "\n",
      "Lowest negative sports news article: \n",
      "  Jeff Shiffrin, the father of Mikaela Shiffrin, died unexpectedly on Sunday night at age 65, U.S. Ski & Snowboard confirmed. “My family is heartbroken …\n"
     ]
    }
   ],
   "source": [
    "pos_idx = df[(df.news_category=='sports') & (df.sentiment_score == 16)].index[0]\n",
    "neg_idx = df[(df.news_category=='sports') & (df.sentiment_score == -6)].index[0]\n",
    "\n",
    "print('Highest positive sports news article: \\n', news_df.iloc[pos_idx][['news_article']][0], '\\n\\n')\n",
    "print('Lowest negative sports news article: \\n', news_df.iloc[neg_idx][['news_article']][0])"
   ]
  },
  {
   "cell_type": "code",
   "execution_count": 207,
   "metadata": {},
   "outputs": [
    {
     "name": "stdout",
     "output_type": "stream",
     "text": [
      "Highest positive world news sentiment score:  4.0\n",
      "Lowest negative world news sentiment score:  -7.0\n"
     ]
    }
   ],
   "source": [
    "print('Highest positive politics sentiment score: ', max(df[df.news_category=='politics'].sentiment_score))\n",
    "print('Lowest negative politics sentiment score: ', min(df[df.news_category=='politics'].sentiment_score))"
   ]
  },
  {
   "cell_type": "code",
   "execution_count": 212,
   "metadata": {},
   "outputs": [
    {
     "name": "stdout",
     "output_type": "stream",
     "text": [
      "Highest positive politics article: \n",
      " (CNN) — Early entrance polls show former Vice President Joe Biden, former South Bend, Indiana, Mayor Pete Buttigieg, Sen. Bernie Sanders and Sen. Elizabeth Warren leading with Iowa caucusgoers. Health \n",
      "\n",
      "\n",
      "Lowest negative politics article: \n",
      " Washington (CNN) — Republican Sen. Lisa Murkowski of Alaska announced Monday that she \"cannot vote to convict\" President Donald Trump in the Senate impeachment trial but nevertheless called his actions\n"
     ]
    }
   ],
   "source": [
    "pos_idx = df[(df.news_category=='politics') & (df.sentiment_score == 4)].index[0]\n",
    "neg_idx = df[(df.news_category=='politics') & (df.sentiment_score == -7)].index[0]\n",
    "\n",
    "print('Highest positive politics article: \\n', news_df.iloc[pos_idx][['news_article']][0], '\\n\\n')\n",
    "print('Lowest negative politics article: \\n', news_df.iloc[neg_idx][['news_article']][0])"
   ]
  },
  {
   "cell_type": "markdown",
   "metadata": {},
   "source": [
    "### Sentiment Analysis with TextBlob\n",
    "\n",
    "TextBlob gives both polarity and subjectivity scores. Polarity score is a float between `[-1.0, 1.0]` and the subjectivity is a float within the range of `[0.0, 1.0]` where `0.0` is highly objective and `1.0` is highly subjective. "
   ]
  },
  {
   "cell_type": "code",
   "execution_count": 213,
   "metadata": {},
   "outputs": [
    {
     "data": {
      "text/html": [
       "<div>\n",
       "<style scoped>\n",
       "    .dataframe tbody tr th:only-of-type {\n",
       "        vertical-align: middle;\n",
       "    }\n",
       "\n",
       "    .dataframe tbody tr th {\n",
       "        vertical-align: top;\n",
       "    }\n",
       "\n",
       "    .dataframe thead tr th {\n",
       "        text-align: left;\n",
       "    }\n",
       "\n",
       "    .dataframe thead tr:last-of-type th {\n",
       "        text-align: right;\n",
       "    }\n",
       "</style>\n",
       "<table border=\"1\" class=\"dataframe\">\n",
       "  <thead>\n",
       "    <tr>\n",
       "      <th></th>\n",
       "      <th colspan=\"8\" halign=\"left\">sentiment_score</th>\n",
       "    </tr>\n",
       "    <tr>\n",
       "      <th></th>\n",
       "      <th>count</th>\n",
       "      <th>mean</th>\n",
       "      <th>std</th>\n",
       "      <th>min</th>\n",
       "      <th>25%</th>\n",
       "      <th>50%</th>\n",
       "      <th>75%</th>\n",
       "      <th>max</th>\n",
       "    </tr>\n",
       "    <tr>\n",
       "      <th>news_category</th>\n",
       "      <th></th>\n",
       "      <th></th>\n",
       "      <th></th>\n",
       "      <th></th>\n",
       "      <th></th>\n",
       "      <th></th>\n",
       "      <th></th>\n",
       "      <th></th>\n",
       "    </tr>\n",
       "  </thead>\n",
       "  <tbody>\n",
       "    <tr>\n",
       "      <th>business</th>\n",
       "      <td>30.0</td>\n",
       "      <td>0.034700</td>\n",
       "      <td>0.277518</td>\n",
       "      <td>-0.800</td>\n",
       "      <td>-0.01650</td>\n",
       "      <td>0.0675</td>\n",
       "      <td>0.18550</td>\n",
       "      <td>0.600</td>\n",
       "    </tr>\n",
       "    <tr>\n",
       "      <th>politics</th>\n",
       "      <td>30.0</td>\n",
       "      <td>0.056033</td>\n",
       "      <td>0.166466</td>\n",
       "      <td>-0.267</td>\n",
       "      <td>-0.00750</td>\n",
       "      <td>0.0105</td>\n",
       "      <td>0.13175</td>\n",
       "      <td>0.500</td>\n",
       "    </tr>\n",
       "    <tr>\n",
       "      <th>science</th>\n",
       "      <td>30.0</td>\n",
       "      <td>0.002300</td>\n",
       "      <td>0.175884</td>\n",
       "      <td>-0.432</td>\n",
       "      <td>-0.03375</td>\n",
       "      <td>0.0085</td>\n",
       "      <td>0.11650</td>\n",
       "      <td>0.325</td>\n",
       "    </tr>\n",
       "    <tr>\n",
       "      <th>sports</th>\n",
       "      <td>29.0</td>\n",
       "      <td>0.129759</td>\n",
       "      <td>0.221705</td>\n",
       "      <td>-0.500</td>\n",
       "      <td>0.02100</td>\n",
       "      <td>0.1040</td>\n",
       "      <td>0.17700</td>\n",
       "      <td>0.800</td>\n",
       "    </tr>\n",
       "    <tr>\n",
       "      <th>technology</th>\n",
       "      <td>30.0</td>\n",
       "      <td>0.040933</td>\n",
       "      <td>0.273669</td>\n",
       "      <td>-1.000</td>\n",
       "      <td>-0.00750</td>\n",
       "      <td>0.0545</td>\n",
       "      <td>0.18850</td>\n",
       "      <td>0.750</td>\n",
       "    </tr>\n",
       "  </tbody>\n",
       "</table>\n",
       "</div>"
      ],
      "text/plain": [
       "              sentiment_score                                              \\\n",
       "                        count      mean       std    min      25%     50%   \n",
       "news_category                                                               \n",
       "business                 30.0  0.034700  0.277518 -0.800 -0.01650  0.0675   \n",
       "politics                 30.0  0.056033  0.166466 -0.267 -0.00750  0.0105   \n",
       "science                  30.0  0.002300  0.175884 -0.432 -0.03375  0.0085   \n",
       "sports                   29.0  0.129759  0.221705 -0.500  0.02100  0.1040   \n",
       "technology               30.0  0.040933  0.273669 -1.000 -0.00750  0.0545   \n",
       "\n",
       "                               \n",
       "                   75%    max  \n",
       "news_category                  \n",
       "business       0.18550  0.600  \n",
       "politics       0.13175  0.500  \n",
       "science        0.11650  0.325  \n",
       "sports         0.17700  0.800  \n",
       "technology     0.18850  0.750  "
      ]
     },
     "execution_count": 213,
     "metadata": {},
     "output_type": "execute_result"
    }
   ],
   "source": [
    "from textblob import TextBlob\n",
    "\n",
    "# computer sentiment scores (polarty) and labels\n",
    "sentiment_scores_tb = [round(TextBlob(article).sentiment.polarity, 3) for article in news_df['clean_text']]\n",
    "sentiment_category_tb = ['positive' if score > 0 \n",
    "                          else 'negative' if score < 0 \n",
    "                          else 'neutral' \n",
    "                          for score in sentiment_scores_tb]\n",
    "\n",
    "# sentiment statistics per news category\n",
    "df = pd.DataFrame([list(news_df['news_category']), sentiment_scores_tb, sentiment_category_tb]).T\n",
    "df.columns = ['news_category', 'sentiment_score', 'sentiment_category']\n",
    "df['sentiment_score'] = df.sentiment_score.astype('float')\n",
    "df.groupby(by=['news_category']).describe()"
   ]
  },
  {
   "cell_type": "code",
   "execution_count": 214,
   "metadata": {},
   "outputs": [
    {
     "data": {
      "image/png": "[encoded data removed]",
      "text/plain": [
       "<Figure size 467.5x360 with 1 Axes>"
      ]
     },
     "metadata": {
      "needs_background": "light"
     },
     "output_type": "display_data"
    }
   ],
   "source": [
    "fc = sns.catplot(x=\"news_category\", hue=\"sentiment_category\", \n",
    "                    data=df, kind=\"count\", \n",
    "                    palette={'negative': 'red',\n",
    "                             'positive': 'green',\n",
    "                             'neutral': 'blue'})"
   ]
  },
  {
   "cell_type": "markdown",
   "metadata": {},
   "source": [
    "Interesting.  This is very different from the previous model.  Here, we have way more positive sentiments even across politics, which is strange. "
   ]
  },
  {
   "cell_type": "code",
   "execution_count": 215,
   "metadata": {},
   "outputs": [
    {
     "name": "stdout",
     "output_type": "stream",
     "text": [
      "Highest positive sports sentiment score:  0.8\n",
      "Lowest negative sports sentiment score:  -0.5\n"
     ]
    }
   ],
   "source": [
    "print('Highest positive sports sentiment score: ', max(df[df.news_category=='sports'].sentiment_score))\n",
    "print('Lowest negative sports sentiment score: ', min(df[df.news_category=='sports'].sentiment_score))"
   ]
  },
  {
   "cell_type": "code",
   "execution_count": 216,
   "metadata": {},
   "outputs": [
    {
     "name": "stdout",
     "output_type": "stream",
     "text": [
      "Highest positive sports news article: \n",
      " KANSAS CITY, Kan. and Mo. — Two cities, two states, one name, separated by a Patrick Mahomes shovel pass. Welcome to Kansas City, Kansas. Wait. (Walks 14 steps.) Kansas City, Missouri! Standing in front \n",
      "\n",
      "\n",
      "Lowest negative sports news article: \n",
      " The Toronto Raptors were supposed to be sellers at the trade deadline. That was the prevailing logic on where the franchise would be in February as it entered the season still reckoning with the departure\n"
     ]
    }
   ],
   "source": [
    "pos_idx = df[(df.news_category=='sports') & (df.sentiment_score == 0.8)].index[0]\n",
    "neg_idx = df[(df.news_category=='sports') & (df.sentiment_score == -0.5)].index[0]\n",
    "\n",
    "print('Highest positive sports news article: \\n', news_df.iloc[pos_idx][['news_article']][0], '\\n\\n')\n",
    "print('Lowest negative sports news article: \\n', news_df.iloc[neg_idx][['news_article']][0])"
   ]
  },
  {
   "cell_type": "code",
   "execution_count": 218,
   "metadata": {},
   "outputs": [
    {
     "name": "stdout",
     "output_type": "stream",
     "text": [
      "Highest positive politics sentiment score:  0.5\n",
      "Lowest negative politics sentiment score:  -0.267\n"
     ]
    }
   ],
   "source": [
    "print('Highest positive politics sentiment score: ', max(df[df.news_category=='politics'].sentiment_score))\n",
    "print('Lowest negative politics sentiment score: ', min(df[df.news_category=='politics'].sentiment_score))"
   ]
  },
  {
   "cell_type": "code",
   "execution_count": 220,
   "metadata": {},
   "outputs": [
    {
     "name": "stdout",
     "output_type": "stream",
     "text": [
      "Highest positive politics article: \n",
      " Democrats pushed to make sure a vote on President Trump's acquittal won't occur until after he delivers his State of the Union address before Congress. Some Donald Trump supporters are peeved the president \n",
      "\n",
      "\n",
      "Lowest negative politics article: \n",
      "  Television personality Piers Morgan tore into Rep. Adam Schiff for his role in impeaching President Trump. \"It was the most absurd, stupid act of …\n"
     ]
    }
   ],
   "source": [
    "pos_idx = df[(df.news_category=='politics') & (df.sentiment_score == 0.5)].index[0]\n",
    "neg_idx = df[(df.news_category=='politics') & (df.sentiment_score == -0.267)].index[0]\n",
    "\n",
    "print('Highest positive politics article: \\n', news_df.iloc[pos_idx][['news_article']][0], '\\n\\n')\n",
    "print('Lowest negative politics article: \\n', news_df.iloc[neg_idx][['news_article']][0])"
   ]
  },
  {
   "cell_type": "markdown",
   "metadata": {},
   "source": [
    "### Compare results between AFINN and TextBlob"
   ]
  },
  {
   "cell_type": "code",
   "execution_count": 247,
   "metadata": {},
   "outputs": [],
   "source": [
    "from sklearn.metrics import confusion_matrix\n",
    "import seaborn as sns\n",
    "import matplotlib.pyplot as plt\n",
    "\n",
    "def plot_confusion_matrix(y_true, y_pred, ax, vmax=None,\n",
    "                          normed=True, title='Confusion matrix',\n",
    "                          class_names=None, labels=None):\n",
    "    cm = confusion_matrix(y_true, y_pred)\n",
    "    if normed:\n",
    "        cm = cm.astype('float') / cm.sum(axis=1)[:, np.newaxis]\n",
    "    sns.heatmap(cm, vmax=vmax, annot=True, square=True, ax=ax, \n",
    "                cmap='Blues', cbar=False, linecolor='k',\n",
    "               linewidths=1, xticklabels=class_names)\n",
    "    ax.set_title(title, fontsize=16)\n",
    "    if not labels:\n",
    "        labels=['True Labels', 'Predicted Labels']\n",
    "\n",
    "    ax.set_ylabel(labels[0], fontsize=12)\n",
    "    ax.set_xlabel(labels[1], y=1.10, fontsize=12)\n",
    "    ax.set_yticklabels(class_names, rotation=0)"
   ]
  },
  {
   "cell_type": "code",
   "execution_count": 250,
   "metadata": {},
   "outputs": [
    {
     "data": {
      "image/png": "[encoded data removed]",
      "text/plain": [
       "<Figure size 432x432 with 1 Axes>"
      ]
     },
     "metadata": {
      "needs_background": "light"
     },
     "output_type": "display_data"
    }
   ],
   "source": [
    "fig, (axis1) = plt.subplots(nrows=1, ncols=1, figsize=(6, 6))\n",
    "plot_confusion_matrix(sentiment_category, sentiment_category_tb, ax=axis1,\n",
    "                      class_names=['negative', 'neutral', 'positive'],\n",
    "                      labels=['AFINN', 'TextBlob'])"
   ]
  },
  {
   "cell_type": "markdown",
   "metadata": {},
   "source": [
    "Seems that AFINN and TextBlob differ significantly on the negative sentiment. TextBlob classifies way more articles as neutral and positive than AFINN. 40% of the articles that AFINN finds negative and ~60% of the articles that AFINN finds as neutral are categorized as positive by TextBlob"
   ]
  },
  {
   "cell_type": "code",
   "execution_count": null,
   "metadata": {},
   "outputs": [],
   "source": []
  }
 ],
 "metadata": {
  "kernelspec": {
   "display_name": "TensorFlow-GPU-2.0.0",
   "language": "python",
   "name": "tf-gpu"
  },
  "language_info": {
   "codemirror_mode": {
    "name": "ipython",
    "version": 3
   },
   "file_extension": ".py",
   "mimetype": "text/x-python",
   "name": "python",
   "nbconvert_exporter": "python",
   "pygments_lexer": "ipython3",
   "version": "3.7.6"
  }
 },
 "nbformat": 4,
 "nbformat_minor": 2
}
