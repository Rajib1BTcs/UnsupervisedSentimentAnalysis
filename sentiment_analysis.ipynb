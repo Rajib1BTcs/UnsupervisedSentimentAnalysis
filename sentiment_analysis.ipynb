{
 "cells": [
  {
   "cell_type": "code",
   "execution_count": 1,
   "metadata": {},
   "outputs": [],
   "source": [
    "import requests\n",
    "from bs4 import BeautifulSoup\n",
    "import pandas as pd\n",
    "import numpy as np\n",
    "import matplotlib.pyplot as plt\n",
    "import seaborn as sns\n",
    "import os\n",
    "\n",
    "%matplotlib inline"
   ]
  },
  {
   "cell_type": "markdown",
   "metadata": {},
   "source": [
    "Website scraper to create data"
   ]
  },
  {
   "cell_type": "code",
   "execution_count": 2,
   "metadata": {},
   "outputs": [],
   "source": [
    "seed_urls = ['https://inshorts.com/en/read/technology',\n",
    "             'https://inshorts.com/en/read/sports',\n",
    "             'https://inshorts.com/en/read/world']\n",
    "\n",
    "def build_dataset(seed_urls):\n",
    "    news_data = []\n",
    "    for url in seed_urls:\n",
    "        news_category = url.split('/')[-1]\n",
    "        data = requests.get(url)\n",
    "        soup = BeautifulSoup(data.content, 'html.parser')\n",
    "        \n",
    "        news_articles = [{'news_headline': headline.find('span', attrs={\"itemprop\": \"headline\"}).string,\n",
    "                          'news_article': article.find('div', attrs={\"itemprop\": \"articleBody\"}).string,\n",
    "                          'news_category': news_category}\n",
    "                        \n",
    "                        for headline, article in zip(soup.find_all('div', class_=[\"news-card-title news-right-box\"]),\n",
    "                                                     soup.find_all('div', class_=[\"news-card-content news-right-box\"]))\n",
    "                        ]\n",
    "        news_data.extend(news_articles)\n",
    "    \n",
    "    df = pd.DataFrame(news_data)\n",
    "    df = df[['news_headline', 'news_article', 'news_category']]\n",
    "    return df"
   ]
  },
  {
   "cell_type": "code",
   "execution_count": 3,
   "metadata": {},
   "outputs": [
    {
     "data": {
      "text/html": [
       "<div>\n",
       "<style scoped>\n",
       "    .dataframe tbody tr th:only-of-type {\n",
       "        vertical-align: middle;\n",
       "    }\n",
       "\n",
       "    .dataframe tbody tr th {\n",
       "        vertical-align: top;\n",
       "    }\n",
       "\n",
       "    .dataframe thead th {\n",
       "        text-align: right;\n",
       "    }\n",
       "</style>\n",
       "<table border=\"1\" class=\"dataframe\">\n",
       "  <thead>\n",
       "    <tr style=\"text-align: right;\">\n",
       "      <th></th>\n",
       "      <th>news_headline</th>\n",
       "      <th>news_article</th>\n",
       "      <th>news_category</th>\n",
       "    </tr>\n",
       "  </thead>\n",
       "  <tbody>\n",
       "    <tr>\n",
       "      <th>0</th>\n",
       "      <td>Star Wars actor Mark deletes Facebook account;...</td>\n",
       "      <td>Actor Mark Hamill, known for playing 'Luke Sky...</td>\n",
       "      <td>technology</td>\n",
       "    </tr>\n",
       "    <tr>\n",
       "      <th>1</th>\n",
       "      <td>1 lakh small traders to protest against Jeff B...</td>\n",
       "      <td>The Confederation of All India Traders (CAIT),...</td>\n",
       "      <td>technology</td>\n",
       "    </tr>\n",
       "    <tr>\n",
       "      <th>2</th>\n",
       "      <td>Elon Musk says Tesla cars will soon talk to pe...</td>\n",
       "      <td>Electric carmaker Tesla's CEO Elon Musk has sa...</td>\n",
       "      <td>technology</td>\n",
       "    </tr>\n",
       "    <tr>\n",
       "      <th>3</th>\n",
       "      <td>Pichai asked to act against 'bloatware' on And...</td>\n",
       "      <td>Over 50 privacy groups have asked Google and A...</td>\n",
       "      <td>technology</td>\n",
       "    </tr>\n",
       "    <tr>\n",
       "      <th>4</th>\n",
       "      <td>People find pictures of their dead loved ones ...</td>\n",
       "      <td>Hundreds of people are finding photos of their...</td>\n",
       "      <td>technology</td>\n",
       "    </tr>\n",
       "  </tbody>\n",
       "</table>\n",
       "</div>"
      ],
      "text/plain": [
       "                                       news_headline  \\\n",
       "0  Star Wars actor Mark deletes Facebook account;...   \n",
       "1  1 lakh small traders to protest against Jeff B...   \n",
       "2  Elon Musk says Tesla cars will soon talk to pe...   \n",
       "3  Pichai asked to act against 'bloatware' on And...   \n",
       "4  People find pictures of their dead loved ones ...   \n",
       "\n",
       "                                        news_article news_category  \n",
       "0  Actor Mark Hamill, known for playing 'Luke Sky...    technology  \n",
       "1  The Confederation of All India Traders (CAIT),...    technology  \n",
       "2  Electric carmaker Tesla's CEO Elon Musk has sa...    technology  \n",
       "3  Over 50 privacy groups have asked Google and A...    technology  \n",
       "4  Hundreds of people are finding photos of their...    technology  "
      ]
     },
     "execution_count": 3,
     "metadata": {},
     "output_type": "execute_result"
    }
   ],
   "source": [
    "news_df = build_dataset(seed_urls)\n",
    "news_df.head()"
   ]
  },
  {
   "cell_type": "code",
   "execution_count": 4,
   "metadata": {},
   "outputs": [
    {
     "data": {
      "text/plain": [
       "technology    25\n",
       "world         25\n",
       "sports        24\n",
       "Name: news_category, dtype: int64"
      ]
     },
     "execution_count": 4,
     "metadata": {},
     "output_type": "execute_result"
    }
   ],
   "source": [
    "news_df.news_category.value_counts()"
   ]
  },
  {
   "cell_type": "code",
   "execution_count": 5,
   "metadata": {},
   "outputs": [],
   "source": [
    "import spacy\n",
    "import en_core_web_sm\n",
    "import nltk\n",
    "from nltk.tokenize.toktok import ToktokTokenizer\n",
    "import re\n",
    "from contractions import CONTRACTION_MAP\n",
    "import unicodedata\n",
    "\n",
    "nlp = en_core_web_sm.load()\n",
    "tokenizer = ToktokTokenizer()\n",
    "stopword_list = nltk.corpus.stopwords.words('english')\n",
    "# Want to keep negative stop words for sentiment analysis\n",
    "stopword_list.remove('no')\n",
    "stopword_list.remove('not')"
   ]
  },
  {
   "cell_type": "code",
   "execution_count": 6,
   "metadata": {},
   "outputs": [
    {
     "data": {
      "text/plain": [
       "'text text text'"
      ]
     },
     "execution_count": 6,
     "metadata": {},
     "output_type": "execute_result"
    }
   ],
   "source": [
    "def strip_html_tags(text):\n",
    "    soup = BeautifulSoup(text, \"html.parser\")\n",
    "    stripped_text = soup.get_text()\n",
    "    return stripped_text\n",
    "\n",
    "strip_html_tags('<html><h2>text text text</h2></html>')"
   ]
  },
  {
   "cell_type": "code",
   "execution_count": 7,
   "metadata": {},
   "outputs": [
    {
     "data": {
      "text/plain": [
       "'some accented letters a i or o'"
      ]
     },
     "execution_count": 7,
     "metadata": {},
     "output_type": "execute_result"
    }
   ],
   "source": [
    "def remove_accented_chars(text):\n",
    "    text = unicodedata.normalize('NFKD', text).encode('ascii', 'ignore').decode('utf-8', 'ignore')\n",
    "    return text\n",
    "\n",
    "remove_accented_chars('some accented letters â î or ô')"
   ]
  },
  {
   "cell_type": "code",
   "execution_count": 8,
   "metadata": {},
   "outputs": [
    {
     "data": {
      "text/plain": [
       "'you all I have do not I would we are'"
      ]
     },
     "execution_count": 8,
     "metadata": {},
     "output_type": "execute_result"
    }
   ],
   "source": [
    "def expand_contractions(text, contraction_mapping=CONTRACTION_MAP):\n",
    "    contractions_pattern = re.compile('({})'.format('|'.join(contraction_mapping.keys())),\n",
    "                                      flags=re.IGNORECASE|re.DOTALL)\n",
    "    def expand_match(contraction):\n",
    "        match = contraction.group(0)\n",
    "        first_char = match[0]\n",
    "        expanded_contraction = contraction_mapping.get(match)\\\n",
    "            if contraction_mapping.get(match) \\\n",
    "            else contraction_mapping.get(match.lower())\n",
    "        expanded_contraction = first_char+expanded_contraction[1:]\n",
    "        return expanded_contraction\n",
    "    \n",
    "    expanded_text = contractions_pattern.sub(expand_match, text)\n",
    "    expanded_text = re.sub(\"'\", \"\", expanded_text)\n",
    "    return expanded_text\n",
    "\n",
    "expand_contractions(\"y'all I've don't I'd we're\")"
   ]
  },
  {
   "cell_type": "code",
   "execution_count": 9,
   "metadata": {},
   "outputs": [
    {
     "data": {
      "text/plain": [
       "'Sme spcil ccrs '"
      ]
     },
     "execution_count": 9,
     "metadata": {},
     "output_type": "execute_result"
    }
   ],
   "source": [
    "def remove_special_characters(text, remove_digits=False):\n",
    "    pattern = r'[^a-zA-z0-9\\s]' if not remove_digits else r'[^a-zA-z\\s]'\n",
    "    text = re.sub(pattern, '', text)\n",
    "    return text\n",
    "\n",
    "remove_special_characters(\"S0me sp3ci@l c#@4@c|3rs *&)@&)@#&\", remove_digits=True)"
   ]
  },
  {
   "cell_type": "code",
   "execution_count": 10,
   "metadata": {},
   "outputs": [
    {
     "data": {
      "text/plain": [
       "'the 22 team who will be watch the weekend slate of game in their living room be decidedly more pass happy , gain 30.8 percent of their yard on the ground'"
      ]
     },
     "execution_count": 10,
     "metadata": {},
     "output_type": "execute_result"
    }
   ],
   "source": [
    "def lemmatize_text(text):\n",
    "    text = nlp(text)\n",
    "    text = ' '.join([word.lemma_ if word.lemma_ != '-PRON-' else word.text for word in text])\n",
    "    return text\n",
    "\n",
    "lemmatize_text(\"The 22 teams who’ll be watching the weekend slate of games in their living rooms were decidedly more pass happy, gaining 30.8 percent of their yards on the ground\")"
   ]
  },
  {
   "cell_type": "code",
   "execution_count": 11,
   "metadata": {},
   "outputs": [
    {
     "data": {
      "text/plain": [
       "'22 teams ’ watching weekend slate games living rooms decidedly pass happy , gaining 30.8 percent yards ground'"
      ]
     },
     "execution_count": 11,
     "metadata": {},
     "output_type": "execute_result"
    }
   ],
   "source": [
    "def remove_stopwords(text, is_lower_case=False):\n",
    "    tokens = tokenizer.tokenize(text)\n",
    "    tokens = [token.strip() for token in tokens]\n",
    "    if is_lower_case:\n",
    "        filtered_tokens = [token for token in tokens if token not in stopword_list]\n",
    "    else:\n",
    "        filtered_tokens = [token for token in tokens if token.lower() not in stopword_list]\n",
    "    filtered_text = ' '.join(filtered_tokens)\n",
    "    return filtered_text\n",
    "\n",
    "remove_stopwords(\"The 22 teams who’ll be watching the weekend slate of games in their living rooms were decidedly more pass happy, gaining 30.8 percent of their yards on the ground\")"
   ]
  },
  {
   "cell_type": "code",
   "execution_count": 12,
   "metadata": {},
   "outputs": [],
   "source": [
    "def normalize_corpus(corpus, html_stripping=True, accented_char_removal=True, contraction_expansion=True, \n",
    "                    text_lower_case=True, text_lemmatization=True, special_char_removal=True, stopword_removal=True,\n",
    "                    remove_digits=True):\n",
    "    normalized_corpus = []\n",
    "    for doc in corpus:\n",
    "        # strip HTML\n",
    "        if html_stripping:\n",
    "            doc = strip_html_tags(doc)\n",
    "        # remove accented characters\n",
    "        if accented_char_removal:\n",
    "            doc = remove_accented_chars(doc)\n",
    "        # expand contractions\n",
    "        if contraction_expansion:\n",
    "            doc = expand_contractions(doc)\n",
    "        # turn into lowercase\n",
    "        if text_lower_case:\n",
    "            doc = doc.lower()\n",
    "        # remove extra newlines\n",
    "        doc = re.sub(r'[\\r|\\n|\\r\\n]+', ' ', doc)\n",
    "        # lemmatize text\n",
    "        if text_lemmatization:\n",
    "            doc = lemmatize_text(doc)\n",
    "        # remove special characters and/or digits\n",
    "        if special_char_removal:\n",
    "            # insert spaces between special characters to isolate them\n",
    "            special_char_pattern = re.compile(r'([{.(-)!}])')\n",
    "            doc = special_char_pattern.sub(\" \\\\1 \", doc)\n",
    "            doc = remove_special_characters(doc, remove_digits=remove_digits)\n",
    "        # remove extra whitespaces\n",
    "        doc = re.sub(' _', ' ', doc)\n",
    "        # remove stopwords\n",
    "        if stopword_removal:\n",
    "            doc = remove_stopwords(doc, is_lower_case=text_lower_case)\n",
    "            \n",
    "        normalized_corpus.append(doc)\n",
    "    \n",
    "    return normalized_corpus"
   ]
  },
  {
   "cell_type": "code",
   "execution_count": 13,
   "metadata": {},
   "outputs": [
    {
     "data": {
      "text/plain": [
       "{'full_text': '1 lakh small traders to protest against Jeff Bezos during his stay in India. The Confederation of All India Traders (CAIT), which represents around 7 crore retailers, said it will protest across 300 cities during Amazon CEO Jeff Bezos\\' stay in India. \"We expect to mobilise at least 1 lakh traders in the protests,\" CAIT said. Bezos will visit India next week for a company event in Delhi and potential meetings with government officials.',\n",
       " 'clean_text': 'lakh small trader protest jeff bezos stay india confederation india trader cait represent around crore retailer say protest across city amazon ceo jeff bezos stay india expect mobilise least lakh trader protest cait say bezos visit india next week company event delhi potential meeting government official'}"
      ]
     },
     "execution_count": 13,
     "metadata": {},
     "output_type": "execute_result"
    }
   ],
   "source": [
    "# combine news headline and article text into one doc\n",
    "news_df['full_text'] = news_df[\"news_headline\"].map(str)+ '. ' + news_df[\"news_article\"]\n",
    "\n",
    "# pre-process text\n",
    "news_df['clean_text'] = normalize_corpus(news_df['full_text'])\n",
    "norm_corpus = list(news_df['clean_text'])\n",
    "\n",
    "news_df.iloc[1][['full_text', 'clean_text']].to_dict()"
   ]
  },
  {
   "cell_type": "markdown",
   "metadata": {},
   "source": [
    "**Part of Speech Tagging**"
   ]
  },
  {
   "cell_type": "code",
   "execution_count": 14,
   "metadata": {},
   "outputs": [
    {
     "name": "stderr",
     "output_type": "stream",
     "text": [
      "[nltk_data] Downloading package averaged_perceptron_tagger to\n",
      "[nltk_data]     C:\\Users\\aksin\\AppData\\Roaming\\nltk_data...\n",
      "[nltk_data]   Package averaged_perceptron_tagger is already up-to-\n",
      "[nltk_data]       date!\n"
     ]
    },
    {
     "data": {
      "text/plain": [
       "True"
      ]
     },
     "execution_count": 14,
     "metadata": {},
     "output_type": "execute_result"
    }
   ],
   "source": [
    "nltk.download('averaged_perceptron_tagger')"
   ]
  },
  {
   "cell_type": "code",
   "execution_count": 15,
   "metadata": {},
   "outputs": [],
   "source": [
    "# pre-process, but don't lowercase or lemmatize to get POS context\n",
    "corpus = normalize_corpus(news_df['full_text'], text_lower_case=False, text_lemmatization=False, special_char_removal=False)\n",
    "\n",
    "# demo for POS tagging\n",
    "sentence = str(news_df.iloc[1].news_headline)\n",
    "sentence_nlp = nlp(sentence)\n",
    "\n",
    "# POS tagging with spacy\n",
    "spacy_pos_tagged = [(word, word.tag_, word.pos_) for word in sentence_nlp]\n",
    "df_spacy_pos_tagged = pd.DataFrame(spacy_pos_tagged, columns=['Word', 'POS tag', 'Tag type'])\n",
    "\n",
    "# POS tagging with nltk\n",
    "nltk_pos_tagged = nltk.pos_tag(sentence.split())\n",
    "df_nltk_pos_tagged = pd.DataFrame(nltk_pos_tagged, columns=['Word', 'POS tag'])\n"
   ]
  },
  {
   "cell_type": "code",
   "execution_count": 16,
   "metadata": {},
   "outputs": [
    {
     "data": {
      "text/html": [
       "<div>\n",
       "<style scoped>\n",
       "    .dataframe tbody tr th:only-of-type {\n",
       "        vertical-align: middle;\n",
       "    }\n",
       "\n",
       "    .dataframe tbody tr th {\n",
       "        vertical-align: top;\n",
       "    }\n",
       "\n",
       "    .dataframe thead th {\n",
       "        text-align: right;\n",
       "    }\n",
       "</style>\n",
       "<table border=\"1\" class=\"dataframe\">\n",
       "  <thead>\n",
       "    <tr style=\"text-align: right;\">\n",
       "      <th></th>\n",
       "      <th>Word</th>\n",
       "      <th>POS tag</th>\n",
       "      <th>Tag type</th>\n",
       "    </tr>\n",
       "  </thead>\n",
       "  <tbody>\n",
       "    <tr>\n",
       "      <th>0</th>\n",
       "      <td>1</td>\n",
       "      <td>CD</td>\n",
       "      <td>NUM</td>\n",
       "    </tr>\n",
       "    <tr>\n",
       "      <th>1</th>\n",
       "      <td>lakh</td>\n",
       "      <td>JJ</td>\n",
       "      <td>ADJ</td>\n",
       "    </tr>\n",
       "    <tr>\n",
       "      <th>2</th>\n",
       "      <td>small</td>\n",
       "      <td>JJ</td>\n",
       "      <td>ADJ</td>\n",
       "    </tr>\n",
       "    <tr>\n",
       "      <th>3</th>\n",
       "      <td>traders</td>\n",
       "      <td>NNS</td>\n",
       "      <td>NOUN</td>\n",
       "    </tr>\n",
       "    <tr>\n",
       "      <th>4</th>\n",
       "      <td>to</td>\n",
       "      <td>TO</td>\n",
       "      <td>PART</td>\n",
       "    </tr>\n",
       "    <tr>\n",
       "      <th>5</th>\n",
       "      <td>protest</td>\n",
       "      <td>VB</td>\n",
       "      <td>VERB</td>\n",
       "    </tr>\n",
       "    <tr>\n",
       "      <th>6</th>\n",
       "      <td>against</td>\n",
       "      <td>IN</td>\n",
       "      <td>ADP</td>\n",
       "    </tr>\n",
       "    <tr>\n",
       "      <th>7</th>\n",
       "      <td>Jeff</td>\n",
       "      <td>NNP</td>\n",
       "      <td>PROPN</td>\n",
       "    </tr>\n",
       "    <tr>\n",
       "      <th>8</th>\n",
       "      <td>Bezos</td>\n",
       "      <td>NNP</td>\n",
       "      <td>PROPN</td>\n",
       "    </tr>\n",
       "    <tr>\n",
       "      <th>9</th>\n",
       "      <td>during</td>\n",
       "      <td>IN</td>\n",
       "      <td>ADP</td>\n",
       "    </tr>\n",
       "  </tbody>\n",
       "</table>\n",
       "</div>"
      ],
      "text/plain": [
       "      Word POS tag Tag type\n",
       "0        1      CD      NUM\n",
       "1     lakh      JJ      ADJ\n",
       "2    small      JJ      ADJ\n",
       "3  traders     NNS     NOUN\n",
       "4       to      TO     PART\n",
       "5  protest      VB     VERB\n",
       "6  against      IN      ADP\n",
       "7     Jeff     NNP    PROPN\n",
       "8    Bezos     NNP    PROPN\n",
       "9   during      IN      ADP"
      ]
     },
     "execution_count": 16,
     "metadata": {},
     "output_type": "execute_result"
    }
   ],
   "source": [
    "df_spacy_pos_tagged.head(10)"
   ]
  },
  {
   "cell_type": "code",
   "execution_count": 17,
   "metadata": {},
   "outputs": [
    {
     "data": {
      "text/html": [
       "<div>\n",
       "<style scoped>\n",
       "    .dataframe tbody tr th:only-of-type {\n",
       "        vertical-align: middle;\n",
       "    }\n",
       "\n",
       "    .dataframe tbody tr th {\n",
       "        vertical-align: top;\n",
       "    }\n",
       "\n",
       "    .dataframe thead th {\n",
       "        text-align: right;\n",
       "    }\n",
       "</style>\n",
       "<table border=\"1\" class=\"dataframe\">\n",
       "  <thead>\n",
       "    <tr style=\"text-align: right;\">\n",
       "      <th></th>\n",
       "      <th>Word</th>\n",
       "      <th>POS tag</th>\n",
       "    </tr>\n",
       "  </thead>\n",
       "  <tbody>\n",
       "    <tr>\n",
       "      <th>0</th>\n",
       "      <td>1</td>\n",
       "      <td>CD</td>\n",
       "    </tr>\n",
       "    <tr>\n",
       "      <th>1</th>\n",
       "      <td>lakh</td>\n",
       "      <td>JJS</td>\n",
       "    </tr>\n",
       "    <tr>\n",
       "      <th>2</th>\n",
       "      <td>small</td>\n",
       "      <td>JJ</td>\n",
       "    </tr>\n",
       "    <tr>\n",
       "      <th>3</th>\n",
       "      <td>traders</td>\n",
       "      <td>NNS</td>\n",
       "    </tr>\n",
       "    <tr>\n",
       "      <th>4</th>\n",
       "      <td>to</td>\n",
       "      <td>TO</td>\n",
       "    </tr>\n",
       "    <tr>\n",
       "      <th>5</th>\n",
       "      <td>protest</td>\n",
       "      <td>VB</td>\n",
       "    </tr>\n",
       "    <tr>\n",
       "      <th>6</th>\n",
       "      <td>against</td>\n",
       "      <td>IN</td>\n",
       "    </tr>\n",
       "    <tr>\n",
       "      <th>7</th>\n",
       "      <td>Jeff</td>\n",
       "      <td>NNP</td>\n",
       "    </tr>\n",
       "    <tr>\n",
       "      <th>8</th>\n",
       "      <td>Bezos</td>\n",
       "      <td>NNP</td>\n",
       "    </tr>\n",
       "    <tr>\n",
       "      <th>9</th>\n",
       "      <td>during</td>\n",
       "      <td>IN</td>\n",
       "    </tr>\n",
       "  </tbody>\n",
       "</table>\n",
       "</div>"
      ],
      "text/plain": [
       "      Word POS tag\n",
       "0        1      CD\n",
       "1     lakh     JJS\n",
       "2    small      JJ\n",
       "3  traders     NNS\n",
       "4       to      TO\n",
       "5  protest      VB\n",
       "6  against      IN\n",
       "7     Jeff     NNP\n",
       "8    Bezos     NNP\n",
       "9   during      IN"
      ]
     },
     "execution_count": 17,
     "metadata": {},
     "output_type": "execute_result"
    }
   ],
   "source": [
    "df_nltk_pos_tagged.head(10)"
   ]
  },
  {
   "cell_type": "markdown",
   "metadata": {},
   "source": [
    "**Shallow Parsing (Chunking)**"
   ]
  },
  {
   "cell_type": "code",
   "execution_count": 18,
   "metadata": {},
   "outputs": [
    {
     "name": "stderr",
     "output_type": "stream",
     "text": [
      "[nltk_data] Downloading package conll2000 to\n",
      "[nltk_data]     C:\\Users\\aksin\\AppData\\Roaming\\nltk_data...\n",
      "[nltk_data]   Package conll2000 is already up-to-date!\n"
     ]
    },
    {
     "data": {
      "text/plain": [
       "True"
      ]
     },
     "execution_count": 18,
     "metadata": {},
     "output_type": "execute_result"
    }
   ],
   "source": [
    "nltk.download('conll2000')"
   ]
  },
  {
   "cell_type": "code",
   "execution_count": 19,
   "metadata": {},
   "outputs": [
    {
     "name": "stdout",
     "output_type": "stream",
     "text": [
      "10900 48\n",
      "(S\n",
      "  But/CC\n",
      "  (NP analysts/NNS)\n",
      "  (VP reckon/VBP)\n",
      "  (NP underlying/VBG support/NN)\n",
      "  (PP for/IN)\n",
      "  (NP sterling/NN)\n",
      "  (VP has/VBZ been/VBN eroded/VBN)\n",
      "  (PP by/IN)\n",
      "  (NP the/DT chancellor/NN)\n",
      "  (NP 's/POS failure/NN)\n",
      "  (VP to/TO announce/VB)\n",
      "  (NP any/DT new/JJ policy/NN measures/NNS)\n",
      "  (PP in/IN)\n",
      "  (NP his/PRP$ Mansion/NNP House/NNP speech/NN)\n",
      "  (NP last/JJ Thursday/NNP)\n",
      "  ./.)\n"
     ]
    }
   ],
   "source": [
    "# using nltk conll2000 corpus to train the shallow parser model\n",
    "from nltk.corpus import conll2000\n",
    "\n",
    "data = conll2000.chunked_sents()\n",
    "train_data = data[:10900]\n",
    "test_data = data[10900:]\n",
    "\n",
    "print(len(train_data), len(test_data))\n",
    "print(train_data[2])"
   ]
  },
  {
   "cell_type": "code",
   "execution_count": 20,
   "metadata": {},
   "outputs": [
    {
     "data": {
      "text/plain": [
       "[('But', 'CC', 'O'),\n",
       " ('analysts', 'NNS', 'B-NP'),\n",
       " ('reckon', 'VBP', 'B-VP'),\n",
       " ('underlying', 'VBG', 'B-NP'),\n",
       " ('support', 'NN', 'I-NP'),\n",
       " ('for', 'IN', 'B-PP'),\n",
       " ('sterling', 'NN', 'B-NP'),\n",
       " ('has', 'VBZ', 'B-VP'),\n",
       " ('been', 'VBN', 'I-VP'),\n",
       " ('eroded', 'VBN', 'I-VP'),\n",
       " ('by', 'IN', 'B-PP'),\n",
       " ('the', 'DT', 'B-NP'),\n",
       " ('chancellor', 'NN', 'I-NP'),\n",
       " (\"'s\", 'POS', 'B-NP'),\n",
       " ('failure', 'NN', 'I-NP'),\n",
       " ('to', 'TO', 'B-VP'),\n",
       " ('announce', 'VB', 'I-VP'),\n",
       " ('any', 'DT', 'B-NP'),\n",
       " ('new', 'JJ', 'I-NP'),\n",
       " ('policy', 'NN', 'I-NP'),\n",
       " ('measures', 'NNS', 'I-NP'),\n",
       " ('in', 'IN', 'B-PP'),\n",
       " ('his', 'PRP$', 'B-NP'),\n",
       " ('Mansion', 'NNP', 'I-NP'),\n",
       " ('House', 'NNP', 'I-NP'),\n",
       " ('speech', 'NN', 'I-NP'),\n",
       " ('last', 'JJ', 'B-NP'),\n",
       " ('Thursday', 'NNP', 'I-NP'),\n",
       " ('.', '.', 'O')]"
      ]
     },
     "execution_count": 20,
     "metadata": {},
     "output_type": "execute_result"
    }
   ],
   "source": [
    "# tree2conlltags returns a tuple for each token consisting of token, tag, chunk tag\n",
    "# conlltags2tree returns parse tree from these token triples\n",
    "from nltk.chunk.util import tree2conlltags, conlltags2tree\n",
    "\n",
    "wtc = tree2conlltags(train_data[2])\n",
    "wtc"
   ]
  },
  {
   "cell_type": "markdown",
   "metadata": {},
   "source": [
    "> The chunk tags use the IOB format, i.e., Inside, Outside, Beginning. Inside and Beginning are self evident. Outside indicates that the token does not belong to any chunk"
   ]
  },
  {
   "cell_type": "code",
   "execution_count": 21,
   "metadata": {},
   "outputs": [],
   "source": [
    "# extract POS and chunk tags from sentences with chunked annotations\n",
    "def conll_tags_chunks(chunk_sents):\n",
    "    tagged_sents = [tree2conlltags(tree) for tree in chunk_sents]\n",
    "    return [[(t, c) for (w, t, c) in sent] for sent in tagged_sents]\n",
    "\n",
    "# train multiple taggers with backoff taggers (e.g., unigram and bigram taggers)\n",
    "def combined_tagger(train_data, taggers, backoff=None):\n",
    "    for tagger in taggers:\n",
    "        backoff = tagger(train_data, backoff=backoff)\n",
    "    return backoff"
   ]
  },
  {
   "cell_type": "code",
   "execution_count": 22,
   "metadata": {},
   "outputs": [
    {
     "name": "stdout",
     "output_type": "stream",
     "text": [
      "ChunkParse score:\n",
      "    IOB Accuracy:  90.0%%\n",
      "    Precision:     82.1%%\n",
      "    Recall:        86.3%%\n",
      "    F-Measure:     84.1%%\n"
     ]
    }
   ],
   "source": [
    "from nltk.tag import UnigramTagger, BigramTagger\n",
    "from nltk.chunk import ChunkParserI\n",
    "\n",
    "# chunker class\n",
    "class NGramTagChunker(ChunkParserI):\n",
    "    def __init__(self, train_sentences, tagger_classes=[UnigramTagger, BigramTagger]):\n",
    "        train_sent_tags = conll_tags_chunks(train_sentences)\n",
    "        self.chunk_tagger = combined_tagger(train_sent_tags, tagger_classes)\n",
    "    \n",
    "    def parse(self, tagged_sentence):\n",
    "        if not tagged_sentence:\n",
    "            return None\n",
    "        pos_tags = [tag for word, tag in tagged_sentence]\n",
    "        chunk_pos_tags = self.chunk_tagger.tag(pos_tags)\n",
    "        chunk_tags = [chunk_tag for (pos_tag, chunk_tag) in chunk_pos_tags]\n",
    "        wpc_tags = [(word, pos_tag, chunk_tag) for ((word, pos_tag), chunk_tag)\n",
    "                       in zip(tagged_sentence, chunk_tags)]\n",
    "        return conlltags2tree(wpc_tags)\n",
    "    \n",
    "# train chunker model\n",
    "ntc = NGramTagChunker(train_data)\n",
    "\n",
    "# evaluate chunker model performance\n",
    "print(ntc.evaluate(test_data))\n",
    "        "
   ]
  },
  {
   "cell_type": "code",
   "execution_count": 23,
   "metadata": {},
   "outputs": [
    {
     "name": "stdout",
     "output_type": "stream",
     "text": [
      "(S\n",
      "  (NP 1/CD lakh/JJS small/JJ traders/NNS)\n",
      "  (VP to/TO protest/VB)\n",
      "  (PP against/IN)\n",
      "  (NP Jeff/NNP Bezos/NNP)\n",
      "  (PP during/IN)\n",
      "  (NP his/PRP$ stay/NN)\n",
      "  (PP in/IN)\n",
      "  (NP India/NNP))\n"
     ]
    }
   ],
   "source": [
    "chunk_tree = ntc.parse(nltk_pos_tagged)\n",
    "print(chunk_tree)"
   ]
  },
  {
   "cell_type": "code",
   "execution_count": 24,
   "metadata": {
    "scrolled": true
   },
   "outputs": [
    {
     "data": {
      "image/png": "[encoded data removed]",
      "text/plain": [
       "Tree('S', [Tree('NP', [('1', 'CD'), ('lakh', 'JJS'), ('small', 'JJ'), ('traders', 'NNS')]), Tree('VP', [('to', 'TO'), ('protest', 'VB')]), Tree('PP', [('against', 'IN')]), Tree('NP', [('Jeff', 'NNP'), ('Bezos', 'NNP')]), Tree('PP', [('during', 'IN')]), Tree('NP', [('his', 'PRP$'), ('stay', 'NN')]), Tree('PP', [('in', 'IN')]), Tree('NP', [('India', 'NNP')])])"
      ]
     },
     "metadata": {},
     "output_type": "display_data"
    }
   ],
   "source": [
    "from IPython.display import display\n",
    "\n",
    "os.environ['PATH'] = os.environ['PATH'] + \";C:\\\\Program Files\\\\gs\\\\gs9.50\\\\bin\\\\\"\n",
    "display(chunk_tree)"
   ]
  },
  {
   "cell_type": "markdown",
   "metadata": {},
   "source": [
    "**Constituency Parsing**"
   ]
  },
  {
   "cell_type": "code",
   "execution_count": 25,
   "metadata": {},
   "outputs": [
    {
     "name": "stderr",
     "output_type": "stream",
     "text": [
      "C:\\Users\\aksin\\Anaconda3\\lib\\site-packages\\ipykernel_launcher.py:7: DeprecationWarning: The StanfordParser will be deprecated\n",
      "Please use \u001b[91mnltk.parse.corenlp.CoreNLPParser\u001b[0m instead.\n",
      "  import sys\n"
     ]
    },
    {
     "name": "stdout",
     "output_type": "stream",
     "text": [
      "(ROOT\n",
      "  (VP\n",
      "    (LST (LS 1))\n",
      "    (VB lakh)\n",
      "    (NP (JJ small) (NNS traders))\n",
      "    (S\n",
      "      (VP\n",
      "        (TO to)\n",
      "        (VP\n",
      "          (VB protest)\n",
      "          (PP (IN against) (NP (NNP Jeff) (NNPS Bezos)))\n",
      "          (PP\n",
      "            (IN during)\n",
      "            (NP\n",
      "              (NP (PRP$ his) (NN stay))\n",
      "              (PP (IN in) (NP (NNP India))))))))))\n"
     ]
    }
   ],
   "source": [
    "java_path = r'C:\\Program Files\\Java\\jdk1.8.0_221\\bin\\java.exe'\n",
    "os.environ['JAVAHOME'] = java_path\n",
    "\n",
    "from nltk.parse.stanford import StanfordParser\n",
    "\n",
    "scp = StanfordParser(path_to_jar='C:/Users/aksin/Projects/sentimentanalysis/stanford-parser-full-2018-10-17/stanford-parser.jar', \n",
    "                     path_to_models_jar='C:/Users/aksin/Projects/sentimentanalysis/stanford-parser-full-2018-10-17/stanford-parser-3.9.2-models.jar')\n",
    "result = list(scp.raw_parse(sentence))\n",
    "print(result[0])"
   ]
  },
  {
   "cell_type": "code",
   "execution_count": 26,
   "metadata": {},
   "outputs": [
    {
     "data": {
      "image/png": "[encoded data removed]",
      "text/plain": [
       "Tree('ROOT', [Tree('VP', [Tree('LST', [Tree('LS', ['1'])]), Tree('VB', ['lakh']), Tree('NP', [Tree('JJ', ['small']), Tree('NNS', ['traders'])]), Tree('S', [Tree('VP', [Tree('TO', ['to']), Tree('VP', [Tree('VB', ['protest']), Tree('PP', [Tree('IN', ['against']), Tree('NP', [Tree('NNP', ['Jeff']), Tree('NNPS', ['Bezos'])])]), Tree('PP', [Tree('IN', ['during']), Tree('NP', [Tree('NP', [Tree('PRP$', ['his']), Tree('NN', ['stay'])]), Tree('PP', [Tree('IN', ['in']), Tree('NP', [Tree('NNP', ['India'])])])])])])])])])])"
      ]
     },
     "metadata": {},
     "output_type": "display_data"
    }
   ],
   "source": [
    "from IPython.display import display\n",
    "display(result[0])"
   ]
  },
  {
   "cell_type": "markdown",
   "metadata": {},
   "source": [
    "**Dependency Parsing**"
   ]
  },
  {
   "cell_type": "code",
   "execution_count": 27,
   "metadata": {},
   "outputs": [
    {
     "name": "stdout",
     "output_type": "stream",
     "text": [
      "[]<---1[nummod]--->[]\n",
      "-------\n",
      "[]<---lakh[det]--->[]\n",
      "-------\n",
      "[]<---small[amod]--->[]\n",
      "-------\n",
      "['1', 'lakh', 'small']<---traders[nsubj]--->[]\n",
      "-------\n",
      "[]<---to[aux]--->[]\n",
      "-------\n",
      "['traders', 'to']<---protest[ROOT]--->['against', 'during']\n",
      "-------\n",
      "[]<---against[prep]--->['Bezos']\n",
      "-------\n",
      "[]<---Jeff[compound]--->[]\n",
      "-------\n",
      "['Jeff']<---Bezos[pobj]--->[]\n",
      "-------\n",
      "[]<---during[prep]--->['stay']\n",
      "-------\n",
      "[]<---his[poss]--->[]\n",
      "-------\n",
      "['his']<---stay[pobj]--->['in']\n",
      "-------\n",
      "[]<---in[prep]--->['India']\n",
      "-------\n",
      "[]<---India[pobj]--->[]\n",
      "-------\n"
     ]
    }
   ],
   "source": [
    "dependency_pattern = '{left}<---{word}[{w_type}]--->{right}\\n-------'\n",
    "for token in sentence_nlp:\n",
    "    print(dependency_pattern.format(word=token.orth_,\n",
    "                                  w_type = token.dep_,\n",
    "                                  left=[t.orth_ for t in token.lefts],\n",
    "                                  right=[t.orth_ for t in token.rights]))"
   ]
  },
  {
   "cell_type": "code",
   "execution_count": 28,
   "metadata": {},
   "outputs": [
    {
     "data": {
      "text/html": [
       "<svg xmlns=\"http://www.w3.org/2000/svg\" xmlns:xlink=\"http://www.w3.org/1999/xlink\" xml:lang=\"en\" id=\"128c406a2f7d438eaf61d931b9d03e89-0\" class=\"displacy\" width=\"1730\" height=\"377.0\" direction=\"ltr\" style=\"max-width: none; height: 377.0px; color: #000000; background: #ffffff; font-family: Arial; direction: ltr\">\n",
       "<text class=\"displacy-token\" fill=\"currentColor\" text-anchor=\"middle\" y=\"287.0\">\n",
       "    <tspan class=\"displacy-word\" fill=\"currentColor\" x=\"50\">1</tspan>\n",
       "    <tspan class=\"displacy-tag\" dy=\"2em\" fill=\"currentColor\" x=\"50\">NUM</tspan>\n",
       "</text>\n",
       "\n",
       "<text class=\"displacy-token\" fill=\"currentColor\" text-anchor=\"middle\" y=\"287.0\">\n",
       "    <tspan class=\"displacy-word\" fill=\"currentColor\" x=\"170\">lakh</tspan>\n",
       "    <tspan class=\"displacy-tag\" dy=\"2em\" fill=\"currentColor\" x=\"170\">ADJ</tspan>\n",
       "</text>\n",
       "\n",
       "<text class=\"displacy-token\" fill=\"currentColor\" text-anchor=\"middle\" y=\"287.0\">\n",
       "    <tspan class=\"displacy-word\" fill=\"currentColor\" x=\"290\">small</tspan>\n",
       "    <tspan class=\"displacy-tag\" dy=\"2em\" fill=\"currentColor\" x=\"290\">ADJ</tspan>\n",
       "</text>\n",
       "\n",
       "<text class=\"displacy-token\" fill=\"currentColor\" text-anchor=\"middle\" y=\"287.0\">\n",
       "    <tspan class=\"displacy-word\" fill=\"currentColor\" x=\"410\">traders</tspan>\n",
       "    <tspan class=\"displacy-tag\" dy=\"2em\" fill=\"currentColor\" x=\"410\">NOUN</tspan>\n",
       "</text>\n",
       "\n",
       "<text class=\"displacy-token\" fill=\"currentColor\" text-anchor=\"middle\" y=\"287.0\">\n",
       "    <tspan class=\"displacy-word\" fill=\"currentColor\" x=\"530\">to</tspan>\n",
       "    <tspan class=\"displacy-tag\" dy=\"2em\" fill=\"currentColor\" x=\"530\">PART</tspan>\n",
       "</text>\n",
       "\n",
       "<text class=\"displacy-token\" fill=\"currentColor\" text-anchor=\"middle\" y=\"287.0\">\n",
       "    <tspan class=\"displacy-word\" fill=\"currentColor\" x=\"650\">protest</tspan>\n",
       "    <tspan class=\"displacy-tag\" dy=\"2em\" fill=\"currentColor\" x=\"650\">VERB</tspan>\n",
       "</text>\n",
       "\n",
       "<text class=\"displacy-token\" fill=\"currentColor\" text-anchor=\"middle\" y=\"287.0\">\n",
       "    <tspan class=\"displacy-word\" fill=\"currentColor\" x=\"770\">against</tspan>\n",
       "    <tspan class=\"displacy-tag\" dy=\"2em\" fill=\"currentColor\" x=\"770\">ADP</tspan>\n",
       "</text>\n",
       "\n",
       "<text class=\"displacy-token\" fill=\"currentColor\" text-anchor=\"middle\" y=\"287.0\">\n",
       "    <tspan class=\"displacy-word\" fill=\"currentColor\" x=\"890\">Jeff</tspan>\n",
       "    <tspan class=\"displacy-tag\" dy=\"2em\" fill=\"currentColor\" x=\"890\">PROPN</tspan>\n",
       "</text>\n",
       "\n",
       "<text class=\"displacy-token\" fill=\"currentColor\" text-anchor=\"middle\" y=\"287.0\">\n",
       "    <tspan class=\"displacy-word\" fill=\"currentColor\" x=\"1010\">Bezos</tspan>\n",
       "    <tspan class=\"displacy-tag\" dy=\"2em\" fill=\"currentColor\" x=\"1010\">PROPN</tspan>\n",
       "</text>\n",
       "\n",
       "<text class=\"displacy-token\" fill=\"currentColor\" text-anchor=\"middle\" y=\"287.0\">\n",
       "    <tspan class=\"displacy-word\" fill=\"currentColor\" x=\"1130\">during</tspan>\n",
       "    <tspan class=\"displacy-tag\" dy=\"2em\" fill=\"currentColor\" x=\"1130\">ADP</tspan>\n",
       "</text>\n",
       "\n",
       "<text class=\"displacy-token\" fill=\"currentColor\" text-anchor=\"middle\" y=\"287.0\">\n",
       "    <tspan class=\"displacy-word\" fill=\"currentColor\" x=\"1250\">his</tspan>\n",
       "    <tspan class=\"displacy-tag\" dy=\"2em\" fill=\"currentColor\" x=\"1250\">PRON</tspan>\n",
       "</text>\n",
       "\n",
       "<text class=\"displacy-token\" fill=\"currentColor\" text-anchor=\"middle\" y=\"287.0\">\n",
       "    <tspan class=\"displacy-word\" fill=\"currentColor\" x=\"1370\">stay</tspan>\n",
       "    <tspan class=\"displacy-tag\" dy=\"2em\" fill=\"currentColor\" x=\"1370\">NOUN</tspan>\n",
       "</text>\n",
       "\n",
       "<text class=\"displacy-token\" fill=\"currentColor\" text-anchor=\"middle\" y=\"287.0\">\n",
       "    <tspan class=\"displacy-word\" fill=\"currentColor\" x=\"1490\">in</tspan>\n",
       "    <tspan class=\"displacy-tag\" dy=\"2em\" fill=\"currentColor\" x=\"1490\">ADP</tspan>\n",
       "</text>\n",
       "\n",
       "<text class=\"displacy-token\" fill=\"currentColor\" text-anchor=\"middle\" y=\"287.0\">\n",
       "    <tspan class=\"displacy-word\" fill=\"currentColor\" x=\"1610\">India</tspan>\n",
       "    <tspan class=\"displacy-tag\" dy=\"2em\" fill=\"currentColor\" x=\"1610\">PROPN</tspan>\n",
       "</text>\n",
       "\n",
       "<g class=\"displacy-arrow\">\n",
       "    <path class=\"displacy-arc\" id=\"arrow-128c406a2f7d438eaf61d931b9d03e89-0-0\" stroke-width=\"2px\" d=\"M70,242.0 C70,62.0 405.0,62.0 405.0,242.0\" fill=\"none\" stroke=\"currentColor\"/>\n",
       "    <text dy=\"1.25em\" style=\"font-size: 0.8em; letter-spacing: 1px\">\n",
       "        <textPath xlink:href=\"#arrow-128c406a2f7d438eaf61d931b9d03e89-0-0\" class=\"displacy-label\" startOffset=\"50%\" side=\"left\" fill=\"currentColor\" text-anchor=\"middle\">nummod</textPath>\n",
       "    </text>\n",
       "    <path class=\"displacy-arrowhead\" d=\"M70,244.0 L67,237.0 73,237.0\" fill=\"currentColor\"/>\n",
       "</g>\n",
       "\n",
       "<g class=\"displacy-arrow\">\n",
       "    <path class=\"displacy-arc\" id=\"arrow-128c406a2f7d438eaf61d931b9d03e89-0-1\" stroke-width=\"2px\" d=\"M190,242.0 C190,122.0 400.0,122.0 400.0,242.0\" fill=\"none\" stroke=\"currentColor\"/>\n",
       "    <text dy=\"1.25em\" style=\"font-size: 0.8em; letter-spacing: 1px\">\n",
       "        <textPath xlink:href=\"#arrow-128c406a2f7d438eaf61d931b9d03e89-0-1\" class=\"displacy-label\" startOffset=\"50%\" side=\"left\" fill=\"currentColor\" text-anchor=\"middle\">det</textPath>\n",
       "    </text>\n",
       "    <path class=\"displacy-arrowhead\" d=\"M190,244.0 L187,237.0 193,237.0\" fill=\"currentColor\"/>\n",
       "</g>\n",
       "\n",
       "<g class=\"displacy-arrow\">\n",
       "    <path class=\"displacy-arc\" id=\"arrow-128c406a2f7d438eaf61d931b9d03e89-0-2\" stroke-width=\"2px\" d=\"M310,242.0 C310,182.0 395.0,182.0 395.0,242.0\" fill=\"none\" stroke=\"currentColor\"/>\n",
       "    <text dy=\"1.25em\" style=\"font-size: 0.8em; letter-spacing: 1px\">\n",
       "        <textPath xlink:href=\"#arrow-128c406a2f7d438eaf61d931b9d03e89-0-2\" class=\"displacy-label\" startOffset=\"50%\" side=\"left\" fill=\"currentColor\" text-anchor=\"middle\">amod</textPath>\n",
       "    </text>\n",
       "    <path class=\"displacy-arrowhead\" d=\"M310,244.0 L307,237.0 313,237.0\" fill=\"currentColor\"/>\n",
       "</g>\n",
       "\n",
       "<g class=\"displacy-arrow\">\n",
       "    <path class=\"displacy-arc\" id=\"arrow-128c406a2f7d438eaf61d931b9d03e89-0-3\" stroke-width=\"2px\" d=\"M430,242.0 C430,122.0 640.0,122.0 640.0,242.0\" fill=\"none\" stroke=\"currentColor\"/>\n",
       "    <text dy=\"1.25em\" style=\"font-size: 0.8em; letter-spacing: 1px\">\n",
       "        <textPath xlink:href=\"#arrow-128c406a2f7d438eaf61d931b9d03e89-0-3\" class=\"displacy-label\" startOffset=\"50%\" side=\"left\" fill=\"currentColor\" text-anchor=\"middle\">nsubj</textPath>\n",
       "    </text>\n",
       "    <path class=\"displacy-arrowhead\" d=\"M430,244.0 L427,237.0 433,237.0\" fill=\"currentColor\"/>\n",
       "</g>\n",
       "\n",
       "<g class=\"displacy-arrow\">\n",
       "    <path class=\"displacy-arc\" id=\"arrow-128c406a2f7d438eaf61d931b9d03e89-0-4\" stroke-width=\"2px\" d=\"M550,242.0 C550,182.0 635.0,182.0 635.0,242.0\" fill=\"none\" stroke=\"currentColor\"/>\n",
       "    <text dy=\"1.25em\" style=\"font-size: 0.8em; letter-spacing: 1px\">\n",
       "        <textPath xlink:href=\"#arrow-128c406a2f7d438eaf61d931b9d03e89-0-4\" class=\"displacy-label\" startOffset=\"50%\" side=\"left\" fill=\"currentColor\" text-anchor=\"middle\">aux</textPath>\n",
       "    </text>\n",
       "    <path class=\"displacy-arrowhead\" d=\"M550,244.0 L547,237.0 553,237.0\" fill=\"currentColor\"/>\n",
       "</g>\n",
       "\n",
       "<g class=\"displacy-arrow\">\n",
       "    <path class=\"displacy-arc\" id=\"arrow-128c406a2f7d438eaf61d931b9d03e89-0-5\" stroke-width=\"2px\" d=\"M670,242.0 C670,182.0 755.0,182.0 755.0,242.0\" fill=\"none\" stroke=\"currentColor\"/>\n",
       "    <text dy=\"1.25em\" style=\"font-size: 0.8em; letter-spacing: 1px\">\n",
       "        <textPath xlink:href=\"#arrow-128c406a2f7d438eaf61d931b9d03e89-0-5\" class=\"displacy-label\" startOffset=\"50%\" side=\"left\" fill=\"currentColor\" text-anchor=\"middle\">prep</textPath>\n",
       "    </text>\n",
       "    <path class=\"displacy-arrowhead\" d=\"M755.0,244.0 L758.0,237.0 752.0,237.0\" fill=\"currentColor\"/>\n",
       "</g>\n",
       "\n",
       "<g class=\"displacy-arrow\">\n",
       "    <path class=\"displacy-arc\" id=\"arrow-128c406a2f7d438eaf61d931b9d03e89-0-6\" stroke-width=\"2px\" d=\"M910,242.0 C910,182.0 995.0,182.0 995.0,242.0\" fill=\"none\" stroke=\"currentColor\"/>\n",
       "    <text dy=\"1.25em\" style=\"font-size: 0.8em; letter-spacing: 1px\">\n",
       "        <textPath xlink:href=\"#arrow-128c406a2f7d438eaf61d931b9d03e89-0-6\" class=\"displacy-label\" startOffset=\"50%\" side=\"left\" fill=\"currentColor\" text-anchor=\"middle\">compound</textPath>\n",
       "    </text>\n",
       "    <path class=\"displacy-arrowhead\" d=\"M910,244.0 L907,237.0 913,237.0\" fill=\"currentColor\"/>\n",
       "</g>\n",
       "\n",
       "<g class=\"displacy-arrow\">\n",
       "    <path class=\"displacy-arc\" id=\"arrow-128c406a2f7d438eaf61d931b9d03e89-0-7\" stroke-width=\"2px\" d=\"M790,242.0 C790,122.0 1000.0,122.0 1000.0,242.0\" fill=\"none\" stroke=\"currentColor\"/>\n",
       "    <text dy=\"1.25em\" style=\"font-size: 0.8em; letter-spacing: 1px\">\n",
       "        <textPath xlink:href=\"#arrow-128c406a2f7d438eaf61d931b9d03e89-0-7\" class=\"displacy-label\" startOffset=\"50%\" side=\"left\" fill=\"currentColor\" text-anchor=\"middle\">pobj</textPath>\n",
       "    </text>\n",
       "    <path class=\"displacy-arrowhead\" d=\"M1000.0,244.0 L1003.0,237.0 997.0,237.0\" fill=\"currentColor\"/>\n",
       "</g>\n",
       "\n",
       "<g class=\"displacy-arrow\">\n",
       "    <path class=\"displacy-arc\" id=\"arrow-128c406a2f7d438eaf61d931b9d03e89-0-8\" stroke-width=\"2px\" d=\"M670,242.0 C670,2.0 1130.0,2.0 1130.0,242.0\" fill=\"none\" stroke=\"currentColor\"/>\n",
       "    <text dy=\"1.25em\" style=\"font-size: 0.8em; letter-spacing: 1px\">\n",
       "        <textPath xlink:href=\"#arrow-128c406a2f7d438eaf61d931b9d03e89-0-8\" class=\"displacy-label\" startOffset=\"50%\" side=\"left\" fill=\"currentColor\" text-anchor=\"middle\">prep</textPath>\n",
       "    </text>\n",
       "    <path class=\"displacy-arrowhead\" d=\"M1130.0,244.0 L1133.0,237.0 1127.0,237.0\" fill=\"currentColor\"/>\n",
       "</g>\n",
       "\n",
       "<g class=\"displacy-arrow\">\n",
       "    <path class=\"displacy-arc\" id=\"arrow-128c406a2f7d438eaf61d931b9d03e89-0-9\" stroke-width=\"2px\" d=\"M1270,242.0 C1270,182.0 1355.0,182.0 1355.0,242.0\" fill=\"none\" stroke=\"currentColor\"/>\n",
       "    <text dy=\"1.25em\" style=\"font-size: 0.8em; letter-spacing: 1px\">\n",
       "        <textPath xlink:href=\"#arrow-128c406a2f7d438eaf61d931b9d03e89-0-9\" class=\"displacy-label\" startOffset=\"50%\" side=\"left\" fill=\"currentColor\" text-anchor=\"middle\">poss</textPath>\n",
       "    </text>\n",
       "    <path class=\"displacy-arrowhead\" d=\"M1270,244.0 L1267,237.0 1273,237.0\" fill=\"currentColor\"/>\n",
       "</g>\n",
       "\n",
       "<g class=\"displacy-arrow\">\n",
       "    <path class=\"displacy-arc\" id=\"arrow-128c406a2f7d438eaf61d931b9d03e89-0-10\" stroke-width=\"2px\" d=\"M1150,242.0 C1150,122.0 1360.0,122.0 1360.0,242.0\" fill=\"none\" stroke=\"currentColor\"/>\n",
       "    <text dy=\"1.25em\" style=\"font-size: 0.8em; letter-spacing: 1px\">\n",
       "        <textPath xlink:href=\"#arrow-128c406a2f7d438eaf61d931b9d03e89-0-10\" class=\"displacy-label\" startOffset=\"50%\" side=\"left\" fill=\"currentColor\" text-anchor=\"middle\">pobj</textPath>\n",
       "    </text>\n",
       "    <path class=\"displacy-arrowhead\" d=\"M1360.0,244.0 L1363.0,237.0 1357.0,237.0\" fill=\"currentColor\"/>\n",
       "</g>\n",
       "\n",
       "<g class=\"displacy-arrow\">\n",
       "    <path class=\"displacy-arc\" id=\"arrow-128c406a2f7d438eaf61d931b9d03e89-0-11\" stroke-width=\"2px\" d=\"M1390,242.0 C1390,182.0 1475.0,182.0 1475.0,242.0\" fill=\"none\" stroke=\"currentColor\"/>\n",
       "    <text dy=\"1.25em\" style=\"font-size: 0.8em; letter-spacing: 1px\">\n",
       "        <textPath xlink:href=\"#arrow-128c406a2f7d438eaf61d931b9d03e89-0-11\" class=\"displacy-label\" startOffset=\"50%\" side=\"left\" fill=\"currentColor\" text-anchor=\"middle\">prep</textPath>\n",
       "    </text>\n",
       "    <path class=\"displacy-arrowhead\" d=\"M1475.0,244.0 L1478.0,237.0 1472.0,237.0\" fill=\"currentColor\"/>\n",
       "</g>\n",
       "\n",
       "<g class=\"displacy-arrow\">\n",
       "    <path class=\"displacy-arc\" id=\"arrow-128c406a2f7d438eaf61d931b9d03e89-0-12\" stroke-width=\"2px\" d=\"M1510,242.0 C1510,182.0 1595.0,182.0 1595.0,242.0\" fill=\"none\" stroke=\"currentColor\"/>\n",
       "    <text dy=\"1.25em\" style=\"font-size: 0.8em; letter-spacing: 1px\">\n",
       "        <textPath xlink:href=\"#arrow-128c406a2f7d438eaf61d931b9d03e89-0-12\" class=\"displacy-label\" startOffset=\"50%\" side=\"left\" fill=\"currentColor\" text-anchor=\"middle\">pobj</textPath>\n",
       "    </text>\n",
       "    <path class=\"displacy-arrowhead\" d=\"M1595.0,244.0 L1598.0,237.0 1592.0,237.0\" fill=\"currentColor\"/>\n",
       "</g>\n",
       "</svg>"
      ],
      "text/plain": [
       "<IPython.core.display.HTML object>"
      ]
     },
     "metadata": {},
     "output_type": "display_data"
    }
   ],
   "source": [
    "# Using spacy\n",
    "from spacy import displacy\n",
    "\n",
    "displacy.render(sentence_nlp, jupyter=True, options={'distance': 120, 'arrow_stroke': 2, 'arrow_width': 5})"
   ]
  },
  {
   "cell_type": "code",
   "execution_count": 29,
   "metadata": {},
   "outputs": [
    {
     "name": "stderr",
     "output_type": "stream",
     "text": [
      "C:\\Users\\aksin\\Anaconda3\\lib\\site-packages\\ipykernel_launcher.py:5: DeprecationWarning: The StanfordDependencyParser will be deprecated\n",
      "Please use \u001b[91mnltk.parse.corenlp.CoreNLPDependencyParser\u001b[0m instead.\n",
      "  \"\"\"\n"
     ]
    },
    {
     "name": "stdout",
     "output_type": "stream",
     "text": [
      "(lakh\n",
      "  1\n",
      "  (traders small)\n",
      "  (protest to (Bezos against Jeff) (stay during his (India in))))\n"
     ]
    },
    {
     "data": {
      "image/png": "[encoded data removed]",
      "text/plain": [
       "Tree('lakh', ['1', Tree('traders', ['small']), Tree('protest', ['to', Tree('Bezos', ['against', 'Jeff']), Tree('stay', ['during', 'his', Tree('India', ['in'])])])])"
      ]
     },
     "metadata": {},
     "output_type": "display_data"
    },
    {
     "data": {
      "image/svg+xml": [
       "<?xml version=\"1.0\" encoding=\"UTF-8\" standalone=\"no\"?>\r\n",
       "<!DOCTYPE svg PUBLIC \"-//W3C//DTD SVG 1.1//EN\"\r\n",
       " \"http://www.w3.org/Graphics/SVG/1.1/DTD/svg11.dtd\">\r\n",
       "<!-- Generated by graphviz version 2.38.0 (20140413.2041)\r\n",
       " -->\r\n",
       "<!-- Title: G Pages: 1 -->\r\n",
       "<svg width=\"555pt\" height=\"479pt\"\r\n",
       " viewBox=\"0.00 0.00 554.50 479.00\" xmlns=\"http://www.w3.org/2000/svg\" xmlns:xlink=\"http://www.w3.org/1999/xlink\">\r\n",
       "<g id=\"graph0\" class=\"graph\" transform=\"scale(1 1) rotate(0) translate(4 475)\">\r\n",
       "<title>G</title>\r\n",
       "<polygon fill=\"white\" stroke=\"none\" points=\"-4,4 -4,-475 550.5,-475 550.5,4 -4,4\"/>\r\n",
       "<!-- 0 -->\r\n",
       "<g id=\"node1\" class=\"node\"><title>0</title>\r\n",
       "<text text-anchor=\"middle\" x=\"109\" y=\"-449.3\" font-family=\"Times New Roman,serif\" font-size=\"14.00\">0 (None)</text>\r\n",
       "</g>\r\n",
       "<!-- 2 -->\r\n",
       "<g id=\"node2\" class=\"node\"><title>2</title>\r\n",
       "<text text-anchor=\"middle\" x=\"109\" y=\"-362.3\" font-family=\"Times New Roman,serif\" font-size=\"14.00\">2 (lakh)</text>\r\n",
       "</g>\r\n",
       "<!-- 0&#45;&gt;2 -->\r\n",
       "<g id=\"edge1\" class=\"edge\"><title>0&#45;&gt;2</title>\r\n",
       "<path fill=\"none\" stroke=\"black\" d=\"M109,-434.799C109,-423.163 109,-407.548 109,-394.237\"/>\r\n",
       "<polygon fill=\"black\" stroke=\"black\" points=\"112.5,-394.175 109,-384.175 105.5,-394.175 112.5,-394.175\"/>\r\n",
       "<text text-anchor=\"middle\" x=\"121\" y=\"-405.8\" font-family=\"Times New Roman,serif\" font-size=\"14.00\">root</text>\r\n",
       "</g>\r\n",
       "<!-- 1 -->\r\n",
       "<g id=\"node3\" class=\"node\"><title>1</title>\r\n",
       "<text text-anchor=\"middle\" x=\"27\" y=\"-275.3\" font-family=\"Times New Roman,serif\" font-size=\"14.00\">1 (1)</text>\r\n",
       "</g>\r\n",
       "<!-- 2&#45;&gt;1 -->\r\n",
       "<g id=\"edge2\" class=\"edge\"><title>2&#45;&gt;1</title>\r\n",
       "<path fill=\"none\" stroke=\"black\" d=\"M92.4061,-347.799C80.4024,-335.356 64.0103,-318.364 50.6396,-304.504\"/>\r\n",
       "<polygon fill=\"black\" stroke=\"black\" points=\"53.0311,-301.942 43.5692,-297.175 47.9933,-306.802 53.0311,-301.942\"/>\r\n",
       "<text text-anchor=\"middle\" x=\"84\" y=\"-318.8\" font-family=\"Times New Roman,serif\" font-size=\"14.00\">dep</text>\r\n",
       "</g>\r\n",
       "<!-- 4 -->\r\n",
       "<g id=\"node4\" class=\"node\"><title>4</title>\r\n",
       "<text text-anchor=\"middle\" x=\"109\" y=\"-275.3\" font-family=\"Times New Roman,serif\" font-size=\"14.00\">4 (traders)</text>\r\n",
       "</g>\r\n",
       "<!-- 2&#45;&gt;4 -->\r\n",
       "<g id=\"edge3\" class=\"edge\"><title>2&#45;&gt;4</title>\r\n",
       "<path fill=\"none\" stroke=\"black\" d=\"M109,-347.799C109,-336.163 109,-320.548 109,-307.237\"/>\r\n",
       "<polygon fill=\"black\" stroke=\"black\" points=\"112.5,-307.175 109,-297.175 105.5,-307.175 112.5,-307.175\"/>\r\n",
       "<text text-anchor=\"middle\" x=\"122\" y=\"-318.8\" font-family=\"Times New Roman,serif\" font-size=\"14.00\">dobj</text>\r\n",
       "</g>\r\n",
       "<!-- 6 -->\r\n",
       "<g id=\"node5\" class=\"node\"><title>6</title>\r\n",
       "<text text-anchor=\"middle\" x=\"227\" y=\"-275.3\" font-family=\"Times New Roman,serif\" font-size=\"14.00\">6 (protest)</text>\r\n",
       "</g>\r\n",
       "<!-- 2&#45;&gt;6 -->\r\n",
       "<g id=\"edge4\" class=\"edge\"><title>2&#45;&gt;6</title>\r\n",
       "<path fill=\"none\" stroke=\"black\" d=\"M132.879,-347.799C150.713,-334.953 175.277,-317.258 194.839,-303.167\"/>\r\n",
       "<polygon fill=\"black\" stroke=\"black\" points=\"197.088,-305.86 203.156,-297.175 192.997,-300.18 197.088,-305.86\"/>\r\n",
       "<text text-anchor=\"middle\" x=\"191.5\" y=\"-318.8\" font-family=\"Times New Roman,serif\" font-size=\"14.00\">advcl</text>\r\n",
       "</g>\r\n",
       "<!-- 3 -->\r\n",
       "<g id=\"node6\" class=\"node\"><title>3</title>\r\n",
       "<text text-anchor=\"middle\" x=\"96\" y=\"-188.3\" font-family=\"Times New Roman,serif\" font-size=\"14.00\">3 (small)</text>\r\n",
       "</g>\r\n",
       "<!-- 4&#45;&gt;3 -->\r\n",
       "<g id=\"edge5\" class=\"edge\"><title>4&#45;&gt;3</title>\r\n",
       "<path fill=\"none\" stroke=\"black\" d=\"M106.369,-260.799C104.59,-249.163 102.201,-233.548 100.166,-220.237\"/>\r\n",
       "<polygon fill=\"black\" stroke=\"black\" points=\"103.599,-219.531 98.6268,-210.175 96.679,-220.59 103.599,-219.531\"/>\r\n",
       "<text text-anchor=\"middle\" x=\"120\" y=\"-231.8\" font-family=\"Times New Roman,serif\" font-size=\"14.00\">amod</text>\r\n",
       "</g>\r\n",
       "<!-- 5 -->\r\n",
       "<g id=\"node7\" class=\"node\"><title>5</title>\r\n",
       "<text text-anchor=\"middle\" x=\"174\" y=\"-188.3\" font-family=\"Times New Roman,serif\" font-size=\"14.00\">5 (to)</text>\r\n",
       "</g>\r\n",
       "<!-- 6&#45;&gt;5 -->\r\n",
       "<g id=\"edge6\" class=\"edge\"><title>6&#45;&gt;5</title>\r\n",
       "<path fill=\"none\" stroke=\"black\" d=\"M216.275,-260.799C208.732,-248.702 198.508,-232.305 190.004,-218.667\"/>\r\n",
       "<polygon fill=\"black\" stroke=\"black\" points=\"192.97,-216.809 184.709,-210.175 187.03,-220.513 192.97,-216.809\"/>\r\n",
       "<text text-anchor=\"middle\" x=\"218\" y=\"-231.8\" font-family=\"Times New Roman,serif\" font-size=\"14.00\">mark</text>\r\n",
       "</g>\r\n",
       "<!-- 9 -->\r\n",
       "<g id=\"node8\" class=\"node\"><title>9</title>\r\n",
       "<text text-anchor=\"middle\" x=\"255\" y=\"-188.3\" font-family=\"Times New Roman,serif\" font-size=\"14.00\">9 (Bezos)</text>\r\n",
       "</g>\r\n",
       "<!-- 6&#45;&gt;9 -->\r\n",
       "<g id=\"edge7\" class=\"edge\"><title>6&#45;&gt;9</title>\r\n",
       "<path fill=\"none\" stroke=\"black\" d=\"M232.666,-260.799C236.537,-249.047 241.745,-233.238 246.158,-219.842\"/>\r\n",
       "<polygon fill=\"black\" stroke=\"black\" points=\"249.538,-220.768 249.342,-210.175 242.889,-218.578 249.538,-220.768\"/>\r\n",
       "<text text-anchor=\"middle\" x=\"259.5\" y=\"-231.8\" font-family=\"Times New Roman,serif\" font-size=\"14.00\">nmod</text>\r\n",
       "</g>\r\n",
       "<!-- 12 -->\r\n",
       "<g id=\"node9\" class=\"node\"><title>12</title>\r\n",
       "<text text-anchor=\"middle\" x=\"393\" y=\"-188.3\" font-family=\"Times New Roman,serif\" font-size=\"14.00\">12 (stay)</text>\r\n",
       "</g>\r\n",
       "<!-- 6&#45;&gt;12 -->\r\n",
       "<g id=\"edge8\" class=\"edge\"><title>6&#45;&gt;12</title>\r\n",
       "<path fill=\"none\" stroke=\"black\" d=\"M260.593,-260.799C286.723,-247.419 323.126,-228.779 351.15,-214.429\"/>\r\n",
       "<polygon fill=\"black\" stroke=\"black\" points=\"353,-217.414 360.306,-209.741 349.81,-211.183 353,-217.414\"/>\r\n",
       "<text text-anchor=\"middle\" x=\"335.5\" y=\"-231.8\" font-family=\"Times New Roman,serif\" font-size=\"14.00\">nmod</text>\r\n",
       "</g>\r\n",
       "<!-- 7 -->\r\n",
       "<g id=\"node10\" class=\"node\"><title>7</title>\r\n",
       "<text text-anchor=\"middle\" x=\"172\" y=\"-101.3\" font-family=\"Times New Roman,serif\" font-size=\"14.00\">7 (against)</text>\r\n",
       "</g>\r\n",
       "<!-- 9&#45;&gt;7 -->\r\n",
       "<g id=\"edge9\" class=\"edge\"><title>9&#45;&gt;7</title>\r\n",
       "<path fill=\"none\" stroke=\"black\" d=\"M238.204,-173.799C226.054,-161.356 209.462,-144.364 195.928,-130.504\"/>\r\n",
       "<polygon fill=\"black\" stroke=\"black\" points=\"198.262,-127.885 188.771,-123.175 193.254,-132.775 198.262,-127.885\"/>\r\n",
       "<text text-anchor=\"middle\" x=\"231.5\" y=\"-144.8\" font-family=\"Times New Roman,serif\" font-size=\"14.00\">case</text>\r\n",
       "</g>\r\n",
       "<!-- 8 -->\r\n",
       "<g id=\"node11\" class=\"node\"><title>8</title>\r\n",
       "<text text-anchor=\"middle\" x=\"255\" y=\"-101.3\" font-family=\"Times New Roman,serif\" font-size=\"14.00\">8 (Jeff)</text>\r\n",
       "</g>\r\n",
       "<!-- 9&#45;&gt;8 -->\r\n",
       "<g id=\"edge10\" class=\"edge\"><title>9&#45;&gt;8</title>\r\n",
       "<path fill=\"none\" stroke=\"black\" d=\"M255,-173.799C255,-162.163 255,-146.548 255,-133.237\"/>\r\n",
       "<polygon fill=\"black\" stroke=\"black\" points=\"258.5,-133.175 255,-123.175 251.5,-133.175 258.5,-133.175\"/>\r\n",
       "<text text-anchor=\"middle\" x=\"285.5\" y=\"-144.8\" font-family=\"Times New Roman,serif\" font-size=\"14.00\">compound</text>\r\n",
       "</g>\r\n",
       "<!-- 10 -->\r\n",
       "<g id=\"node12\" class=\"node\"><title>10</title>\r\n",
       "<text text-anchor=\"middle\" x=\"340\" y=\"-101.3\" font-family=\"Times New Roman,serif\" font-size=\"14.00\">10 (during)</text>\r\n",
       "</g>\r\n",
       "<!-- 12&#45;&gt;10 -->\r\n",
       "<g id=\"edge11\" class=\"edge\"><title>12&#45;&gt;10</title>\r\n",
       "<path fill=\"none\" stroke=\"black\" d=\"M382.275,-173.799C374.732,-161.702 364.508,-145.305 356.004,-131.667\"/>\r\n",
       "<polygon fill=\"black\" stroke=\"black\" points=\"358.97,-129.809 350.709,-123.175 353.03,-133.513 358.97,-129.809\"/>\r\n",
       "<text text-anchor=\"middle\" x=\"381.5\" y=\"-144.8\" font-family=\"Times New Roman,serif\" font-size=\"14.00\">case</text>\r\n",
       "</g>\r\n",
       "<!-- 11 -->\r\n",
       "<g id=\"node13\" class=\"node\"><title>11</title>\r\n",
       "<text text-anchor=\"middle\" x=\"427\" y=\"-101.3\" font-family=\"Times New Roman,serif\" font-size=\"14.00\">11 (his)</text>\r\n",
       "</g>\r\n",
       "<!-- 12&#45;&gt;11 -->\r\n",
       "<g id=\"edge12\" class=\"edge\"><title>12&#45;&gt;11</title>\r\n",
       "<path fill=\"none\" stroke=\"black\" d=\"M399.88,-173.799C404.581,-162.047 410.905,-146.238 416.263,-132.842\"/>\r\n",
       "<polygon fill=\"black\" stroke=\"black\" points=\"419.666,-133.76 420.13,-123.175 413.166,-131.16 419.666,-133.76\"/>\r\n",
       "<text text-anchor=\"middle\" x=\"443.5\" y=\"-144.8\" font-family=\"Times New Roman,serif\" font-size=\"14.00\">nmod:poss</text>\r\n",
       "</g>\r\n",
       "<!-- 14 -->\r\n",
       "<g id=\"node14\" class=\"node\"><title>14</title>\r\n",
       "<text text-anchor=\"middle\" x=\"511\" y=\"-101.3\" font-family=\"Times New Roman,serif\" font-size=\"14.00\">14 (India)</text>\r\n",
       "</g>\r\n",
       "<!-- 12&#45;&gt;14 -->\r\n",
       "<g id=\"edge13\" class=\"edge\"><title>12&#45;&gt;14</title>\r\n",
       "<path fill=\"none\" stroke=\"black\" d=\"M425.76,-182.877C442.978,-177.396 463.635,-168.785 479,-156 486.796,-149.513 493.327,-140.625 498.413,-132.141\"/>\r\n",
       "<polygon fill=\"black\" stroke=\"black\" points=\"501.568,-133.668 503.357,-123.225 495.447,-130.273 501.568,-133.668\"/>\r\n",
       "<text text-anchor=\"middle\" x=\"508.5\" y=\"-144.8\" font-family=\"Times New Roman,serif\" font-size=\"14.00\">nmod</text>\r\n",
       "</g>\r\n",
       "<!-- 13 -->\r\n",
       "<g id=\"node15\" class=\"node\"><title>13</title>\r\n",
       "<text text-anchor=\"middle\" x=\"511\" y=\"-14.3\" font-family=\"Times New Roman,serif\" font-size=\"14.00\">13 (in)</text>\r\n",
       "</g>\r\n",
       "<!-- 14&#45;&gt;13 -->\r\n",
       "<g id=\"edge14\" class=\"edge\"><title>14&#45;&gt;13</title>\r\n",
       "<path fill=\"none\" stroke=\"black\" d=\"M511,-86.799C511,-75.1626 511,-59.5479 511,-46.2368\"/>\r\n",
       "<polygon fill=\"black\" stroke=\"black\" points=\"514.5,-46.1754 511,-36.1754 507.5,-46.1755 514.5,-46.1754\"/>\r\n",
       "<text text-anchor=\"middle\" x=\"523.5\" y=\"-57.8\" font-family=\"Times New Roman,serif\" font-size=\"14.00\">case</text>\r\n",
       "</g>\r\n",
       "</g>\r\n",
       "</svg>\r\n"
      ],
      "text/plain": [
       "<graphviz.files.Source at 0x1a491778978>"
      ]
     },
     "execution_count": 29,
     "metadata": {},
     "output_type": "execute_result"
    }
   ],
   "source": [
    "# Using nltk StanfordDependencyParser\n",
    "from nltk.parse.stanford import StanfordDependencyParser\n",
    "\n",
    "scp = StanfordDependencyParser(path_to_jar='C:/Users/aksin/Projects/sentimentanalysis/stanford-parser-full-2018-10-17/stanford-parser.jar', \n",
    "                     path_to_models_jar='C:/Users/aksin/Projects/sentimentanalysis/stanford-parser-full-2018-10-17/stanford-parser-3.9.2-models.jar')\n",
    "\n",
    "result = list(scp.raw_parse(sentence))\n",
    "\n",
    "# print the dependency tree\n",
    "dep_tree = [parse.tree() for parse in result][0]\n",
    "print(dep_tree)\n",
    "\n",
    "# visualize raw dependency tree\n",
    "from IPython.display import display\n",
    "display(dep_tree)\n",
    "\n",
    "# visualize annotated dependency tree\n",
    "os.environ[\"PATH\"] += os.pathsep + r'C:\\Program Files (x86)\\Graphviz2.38\\bin'\n",
    "\n",
    "from graphviz import Source\n",
    "dep_tree_dot_repr = [parse for parse in result][0].to_dot()\n",
    "source = Source(dep_tree_dot_repr, filename=\"dep_tree\", format=\"png\")\n",
    "source"
   ]
  },
  {
   "cell_type": "markdown",
   "metadata": {},
   "source": [
    "**Named Entity Recognition**"
   ]
  },
  {
   "cell_type": "code",
   "execution_count": 30,
   "metadata": {},
   "outputs": [
    {
     "name": "stdout",
     "output_type": "stream",
     "text": [
      "[(1, 'CARDINAL'), (Jeff, 'PERSON'), (Bezos, 'PERSON'), (India, 'GPE'), (CAIT, 'ORG'), (around, 'CARDINAL'), (7, 'CARDINAL'), (300, 'CARDINAL'), (Amazon, 'ORG'), (Jeff, 'PERSON'), (Bezos, 'PERSON'), (', 'PERSON'), (India, 'GPE'), (at, 'CARDINAL'), (least, 'CARDINAL'), (1, 'CARDINAL'), (CAIT, 'ORG'), (Bezos, 'PERSON'), (India, 'GPE'), (next, 'DATE'), (week, 'DATE'), (Delhi, 'GPE')]\n"
     ]
    },
    {
     "data": {
      "text/html": [
       "<div class=\"entities\" style=\"line-height: 2.5; direction: ltr\">\n",
       "<mark class=\"entity\" style=\"background: #e4e7d2; padding: 0.45em 0.6em; margin: 0 0.25em; line-height: 1; border-radius: 0.35em;\">\n",
       "    1\n",
       "    <span style=\"font-size: 0.8em; font-weight: bold; line-height: 1; border-radius: 0.35em; text-transform: uppercase; vertical-align: middle; margin-left: 0.5rem\">CARDINAL</span>\n",
       "</mark>\n",
       " lakh small traders to protest against \n",
       "<mark class=\"entity\" style=\"background: #aa9cfc; padding: 0.45em 0.6em; margin: 0 0.25em; line-height: 1; border-radius: 0.35em;\">\n",
       "    Jeff Bezos\n",
       "    <span style=\"font-size: 0.8em; font-weight: bold; line-height: 1; border-radius: 0.35em; text-transform: uppercase; vertical-align: middle; margin-left: 0.5rem\">PERSON</span>\n",
       "</mark>\n",
       " during his stay in \n",
       "<mark class=\"entity\" style=\"background: #feca74; padding: 0.45em 0.6em; margin: 0 0.25em; line-height: 1; border-radius: 0.35em;\">\n",
       "    India\n",
       "    <span style=\"font-size: 0.8em; font-weight: bold; line-height: 1; border-radius: 0.35em; text-transform: uppercase; vertical-align: middle; margin-left: 0.5rem\">GPE</span>\n",
       "</mark>\n",
       ". The Confederation of All India Traders (\n",
       "<mark class=\"entity\" style=\"background: #7aecec; padding: 0.45em 0.6em; margin: 0 0.25em; line-height: 1; border-radius: 0.35em;\">\n",
       "    CAIT\n",
       "    <span style=\"font-size: 0.8em; font-weight: bold; line-height: 1; border-radius: 0.35em; text-transform: uppercase; vertical-align: middle; margin-left: 0.5rem\">ORG</span>\n",
       "</mark>\n",
       "), which represents \n",
       "<mark class=\"entity\" style=\"background: #e4e7d2; padding: 0.45em 0.6em; margin: 0 0.25em; line-height: 1; border-radius: 0.35em;\">\n",
       "    around 7\n",
       "    <span style=\"font-size: 0.8em; font-weight: bold; line-height: 1; border-radius: 0.35em; text-transform: uppercase; vertical-align: middle; margin-left: 0.5rem\">CARDINAL</span>\n",
       "</mark>\n",
       " crore retailers, said it will protest across \n",
       "<mark class=\"entity\" style=\"background: #e4e7d2; padding: 0.45em 0.6em; margin: 0 0.25em; line-height: 1; border-radius: 0.35em;\">\n",
       "    300\n",
       "    <span style=\"font-size: 0.8em; font-weight: bold; line-height: 1; border-radius: 0.35em; text-transform: uppercase; vertical-align: middle; margin-left: 0.5rem\">CARDINAL</span>\n",
       "</mark>\n",
       " cities during \n",
       "<mark class=\"entity\" style=\"background: #7aecec; padding: 0.45em 0.6em; margin: 0 0.25em; line-height: 1; border-radius: 0.35em;\">\n",
       "    Amazon\n",
       "    <span style=\"font-size: 0.8em; font-weight: bold; line-height: 1; border-radius: 0.35em; text-transform: uppercase; vertical-align: middle; margin-left: 0.5rem\">ORG</span>\n",
       "</mark>\n",
       " CEO \n",
       "<mark class=\"entity\" style=\"background: #aa9cfc; padding: 0.45em 0.6em; margin: 0 0.25em; line-height: 1; border-radius: 0.35em;\">\n",
       "    Jeff Bezos'\n",
       "    <span style=\"font-size: 0.8em; font-weight: bold; line-height: 1; border-radius: 0.35em; text-transform: uppercase; vertical-align: middle; margin-left: 0.5rem\">PERSON</span>\n",
       "</mark>\n",
       " stay in \n",
       "<mark class=\"entity\" style=\"background: #feca74; padding: 0.45em 0.6em; margin: 0 0.25em; line-height: 1; border-radius: 0.35em;\">\n",
       "    India\n",
       "    <span style=\"font-size: 0.8em; font-weight: bold; line-height: 1; border-radius: 0.35em; text-transform: uppercase; vertical-align: middle; margin-left: 0.5rem\">GPE</span>\n",
       "</mark>\n",
       ". &quot;We expect to mobilise \n",
       "<mark class=\"entity\" style=\"background: #e4e7d2; padding: 0.45em 0.6em; margin: 0 0.25em; line-height: 1; border-radius: 0.35em;\">\n",
       "    at least 1\n",
       "    <span style=\"font-size: 0.8em; font-weight: bold; line-height: 1; border-radius: 0.35em; text-transform: uppercase; vertical-align: middle; margin-left: 0.5rem\">CARDINAL</span>\n",
       "</mark>\n",
       " lakh traders in the protests,&quot; \n",
       "<mark class=\"entity\" style=\"background: #7aecec; padding: 0.45em 0.6em; margin: 0 0.25em; line-height: 1; border-radius: 0.35em;\">\n",
       "    CAIT\n",
       "    <span style=\"font-size: 0.8em; font-weight: bold; line-height: 1; border-radius: 0.35em; text-transform: uppercase; vertical-align: middle; margin-left: 0.5rem\">ORG</span>\n",
       "</mark>\n",
       " said. \n",
       "<mark class=\"entity\" style=\"background: #aa9cfc; padding: 0.45em 0.6em; margin: 0 0.25em; line-height: 1; border-radius: 0.35em;\">\n",
       "    Bezos\n",
       "    <span style=\"font-size: 0.8em; font-weight: bold; line-height: 1; border-radius: 0.35em; text-transform: uppercase; vertical-align: middle; margin-left: 0.5rem\">PERSON</span>\n",
       "</mark>\n",
       " will visit \n",
       "<mark class=\"entity\" style=\"background: #feca74; padding: 0.45em 0.6em; margin: 0 0.25em; line-height: 1; border-radius: 0.35em;\">\n",
       "    India\n",
       "    <span style=\"font-size: 0.8em; font-weight: bold; line-height: 1; border-radius: 0.35em; text-transform: uppercase; vertical-align: middle; margin-left: 0.5rem\">GPE</span>\n",
       "</mark>\n",
       " \n",
       "<mark class=\"entity\" style=\"background: #bfe1d9; padding: 0.45em 0.6em; margin: 0 0.25em; line-height: 1; border-radius: 0.35em;\">\n",
       "    next week\n",
       "    <span style=\"font-size: 0.8em; font-weight: bold; line-height: 1; border-radius: 0.35em; text-transform: uppercase; vertical-align: middle; margin-left: 0.5rem\">DATE</span>\n",
       "</mark>\n",
       " for a company event in \n",
       "<mark class=\"entity\" style=\"background: #feca74; padding: 0.45em 0.6em; margin: 0 0.25em; line-height: 1; border-radius: 0.35em;\">\n",
       "    Delhi\n",
       "    <span style=\"font-size: 0.8em; font-weight: bold; line-height: 1; border-radius: 0.35em; text-transform: uppercase; vertical-align: middle; margin-left: 0.5rem\">GPE</span>\n",
       "</mark>\n",
       " and potential meetings with government officials.</div>"
      ],
      "text/plain": [
       "<IPython.core.display.HTML object>"
      ]
     },
     "metadata": {},
     "output_type": "display_data"
    }
   ],
   "source": [
    "sentence = str(news_df.iloc[1].full_text)\n",
    "sentence_nlp = nlp(sentence)\n",
    "\n",
    "# print named entities in an article\n",
    "print([(word, word.ent_type_) for word in sentence_nlp if word.ent_type_])\n",
    "\n",
    "# visualize named entities\n",
    "displacy.render(sentence_nlp, style='ent', jupyter=True)"
   ]
  },
  {
   "cell_type": "code",
   "execution_count": 31,
   "metadata": {},
   "outputs": [
    {
     "data": {
      "text/html": [
       "<div>\n",
       "<style scoped>\n",
       "    .dataframe tbody tr th:only-of-type {\n",
       "        vertical-align: middle;\n",
       "    }\n",
       "\n",
       "    .dataframe tbody tr th {\n",
       "        vertical-align: top;\n",
       "    }\n",
       "\n",
       "    .dataframe thead th {\n",
       "        text-align: right;\n",
       "    }\n",
       "</style>\n",
       "<table border=\"1\" class=\"dataframe\">\n",
       "  <thead>\n",
       "    <tr style=\"text-align: right;\">\n",
       "      <th></th>\n",
       "      <th>Entity Name</th>\n",
       "      <th>Entity Type</th>\n",
       "    </tr>\n",
       "  </thead>\n",
       "  <tbody>\n",
       "    <tr>\n",
       "      <th>0</th>\n",
       "      <td>Mark</td>\n",
       "      <td>PERSON</td>\n",
       "    </tr>\n",
       "    <tr>\n",
       "      <th>1</th>\n",
       "      <td>Facebook</td>\n",
       "      <td>ORG</td>\n",
       "    </tr>\n",
       "    <tr>\n",
       "      <th>2</th>\n",
       "      <td>Zuckerberg</td>\n",
       "      <td>GPE</td>\n",
       "    </tr>\n",
       "    <tr>\n",
       "      <th>3</th>\n",
       "      <td>Mark Hamill</td>\n",
       "      <td>PERSON</td>\n",
       "    </tr>\n",
       "    <tr>\n",
       "      <th>4</th>\n",
       "      <td>Luke Skywalker Star Wars</td>\n",
       "      <td>PERSON</td>\n",
       "    </tr>\n",
       "    <tr>\n",
       "      <th>5</th>\n",
       "      <td>Monday</td>\n",
       "      <td>DATE</td>\n",
       "    </tr>\n",
       "    <tr>\n",
       "      <th>6</th>\n",
       "      <td>Facebook</td>\n",
       "      <td>ORG</td>\n",
       "    </tr>\n",
       "    <tr>\n",
       "      <th>7</th>\n",
       "      <td>Facebook</td>\n",
       "      <td>PRODUCT</td>\n",
       "    </tr>\n",
       "    <tr>\n",
       "      <th>8</th>\n",
       "      <td>Mark Zuckerberg</td>\n",
       "      <td>PERSON</td>\n",
       "    </tr>\n",
       "    <tr>\n",
       "      <th>9</th>\n",
       "      <td>Facebook</td>\n",
       "      <td>ORG</td>\n",
       "    </tr>\n",
       "  </tbody>\n",
       "</table>\n",
       "</div>"
      ],
      "text/plain": [
       "                Entity Name Entity Type\n",
       "0                      Mark      PERSON\n",
       "1                  Facebook         ORG\n",
       "2                Zuckerberg         GPE\n",
       "3               Mark Hamill      PERSON\n",
       "4  Luke Skywalker Star Wars      PERSON\n",
       "5                    Monday        DATE\n",
       "6                  Facebook         ORG\n",
       "7                  Facebook     PRODUCT\n",
       "8           Mark Zuckerberg      PERSON\n",
       "9                  Facebook         ORG"
      ]
     },
     "execution_count": 31,
     "metadata": {},
     "output_type": "execute_result"
    }
   ],
   "source": [
    "# identify the most frequently named entities in the corpus\n",
    "named_entities = []\n",
    "for sentence in corpus:\n",
    "    temp_entity_name = ''\n",
    "    temp_named_entity = None\n",
    "    sentence = nlp(sentence)\n",
    "    for word in sentence:\n",
    "        term = word.text\n",
    "        tag = word.ent_type_\n",
    "        if tag:\n",
    "            temp_entity_name = ' '.join([temp_entity_name, term]).strip()\n",
    "            temp_named_entity = (temp_entity_name, tag)\n",
    "        else:\n",
    "            if temp_named_entity:\n",
    "                named_entities.append(temp_named_entity)\n",
    "                temp_entity_name = ''\n",
    "                temp_named_entity = None\n",
    "\n",
    "df_entity = pd.DataFrame(named_entities, columns=['Entity Name', 'Entity Type'])\n",
    "df_entity.head(10)"
   ]
  },
  {
   "cell_type": "code",
   "execution_count": 32,
   "metadata": {},
   "outputs": [
    {
     "data": {
      "text/html": [
       "<div>\n",
       "<style scoped>\n",
       "    .dataframe tbody tr th:only-of-type {\n",
       "        vertical-align: middle;\n",
       "    }\n",
       "\n",
       "    .dataframe tbody tr th {\n",
       "        vertical-align: top;\n",
       "    }\n",
       "\n",
       "    .dataframe thead th {\n",
       "        text-align: right;\n",
       "    }\n",
       "</style>\n",
       "<table border=\"1\" class=\"dataframe\">\n",
       "  <thead>\n",
       "    <tr style=\"text-align: right;\">\n",
       "      <th></th>\n",
       "      <th>0</th>\n",
       "      <th>1</th>\n",
       "      <th>2</th>\n",
       "      <th>3</th>\n",
       "      <th>4</th>\n",
       "      <th>5</th>\n",
       "      <th>6</th>\n",
       "      <th>7</th>\n",
       "      <th>8</th>\n",
       "      <th>9</th>\n",
       "      <th>10</th>\n",
       "      <th>11</th>\n",
       "      <th>12</th>\n",
       "      <th>13</th>\n",
       "      <th>14</th>\n",
       "    </tr>\n",
       "  </thead>\n",
       "  <tbody>\n",
       "    <tr>\n",
       "      <th>Entity Name</th>\n",
       "      <td>China</td>\n",
       "      <td>India</td>\n",
       "      <td>Australian</td>\n",
       "      <td>Google</td>\n",
       "      <td>Sunday</td>\n",
       "      <td>two</td>\n",
       "      <td>Iranian</td>\n",
       "      <td>Virat Kohli</td>\n",
       "      <td>Team India</td>\n",
       "      <td>England</td>\n",
       "      <td>Monday</td>\n",
       "      <td>Instagram</td>\n",
       "      <td>Jasprit Bumrah</td>\n",
       "      <td>US</td>\n",
       "      <td>Iran</td>\n",
       "    </tr>\n",
       "    <tr>\n",
       "      <th>Entity Type</th>\n",
       "      <td>GPE</td>\n",
       "      <td>GPE</td>\n",
       "      <td>NORP</td>\n",
       "      <td>ORG</td>\n",
       "      <td>DATE</td>\n",
       "      <td>CARDINAL</td>\n",
       "      <td>NORP</td>\n",
       "      <td>PERSON</td>\n",
       "      <td>ORG</td>\n",
       "      <td>GPE</td>\n",
       "      <td>DATE</td>\n",
       "      <td>ORG</td>\n",
       "      <td>PERSON</td>\n",
       "      <td>GPE</td>\n",
       "      <td>GPE</td>\n",
       "    </tr>\n",
       "    <tr>\n",
       "      <th>Frequency</th>\n",
       "      <td>12</td>\n",
       "      <td>10</td>\n",
       "      <td>10</td>\n",
       "      <td>8</td>\n",
       "      <td>8</td>\n",
       "      <td>7</td>\n",
       "      <td>6</td>\n",
       "      <td>6</td>\n",
       "      <td>6</td>\n",
       "      <td>5</td>\n",
       "      <td>5</td>\n",
       "      <td>5</td>\n",
       "      <td>5</td>\n",
       "      <td>5</td>\n",
       "      <td>5</td>\n",
       "    </tr>\n",
       "  </tbody>\n",
       "</table>\n",
       "</div>"
      ],
      "text/plain": [
       "                 0      1           2       3       4         5        6  \\\n",
       "Entity Name  China  India  Australian  Google  Sunday       two  Iranian   \n",
       "Entity Type    GPE    GPE        NORP     ORG    DATE  CARDINAL     NORP   \n",
       "Frequency       12     10          10       8       8         7        6   \n",
       "\n",
       "                       7           8        9      10         11  \\\n",
       "Entity Name  Virat Kohli  Team India  England  Monday  Instagram   \n",
       "Entity Type       PERSON         ORG      GPE    DATE        ORG   \n",
       "Frequency              6           6        5       5          5   \n",
       "\n",
       "                         12   13    14  \n",
       "Entity Name  Jasprit Bumrah   US  Iran  \n",
       "Entity Type          PERSON  GPE   GPE  \n",
       "Frequency                 5    5     5  "
      ]
     },
     "execution_count": 32,
     "metadata": {},
     "output_type": "execute_result"
    }
   ],
   "source": [
    "# get the top named entities\n",
    "top_entities = (df_entity.groupby(by=['Entity Name', 'Entity Type']) \\\n",
    "                    .size() \\\n",
    "                    .sort_values(ascending=False) \\\n",
    "                    .reset_index().rename(columns={0: 'Frequency'}))\n",
    "top_entities.T.iloc[:, :15]"
   ]
  },
  {
   "cell_type": "code",
   "execution_count": 33,
   "metadata": {
    "scrolled": true
   },
   "outputs": [
    {
     "data": {
      "text/html": [
       "<div>\n",
       "<style scoped>\n",
       "    .dataframe tbody tr th:only-of-type {\n",
       "        vertical-align: middle;\n",
       "    }\n",
       "\n",
       "    .dataframe tbody tr th {\n",
       "        vertical-align: top;\n",
       "    }\n",
       "\n",
       "    .dataframe thead th {\n",
       "        text-align: right;\n",
       "    }\n",
       "</style>\n",
       "<table border=\"1\" class=\"dataframe\">\n",
       "  <thead>\n",
       "    <tr style=\"text-align: right;\">\n",
       "      <th></th>\n",
       "      <th>0</th>\n",
       "      <th>1</th>\n",
       "      <th>2</th>\n",
       "      <th>3</th>\n",
       "      <th>4</th>\n",
       "      <th>5</th>\n",
       "      <th>6</th>\n",
       "      <th>7</th>\n",
       "      <th>8</th>\n",
       "      <th>9</th>\n",
       "      <th>10</th>\n",
       "      <th>11</th>\n",
       "      <th>12</th>\n",
       "      <th>13</th>\n",
       "      <th>14</th>\n",
       "    </tr>\n",
       "  </thead>\n",
       "  <tbody>\n",
       "    <tr>\n",
       "      <th>Entity Type</th>\n",
       "      <td>ORG</td>\n",
       "      <td>PERSON</td>\n",
       "      <td>GPE</td>\n",
       "      <td>DATE</td>\n",
       "      <td>CARDINAL</td>\n",
       "      <td>NORP</td>\n",
       "      <td>QUANTITY</td>\n",
       "      <td>PRODUCT</td>\n",
       "      <td>ORDINAL</td>\n",
       "      <td>EVENT</td>\n",
       "      <td>LOC</td>\n",
       "      <td>FAC</td>\n",
       "      <td>WORK_OF_ART</td>\n",
       "      <td>TIME</td>\n",
       "      <td>PERCENT</td>\n",
       "    </tr>\n",
       "    <tr>\n",
       "      <th>Frequency</th>\n",
       "      <td>146</td>\n",
       "      <td>140</td>\n",
       "      <td>97</td>\n",
       "      <td>74</td>\n",
       "      <td>62</td>\n",
       "      <td>52</td>\n",
       "      <td>8</td>\n",
       "      <td>7</td>\n",
       "      <td>6</td>\n",
       "      <td>6</td>\n",
       "      <td>5</td>\n",
       "      <td>5</td>\n",
       "      <td>5</td>\n",
       "      <td>4</td>\n",
       "      <td>1</td>\n",
       "    </tr>\n",
       "  </tbody>\n",
       "</table>\n",
       "</div>"
      ],
      "text/plain": [
       "               0       1    2     3         4     5         6        7  \\\n",
       "Entity Type  ORG  PERSON  GPE  DATE  CARDINAL  NORP  QUANTITY  PRODUCT   \n",
       "Frequency    146     140   97    74        62    52         8        7   \n",
       "\n",
       "                   8      9   10   11           12    13       14  \n",
       "Entity Type  ORDINAL  EVENT  LOC  FAC  WORK_OF_ART  TIME  PERCENT  \n",
       "Frequency          6      6    5    5            5     4        1  "
      ]
     },
     "execution_count": 33,
     "metadata": {},
     "output_type": "execute_result"
    }
   ],
   "source": [
    "# get the top named entities\n",
    "top_entities = (df_entity.groupby(by=['Entity Type']) \\\n",
    "                   .size() \\\n",
    "                   .sort_values(ascending=False) \\\n",
    "                   .reset_index().rename(columns={0: 'Frequency'}))\n",
    "top_entities.T.iloc[:, :15]"
   ]
  },
  {
   "cell_type": "code",
   "execution_count": 34,
   "metadata": {},
   "outputs": [
    {
     "data": {
      "text/html": [
       "<div>\n",
       "<style scoped>\n",
       "    .dataframe tbody tr th:only-of-type {\n",
       "        vertical-align: middle;\n",
       "    }\n",
       "\n",
       "    .dataframe tbody tr th {\n",
       "        vertical-align: top;\n",
       "    }\n",
       "\n",
       "    .dataframe thead th {\n",
       "        text-align: right;\n",
       "    }\n",
       "</style>\n",
       "<table border=\"1\" class=\"dataframe\">\n",
       "  <thead>\n",
       "    <tr style=\"text-align: right;\">\n",
       "      <th></th>\n",
       "      <th>Entity Name</th>\n",
       "      <th>Entity Type</th>\n",
       "    </tr>\n",
       "  </thead>\n",
       "  <tbody>\n",
       "    <tr>\n",
       "      <th>0</th>\n",
       "      <td>Mark</td>\n",
       "      <td>PERSON</td>\n",
       "    </tr>\n",
       "    <tr>\n",
       "      <th>1</th>\n",
       "      <td>Facebook</td>\n",
       "      <td>ORGANIZATION</td>\n",
       "    </tr>\n",
       "    <tr>\n",
       "      <th>2</th>\n",
       "      <td>Mark Hamill</td>\n",
       "      <td>PERSON</td>\n",
       "    </tr>\n",
       "    <tr>\n",
       "      <th>3</th>\n",
       "      <td>Luke Skywalker</td>\n",
       "      <td>PERSON</td>\n",
       "    </tr>\n",
       "    <tr>\n",
       "      <th>4</th>\n",
       "      <td>Facebook</td>\n",
       "      <td>ORGANIZATION</td>\n",
       "    </tr>\n",
       "  </tbody>\n",
       "</table>\n",
       "</div>"
      ],
      "text/plain": [
       "      Entity Name   Entity Type\n",
       "0            Mark        PERSON\n",
       "1        Facebook  ORGANIZATION\n",
       "2     Mark Hamill        PERSON\n",
       "3  Luke Skywalker        PERSON\n",
       "4        Facebook  ORGANIZATION"
      ]
     },
     "execution_count": 34,
     "metadata": {},
     "output_type": "execute_result"
    }
   ],
   "source": [
    "from nltk.tag import StanfordNERTagger\n",
    "\n",
    "java_path = r'C:\\Program Files\\Java\\jdk1.8.0_221\\bin\\java.exe'\n",
    "os.environ['JAVAHOME'] = java_path\n",
    "\n",
    "sn = StanfordNERTagger('C:/Users/aksin/Projects/sentimentanalysis/stanford-ner-2018-10-16/classifiers/english.all.3class.distsim.crf.ser.gz', \n",
    "                     path_to_jar='C:/Users/aksin/Projects/sentimentanalysis/stanford-ner-2018-10-16/stanford-ner.jar')\n",
    "\n",
    "# tag named entities\n",
    "ner_tagged_sentences = [sn.tag(sent.split()) for sent in corpus]\n",
    "\n",
    "# extract all named entities\n",
    "named_entities = []\n",
    "for sentence in ner_tagged_sentences:\n",
    "    temp_entity_name = ''\n",
    "    temp_named_entity = None\n",
    "    for term, tag in sentence:\n",
    "        if tag != 'O':\n",
    "            temp_entity_name = ' '.join([temp_entity_name, term]).strip()\n",
    "            temp_named_entity = (temp_entity_name, tag)\n",
    "        else:\n",
    "            if temp_named_entity:\n",
    "                named_entities.append(temp_named_entity)\n",
    "                temp_entity_name = ''\n",
    "                temp_named_entity = None\n",
    "\n",
    "df_entity = pd.DataFrame(named_entities, columns=['Entity Name', 'Entity Type'])\n",
    "df_entity.head()"
   ]
  },
  {
   "cell_type": "code",
   "execution_count": 35,
   "metadata": {},
   "outputs": [
    {
     "data": {
      "text/html": [
       "<div>\n",
       "<style scoped>\n",
       "    .dataframe tbody tr th:only-of-type {\n",
       "        vertical-align: middle;\n",
       "    }\n",
       "\n",
       "    .dataframe tbody tr th {\n",
       "        vertical-align: top;\n",
       "    }\n",
       "\n",
       "    .dataframe thead th {\n",
       "        text-align: right;\n",
       "    }\n",
       "</style>\n",
       "<table border=\"1\" class=\"dataframe\">\n",
       "  <thead>\n",
       "    <tr style=\"text-align: right;\">\n",
       "      <th></th>\n",
       "      <th>Entity Name</th>\n",
       "      <th>Entity Type</th>\n",
       "      <th>Frequency</th>\n",
       "    </tr>\n",
       "  </thead>\n",
       "  <tbody>\n",
       "    <tr>\n",
       "      <th>0</th>\n",
       "      <td>Google</td>\n",
       "      <td>ORGANIZATION</td>\n",
       "      <td>16</td>\n",
       "    </tr>\n",
       "    <tr>\n",
       "      <th>1</th>\n",
       "      <td>India</td>\n",
       "      <td>LOCATION</td>\n",
       "      <td>13</td>\n",
       "    </tr>\n",
       "    <tr>\n",
       "      <th>2</th>\n",
       "      <td>China</td>\n",
       "      <td>LOCATION</td>\n",
       "      <td>9</td>\n",
       "    </tr>\n",
       "    <tr>\n",
       "      <th>3</th>\n",
       "      <td>Facebook</td>\n",
       "      <td>ORGANIZATION</td>\n",
       "      <td>8</td>\n",
       "    </tr>\n",
       "    <tr>\n",
       "      <th>4</th>\n",
       "      <td>BCCI</td>\n",
       "      <td>ORGANIZATION</td>\n",
       "      <td>8</td>\n",
       "    </tr>\n",
       "    <tr>\n",
       "      <th>5</th>\n",
       "      <td>Australia</td>\n",
       "      <td>LOCATION</td>\n",
       "      <td>6</td>\n",
       "    </tr>\n",
       "    <tr>\n",
       "      <th>6</th>\n",
       "      <td>Iran</td>\n",
       "      <td>LOCATION</td>\n",
       "      <td>5</td>\n",
       "    </tr>\n",
       "    <tr>\n",
       "      <th>7</th>\n",
       "      <td>US</td>\n",
       "      <td>LOCATION</td>\n",
       "      <td>5</td>\n",
       "    </tr>\n",
       "    <tr>\n",
       "      <th>8</th>\n",
       "      <td>Instagram</td>\n",
       "      <td>ORGANIZATION</td>\n",
       "      <td>5</td>\n",
       "    </tr>\n",
       "    <tr>\n",
       "      <th>9</th>\n",
       "      <td>Harry</td>\n",
       "      <td>PERSON</td>\n",
       "      <td>4</td>\n",
       "    </tr>\n",
       "    <tr>\n",
       "      <th>10</th>\n",
       "      <td>Team India</td>\n",
       "      <td>ORGANIZATION</td>\n",
       "      <td>4</td>\n",
       "    </tr>\n",
       "    <tr>\n",
       "      <th>11</th>\n",
       "      <td>England</td>\n",
       "      <td>LOCATION</td>\n",
       "      <td>4</td>\n",
       "    </tr>\n",
       "    <tr>\n",
       "      <th>12</th>\n",
       "      <td>Barcelona</td>\n",
       "      <td>ORGANIZATION</td>\n",
       "      <td>4</td>\n",
       "    </tr>\n",
       "    <tr>\n",
       "      <th>13</th>\n",
       "      <td>Virat Kohli</td>\n",
       "      <td>PERSON</td>\n",
       "      <td>4</td>\n",
       "    </tr>\n",
       "    <tr>\n",
       "      <th>14</th>\n",
       "      <td>Tesla</td>\n",
       "      <td>PERSON</td>\n",
       "      <td>4</td>\n",
       "    </tr>\n",
       "  </tbody>\n",
       "</table>\n",
       "</div>"
      ],
      "text/plain": [
       "    Entity Name   Entity Type  Frequency\n",
       "0        Google  ORGANIZATION         16\n",
       "1         India      LOCATION         13\n",
       "2         China      LOCATION          9\n",
       "3      Facebook  ORGANIZATION          8\n",
       "4          BCCI  ORGANIZATION          8\n",
       "5     Australia      LOCATION          6\n",
       "6          Iran      LOCATION          5\n",
       "7            US      LOCATION          5\n",
       "8     Instagram  ORGANIZATION          5\n",
       "9         Harry        PERSON          4\n",
       "10   Team India  ORGANIZATION          4\n",
       "11      England      LOCATION          4\n",
       "12    Barcelona  ORGANIZATION          4\n",
       "13  Virat Kohli        PERSON          4\n",
       "14        Tesla        PERSON          4"
      ]
     },
     "execution_count": 35,
     "metadata": {},
     "output_type": "execute_result"
    }
   ],
   "source": [
    "# view top entities and types\n",
    "top_entities = (df_entity.groupby(by=['Entity Name', 'Entity Type']) \\\n",
    "                    .size() \\\n",
    "                    .sort_values(ascending=False) \\\n",
    "                    .reset_index().rename(columns={0: 'Frequency'}))\n",
    "\n",
    "top_entities.head(15)\n"
   ]
  },
  {
   "cell_type": "code",
   "execution_count": 36,
   "metadata": {
    "scrolled": true
   },
   "outputs": [
    {
     "data": {
      "text/html": [
       "<div>\n",
       "<style scoped>\n",
       "    .dataframe tbody tr th:only-of-type {\n",
       "        vertical-align: middle;\n",
       "    }\n",
       "\n",
       "    .dataframe tbody tr th {\n",
       "        vertical-align: top;\n",
       "    }\n",
       "\n",
       "    .dataframe thead th {\n",
       "        text-align: right;\n",
       "    }\n",
       "</style>\n",
       "<table border=\"1\" class=\"dataframe\">\n",
       "  <thead>\n",
       "    <tr style=\"text-align: right;\">\n",
       "      <th></th>\n",
       "      <th>Entity Type</th>\n",
       "      <th>Frequency</th>\n",
       "    </tr>\n",
       "  </thead>\n",
       "  <tbody>\n",
       "    <tr>\n",
       "      <th>0</th>\n",
       "      <td>PERSON</td>\n",
       "      <td>144</td>\n",
       "    </tr>\n",
       "    <tr>\n",
       "      <th>1</th>\n",
       "      <td>ORGANIZATION</td>\n",
       "      <td>106</td>\n",
       "    </tr>\n",
       "    <tr>\n",
       "      <th>2</th>\n",
       "      <td>LOCATION</td>\n",
       "      <td>96</td>\n",
       "    </tr>\n",
       "  </tbody>\n",
       "</table>\n",
       "</div>"
      ],
      "text/plain": [
       "    Entity Type  Frequency\n",
       "0        PERSON        144\n",
       "1  ORGANIZATION        106\n",
       "2      LOCATION         96"
      ]
     },
     "execution_count": 36,
     "metadata": {},
     "output_type": "execute_result"
    }
   ],
   "source": [
    "\n",
    "top_entities = (df_entity.groupby(by=['Entity Type']) \\\n",
    "                   .size() \\\n",
    "                   .sort_values(ascending=False) \\\n",
    "                   .reset_index().rename(columns={0: 'Frequency'}))\n",
    "top_entities.head()\n"
   ]
  },
  {
   "cell_type": "markdown",
   "metadata": {},
   "source": [
    "*SENTIMENT ANALYSIS*"
   ]
  },
  {
   "cell_type": "markdown",
   "metadata": {},
   "source": [
    ">**Sentiment Analysis with AFINN**"
   ]
  },
  {
   "cell_type": "code",
   "execution_count": 44,
   "metadata": {},
   "outputs": [
    {
     "data": {
      "text/html": [
       "<div>\n",
       "<style scoped>\n",
       "    .dataframe tbody tr th:only-of-type {\n",
       "        vertical-align: middle;\n",
       "    }\n",
       "\n",
       "    .dataframe tbody tr th {\n",
       "        vertical-align: top;\n",
       "    }\n",
       "\n",
       "    .dataframe thead tr th {\n",
       "        text-align: left;\n",
       "    }\n",
       "\n",
       "    .dataframe thead tr:last-of-type th {\n",
       "        text-align: right;\n",
       "    }\n",
       "</style>\n",
       "<table border=\"1\" class=\"dataframe\">\n",
       "  <thead>\n",
       "    <tr>\n",
       "      <th></th>\n",
       "      <th colspan=\"8\" halign=\"left\">sentiment_score</th>\n",
       "    </tr>\n",
       "    <tr>\n",
       "      <th></th>\n",
       "      <th>count</th>\n",
       "      <th>mean</th>\n",
       "      <th>std</th>\n",
       "      <th>min</th>\n",
       "      <th>25%</th>\n",
       "      <th>50%</th>\n",
       "      <th>75%</th>\n",
       "      <th>max</th>\n",
       "    </tr>\n",
       "    <tr>\n",
       "      <th>news_category</th>\n",
       "      <th></th>\n",
       "      <th></th>\n",
       "      <th></th>\n",
       "      <th></th>\n",
       "      <th></th>\n",
       "      <th></th>\n",
       "      <th></th>\n",
       "      <th></th>\n",
       "    </tr>\n",
       "  </thead>\n",
       "  <tbody>\n",
       "    <tr>\n",
       "      <th>sports</th>\n",
       "      <td>24.0</td>\n",
       "      <td>5.00</td>\n",
       "      <td>6.909351</td>\n",
       "      <td>-4.0</td>\n",
       "      <td>0.0</td>\n",
       "      <td>3.0</td>\n",
       "      <td>10.25</td>\n",
       "      <td>24.0</td>\n",
       "    </tr>\n",
       "    <tr>\n",
       "      <th>technology</th>\n",
       "      <td>25.0</td>\n",
       "      <td>-1.04</td>\n",
       "      <td>4.382541</td>\n",
       "      <td>-10.0</td>\n",
       "      <td>-3.0</td>\n",
       "      <td>0.0</td>\n",
       "      <td>2.00</td>\n",
       "      <td>5.0</td>\n",
       "    </tr>\n",
       "    <tr>\n",
       "      <th>world</th>\n",
       "      <td>25.0</td>\n",
       "      <td>-3.68</td>\n",
       "      <td>6.799020</td>\n",
       "      <td>-21.0</td>\n",
       "      <td>-6.0</td>\n",
       "      <td>-4.0</td>\n",
       "      <td>0.00</td>\n",
       "      <td>8.0</td>\n",
       "    </tr>\n",
       "  </tbody>\n",
       "</table>\n",
       "</div>"
      ],
      "text/plain": [
       "              sentiment_score                                             \n",
       "                        count  mean       std   min  25%  50%    75%   max\n",
       "news_category                                                             \n",
       "sports                   24.0  5.00  6.909351  -4.0  0.0  3.0  10.25  24.0\n",
       "technology               25.0 -1.04  4.382541 -10.0 -3.0  0.0   2.00   5.0\n",
       "world                    25.0 -3.68  6.799020 -21.0 -6.0 -4.0   0.00   8.0"
      ]
     },
     "execution_count": 44,
     "metadata": {},
     "output_type": "execute_result"
    }
   ],
   "source": [
    "from afinn import Afinn\n",
    "af = Afinn()\n",
    "\n",
    "# compute sentiment scores (polarity) and labels\n",
    "sentiment_scores = [af.score(article) for article in corpus]\n",
    "sentiment_category = ['positive' if score > 0 \n",
    "                          else 'negative' if score < 0 \n",
    "                          else 'neutral' \n",
    "                          for score in sentiment_scores]\n",
    "\n",
    "# sentiment statistics per news category\n",
    "df = pd.DataFrame([list(news_df['news_category']), sentiment_scores, sentiment_category]).T\n",
    "df.columns = ['news_category', 'sentiment_score', 'sentiment_category']\n",
    "df['sentiment_score'] = df.sentiment_score.astype('float')\n",
    "df.groupby(by=['news_category']).describe()"
   ]
  },
  {
   "cell_type": "code",
   "execution_count": 52,
   "metadata": {},
   "outputs": [
    {
     "data": {
      "image/png": "[encoded data removed]",
      "text/plain": [
       "<Figure size 1152x288 with 2 Axes>"
      ]
     },
     "metadata": {
      "needs_background": "light"
     },
     "output_type": "display_data"
    }
   ],
   "source": [
    "f, (ax1, ax2) = plt.subplots(1, 2, figsize=(16, 4))\n",
    "sp = sns.stripplot(x='news_category', y='sentiment_score', \n",
    "                   hue='news_category', data=df, ax=ax1)\n",
    "bp = sns.boxplot(x='news_category', y='sentiment_score', \n",
    "                 hue='news_category', data=df, palette='Set2', ax=ax2)\n",
    "t = f.suptitle('News Sentiment Visualizations', fontsize=20)"
   ]
  },
  {
   "cell_type": "code",
   "execution_count": 58,
   "metadata": {},
   "outputs": [
    {
     "data": {
      "image/png": "[encoded data removed]",
      "text/plain": [
       "<Figure size 467.5x360 with 1 Axes>"
      ]
     },
     "metadata": {
      "needs_background": "light"
     },
     "output_type": "display_data"
    }
   ],
   "source": [
    "# frequency of sentiment labels\n",
    "fc = sns.catplot(x=\"news_category\", hue=\"sentiment_category\", \n",
    "                 data=df, kind=\"count\",\n",
    "                 palette={'negative': 'red',\n",
    "                          'positive': 'green',\n",
    "                          'neutral': 'blue'})"
   ]
  },
  {
   "cell_type": "code",
   "execution_count": 84,
   "metadata": {},
   "outputs": [
    {
     "name": "stdout",
     "output_type": "stream",
     "text": [
      "Highest positive tech sentiment score:  5.0\n",
      "Lowest negative tech sentiment score:  -10.0\n"
     ]
    }
   ],
   "source": [
    "print('Highest positive tech sentiment score: ', max(df[df.news_category=='technology'].sentiment_score))\n",
    "print('Lowest negative tech sentiment score: ', min(df[df.news_category=='technology'].sentiment_score))"
   ]
  },
  {
   "cell_type": "code",
   "execution_count": 94,
   "metadata": {},
   "outputs": [
    {
     "name": "stdout",
     "output_type": "stream",
     "text": [
      "Highest positive tech news article: \n",
      " Instagram has rolled out new editing features for Boomerangs, including SlowMo effect, similar to TikTok. Users can also add \"Echo\" blurring and \"Duo\" rapid rewind special effects to their Boomerangs and trim their lengths as well. While Echo helps create a 'double vision' effect, Duo affects the speed of the Boomerang and adds a 'texturised effect' at the end. \n",
      "\n",
      "\n",
      "Lowest negative tech news article: \n",
      " Google revealed it detected and removed 1,700 malicious apps from the Play Store, which were affected by the 'Joker' malware, ever since it started tracking such apps in 2017. Such apps initially targeted users through SMS fraud but later resorted to billing fraud after new policies rolled out. Google had removed 24 apps infiltrated with 'Joker' malware in September 2019.\n"
     ]
    }
   ],
   "source": [
    "pos_idx = df[(df.news_category=='technology') & (df.sentiment_score == 5)].index[0]\n",
    "neg_idx = df[(df.news_category=='technology') & (df.sentiment_score == -10)].index[0]\n",
    "\n",
    "print('Highest positive tech news article: \\n', news_df.iloc[pos_idx][['news_article']][0], '\\n\\n')\n",
    "print('Lowest negative tech news article: \\n', news_df.iloc[neg_idx][['news_article']][0])"
   ]
  },
  {
   "cell_type": "code",
   "execution_count": 95,
   "metadata": {},
   "outputs": [
    {
     "name": "stdout",
     "output_type": "stream",
     "text": [
      "Highest positive sports sentiment score:  24.0\n",
      "Lowest negative sports sentiment score:  -4.0\n"
     ]
    }
   ],
   "source": [
    "print('Highest positive sports sentiment score: ', max(df[df.news_category=='sports'].sentiment_score))\n",
    "print('Lowest negative sports sentiment score: ', min(df[df.news_category=='sports'].sentiment_score))"
   ]
  },
  {
   "cell_type": "code",
   "execution_count": 96,
   "metadata": {},
   "outputs": [
    {
     "name": "stdout",
     "output_type": "stream",
     "text": [
      "Highest positive sports news article: \n",
      " Pacer Jasprit Bumrah and spinner Poonam Yadav won the best male international cricketer and best female international cricketer awards respectively. Krishnamachari Srikkanth won the lifetime achievement award among male cricketers while lifetime achievement award for women went to Anjum Chopra. Mayank Agarwal and Shafali Verma won the best international debutant awards in respective categories. \n",
      "\n",
      "\n",
      "Lowest negative sports news article: \n",
      " Ahead of the first ODI against Australia, Team India captain Virat Kohli said he is willing to change his batting position to fit in Rohit Sharma, Shikhar Dhawan and KL Rahul in playing XI. \"I'd be very happy to do so. Look I am not possessive about where I play. I am not insecure about where I bat,\" he added.\n"
     ]
    }
   ],
   "source": [
    "pos_idx = df[(df.news_category=='sports') & (df.sentiment_score == 24)].index[0]\n",
    "neg_idx = df[(df.news_category=='sports') & (df.sentiment_score == -4)].index[0]\n",
    "\n",
    "print('Highest positive sports news article: \\n', news_df.iloc[pos_idx][['news_article']][0], '\\n\\n')\n",
    "print('Lowest negative sports news article: \\n', news_df.iloc[neg_idx][['news_article']][0])"
   ]
  },
  {
   "cell_type": "code",
   "execution_count": 97,
   "metadata": {},
   "outputs": [
    {
     "name": "stdout",
     "output_type": "stream",
     "text": [
      "Highest positive world news sentiment score:  8.0\n",
      "Lowest negative world news sentiment score:  -21.0\n"
     ]
    }
   ],
   "source": [
    "print('Highest positive world news sentiment score: ', max(df[df.news_category=='world'].sentiment_score))\n",
    "print('Lowest negative world news sentiment score: ', min(df[df.news_category=='world'].sentiment_score))"
   ]
  },
  {
   "cell_type": "code",
   "execution_count": 99,
   "metadata": {},
   "outputs": [
    {
     "name": "stdout",
     "output_type": "stream",
     "text": [
      "Highest positive world news article: \n",
      " A driverless bullet train capable of reaching a top speed of up to 350 km/h has been launched in China. The train, which connects the Chinese cities of Beijing and Zhangjiakou, is capable of completing the 108-mile (nearly 174 km) journey in 47 minutes from the earlier three hours. The train also features 5G connectivity and smart lighting. \n",
      "\n",
      "\n",
      "Lowest negative world news article: \n",
      " The Lahore High Court on Monday annulled former President Pervez Musharraf's death sentence, ruling that the special court which had found him guilty of treason last year was unconstitutional. The special court of Islamabad on December 17 had handed down the death penalty to 76-year-old Musharraf after six years of hearing the high-profile treason case against him.\n"
     ]
    }
   ],
   "source": [
    "pos_idx = df[(df.news_category=='world') & (df.sentiment_score == 8)].index[0]\n",
    "neg_idx = df[(df.news_category=='world') & (df.sentiment_score == -21)].index[0]\n",
    "\n",
    "print('Highest positive world news article: \\n', news_df.iloc[pos_idx][['news_article']][0], '\\n\\n')\n",
    "print('Lowest negative world news article: \\n', news_df.iloc[neg_idx][['news_article']][0])"
   ]
  },
  {
   "cell_type": "markdown",
   "metadata": {},
   "source": [
    ">**Sentiment Analysis with TextBlob**"
   ]
  },
  {
   "cell_type": "code",
   "execution_count": 112,
   "metadata": {},
   "outputs": [
    {
     "data": {
      "text/html": [
       "<div>\n",
       "<style scoped>\n",
       "    .dataframe tbody tr th:only-of-type {\n",
       "        vertical-align: middle;\n",
       "    }\n",
       "\n",
       "    .dataframe tbody tr th {\n",
       "        vertical-align: top;\n",
       "    }\n",
       "\n",
       "    .dataframe thead tr th {\n",
       "        text-align: left;\n",
       "    }\n",
       "\n",
       "    .dataframe thead tr:last-of-type th {\n",
       "        text-align: right;\n",
       "    }\n",
       "</style>\n",
       "<table border=\"1\" class=\"dataframe\">\n",
       "  <thead>\n",
       "    <tr>\n",
       "      <th></th>\n",
       "      <th colspan=\"8\" halign=\"left\">sentiment_score</th>\n",
       "    </tr>\n",
       "    <tr>\n",
       "      <th></th>\n",
       "      <th>count</th>\n",
       "      <th>mean</th>\n",
       "      <th>std</th>\n",
       "      <th>min</th>\n",
       "      <th>25%</th>\n",
       "      <th>50%</th>\n",
       "      <th>75%</th>\n",
       "      <th>max</th>\n",
       "    </tr>\n",
       "    <tr>\n",
       "      <th>news_category</th>\n",
       "      <th></th>\n",
       "      <th></th>\n",
       "      <th></th>\n",
       "      <th></th>\n",
       "      <th></th>\n",
       "      <th></th>\n",
       "      <th></th>\n",
       "      <th></th>\n",
       "    </tr>\n",
       "  </thead>\n",
       "  <tbody>\n",
       "    <tr>\n",
       "      <th>sports</th>\n",
       "      <td>24.0</td>\n",
       "      <td>0.160542</td>\n",
       "      <td>0.137433</td>\n",
       "      <td>-0.072</td>\n",
       "      <td>0.05875</td>\n",
       "      <td>0.129</td>\n",
       "      <td>0.2935</td>\n",
       "      <td>0.400</td>\n",
       "    </tr>\n",
       "    <tr>\n",
       "      <th>technology</th>\n",
       "      <td>25.0</td>\n",
       "      <td>0.001720</td>\n",
       "      <td>0.145647</td>\n",
       "      <td>-0.250</td>\n",
       "      <td>-0.13800</td>\n",
       "      <td>0.045</td>\n",
       "      <td>0.1090</td>\n",
       "      <td>0.300</td>\n",
       "    </tr>\n",
       "    <tr>\n",
       "      <th>world</th>\n",
       "      <td>25.0</td>\n",
       "      <td>0.016040</td>\n",
       "      <td>0.141271</td>\n",
       "      <td>-0.383</td>\n",
       "      <td>-0.01100</td>\n",
       "      <td>0.009</td>\n",
       "      <td>0.0790</td>\n",
       "      <td>0.245</td>\n",
       "    </tr>\n",
       "  </tbody>\n",
       "</table>\n",
       "</div>"
      ],
      "text/plain": [
       "              sentiment_score                                             \\\n",
       "                        count      mean       std    min      25%    50%   \n",
       "news_category                                                              \n",
       "sports                   24.0  0.160542  0.137433 -0.072  0.05875  0.129   \n",
       "technology               25.0  0.001720  0.145647 -0.250 -0.13800  0.045   \n",
       "world                    25.0  0.016040  0.141271 -0.383 -0.01100  0.009   \n",
       "\n",
       "                              \n",
       "                  75%    max  \n",
       "news_category                 \n",
       "sports         0.2935  0.400  \n",
       "technology     0.1090  0.300  \n",
       "world          0.0790  0.245  "
      ]
     },
     "execution_count": 112,
     "metadata": {},
     "output_type": "execute_result"
    }
   ],
   "source": [
    "from textblob import TextBlob\n",
    "\n",
    "# computer sentiment scores (polarty) and labels\n",
    "sentiment_scores_tb = [round(TextBlob(article).sentiment.polarity, 3) for article in news_df['clean_text']]\n",
    "sentiment_category_tb = ['positive' if score > 0 \n",
    "                          else 'negative' if score < 0 \n",
    "                          else 'neutral' \n",
    "                          for score in sentiment_scores_tb]\n",
    "\n",
    "# sentiment statistics per news category\n",
    "df = pd.DataFrame([list(news_df['news_category']), sentiment_scores_tb, sentiment_category_tb]).T\n",
    "df.columns = ['news_category', 'sentiment_score', 'sentiment_category']\n",
    "df['sentiment_score'] = df.sentiment_score.astype('float')\n",
    "df.groupby(by=['news_category']).describe()"
   ]
  },
  {
   "cell_type": "code",
   "execution_count": 120,
   "metadata": {},
   "outputs": [
    {
     "data": {
      "image/png": "[encoded data removed]",
      "text/plain": [
       "<Figure size 467.5x360 with 1 Axes>"
      ]
     },
     "metadata": {
      "needs_background": "light"
     },
     "output_type": "display_data"
    }
   ],
   "source": [
    "fc = sns.factorplot(x=\"news_category\", hue=\"sentiment_category\", \n",
    "                    data=df, kind=\"count\", \n",
    "                    palette={'negative': 'red',\n",
    "                             'positive': 'green',\n",
    "                             'neutral': 'blue'})"
   ]
  },
  {
   "cell_type": "code",
   "execution_count": 121,
   "metadata": {},
   "outputs": [
    {
     "name": "stdout",
     "output_type": "stream",
     "text": [
      "Highest positive tech sentiment score:  0.3\n",
      "Lowest negative tech sentiment score:  -0.25\n"
     ]
    }
   ],
   "source": [
    "print('Highest positive tech sentiment score: ', max(df[df.news_category=='technology'].sentiment_score))\n",
    "print('Lowest negative tech sentiment score: ', min(df[df.news_category=='technology'].sentiment_score))"
   ]
  },
  {
   "cell_type": "code",
   "execution_count": 122,
   "metadata": {},
   "outputs": [
    {
     "name": "stdout",
     "output_type": "stream",
     "text": [
      "Highest positive technology news article: \n",
      " Electric automaker Tesla will participate in the 'Pwn2Own' hacking competition, challenging hackers to find and exploit bugs in the systems on its Model 3 vehicle. Nearly ₹7 crore and Model 3 cars will be set aside as rewards for the winners. Last year at Pwn2Own, a duo won ₹2.6 crore and Model 3 for hacking into the car's infotainment system. \n",
      "\n",
      "\n",
      "Lowest negative technology news article: \n",
      " Electric carmaker Tesla's CEO Elon Musk has said that the company's cars will soon talk to people if the owners want. He also shared a video on Twitter where a Tesla car can be seen talking to pedestrians. The video showed Tesla's Model 3 car driving past people, saying, \"Well, don't just stand there. Hop in!\"\n"
     ]
    }
   ],
   "source": [
    "pos_idx = df[(df.news_category=='technology') & (df.sentiment_score == 0.3)].index[0]\n",
    "neg_idx = df[(df.news_category=='technology') & (df.sentiment_score == -0.25)].index[0]\n",
    "\n",
    "print('Highest positive technology news article: \\n', news_df.iloc[pos_idx][['news_article']][0], '\\n\\n')\n",
    "print('Lowest negative technology news article: \\n', news_df.iloc[neg_idx][['news_article']][0])"
   ]
  },
  {
   "cell_type": "code",
   "execution_count": 124,
   "metadata": {},
   "outputs": [
    {
     "name": "stdout",
     "output_type": "stream",
     "text": [
      "Highest positive sports sentiment score:  0.4\n",
      "Lowest negative sports sentiment score:  -0.072\n"
     ]
    }
   ],
   "source": [
    "print('Highest positive sports sentiment score: ', max(df[df.news_category=='sports'].sentiment_score))\n",
    "print('Lowest negative sports sentiment score: ', min(df[df.news_category=='sports'].sentiment_score))"
   ]
  },
  {
   "cell_type": "code",
   "execution_count": 126,
   "metadata": {},
   "outputs": [
    {
     "name": "stdout",
     "output_type": "stream",
     "text": [
      "Highest positive sports news article: \n",
      " Team India pacer Jasprit Bumrah took to Instagram to share a picture of himself with trophies he won at the BCCI annual awards on Sunday. \"Grateful and honoured to be taking these two awards home tonight,\" Bumrah captioned the picture. Commenting on the picture, former India all-rounder Yuvraj Singh wrote, \"Jassi has de thoda no ones taking your trophies away!\" \n",
      "\n",
      "\n",
      "Lowest negative sports news article: \n",
      " After all-rounder Hardik Pandya was withdrawn from India A squad, a BCCI official said, \"Yo-Yo Test and all he can clear in his sleep. He doesn't wish to take any half measures.\" This comes after reports said Hardik failed mandatory fitness tests ahead of India A's tour to New Zealand. Hardik had undergone back surgery in October last year.\n"
     ]
    }
   ],
   "source": [
    "pos_idx = df[(df.news_category=='sports') & (df.sentiment_score == 0.4)].index[0]\n",
    "neg_idx = df[(df.news_category=='sports') & (df.sentiment_score == -0.072)].index[0]\n",
    "\n",
    "print('Highest positive sports news article: \\n', news_df.iloc[pos_idx][['news_article']][0], '\\n\\n')\n",
    "print('Lowest negative sports news article: \\n', news_df.iloc[neg_idx][['news_article']][0])"
   ]
  },
  {
   "cell_type": "code",
   "execution_count": 127,
   "metadata": {},
   "outputs": [
    {
     "name": "stdout",
     "output_type": "stream",
     "text": [
      "Highest positive world sentiment score:  0.245\n",
      "Lowest negative world sentiment score:  -0.383\n"
     ]
    }
   ],
   "source": [
    "print('Highest positive world sentiment score: ', max(df[df.news_category=='world'].sentiment_score))\n",
    "print('Lowest negative world sentiment score: ', min(df[df.news_category=='world'].sentiment_score))"
   ]
  },
  {
   "cell_type": "code",
   "execution_count": 128,
   "metadata": {},
   "outputs": [
    {
     "name": "stdout",
     "output_type": "stream",
     "text": [
      "Highest positive world news article: \n",
      " Queen Elizabeth II has accepted Prince Harry and his wife Meghan Markle's decision to step down as senior royals. \"My family and I are entirely supportive of Harry and Meghan's desire to create a new life as...young family,\" she said. She added there would be a \"transition period\" during which the couple would spend time in Britain and Canada. \n",
      "\n",
      "\n",
      "Lowest negative world news article: \n",
      " At least four Iraqi soldiers have been injured in mortar shelling targeting Al-Balad airbase housing American troops. At least eight ‘Katyusha’ rockets hit the base located around 80 km north of Baghdad, Iraqi Prime Minister's office has confirmed. There have been no reports of any casualties among the US military personnel.\n"
     ]
    }
   ],
   "source": [
    "pos_idx = df[(df.news_category=='world') & (df.sentiment_score == 0.245)].index[0]\n",
    "neg_idx = df[(df.news_category=='world') & (df.sentiment_score == -0.383)].index[0]\n",
    "\n",
    "print('Highest positive world news article: \\n', news_df.iloc[pos_idx][['news_article']][0], '\\n\\n')\n",
    "print('Lowest negative world news article: \\n', news_df.iloc[neg_idx][['news_article']][0])"
   ]
  },
  {
   "cell_type": "markdown",
   "metadata": {},
   "source": [
    ">**Compare results between AFINN and TextBlob**"
   ]
  },
  {
   "cell_type": "code",
   "execution_count": 132,
   "metadata": {},
   "outputs": [
    {
     "name": "stdout",
     "output_type": "stream",
     "text": [
      "                 Predicted:                 \n",
      "                   negative neutral positive\n",
      "Actual: negative         12       5       17\n",
      "        neutral           3       1        4\n",
      "        positive          4       2       26\n"
     ]
    }
   ],
   "source": [
    "import model_evaluation_utils as meu\n",
    "\n",
    "meu.display_confusion_matrix(true_labels=sentiment_category,\n",
    "                             predicted_labels=sentiment_category_tb,\n",
    "                             classes=['negative', 'neutral', 'positive'])"
   ]
  },
  {
   "cell_type": "markdown",
   "metadata": {},
   "source": [
    "Actual is AFINN and Predicted is TextBlob"
   ]
  },
  {
   "cell_type": "code",
   "execution_count": null,
   "metadata": {},
   "outputs": [],
   "source": []
  }
 ],
 "metadata": {
  "kernelspec": {
   "display_name": "Python 3",
   "language": "python",
   "name": "python3"
  },
  "language_info": {
   "codemirror_mode": {
    "name": "ipython",
    "version": 3
   },
   "file_extension": ".py",
   "mimetype": "text/x-python",
   "name": "python",
   "nbconvert_exporter": "python",
   "pygments_lexer": "ipython3",
   "version": "3.7.3"
  }
 },
 "nbformat": 4,
 "nbformat_minor": 2
}
